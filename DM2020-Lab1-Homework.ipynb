{
 "cells": [
  {
   "cell_type": "markdown",
   "metadata": {},
   "source": [
    "### Student Information\n",
    "Name:Nichaporn Bunyakaranun\n",
    "\n",
    "Student ID:109065431\n",
    "\n",
    "GitHub ID:109065431"
   ]
  },
  {
   "cell_type": "markdown",
   "metadata": {},
   "source": [
    "---"
   ]
  },
  {
   "cell_type": "code",
   "execution_count": 108,
   "metadata": {},
   "outputs": [
    {
     "data": {
      "text/html": [
       "<div>\n",
       "<style scoped>\n",
       "    .dataframe tbody tr th:only-of-type {\n",
       "        vertical-align: middle;\n",
       "    }\n",
       "\n",
       "    .dataframe tbody tr th {\n",
       "        vertical-align: top;\n",
       "    }\n",
       "\n",
       "    .dataframe thead th {\n",
       "        text-align: right;\n",
       "    }\n",
       "</style>\n",
       "<table border=\"1\" class=\"dataframe\">\n",
       "  <thead>\n",
       "    <tr style=\"text-align: right;\">\n",
       "      <th></th>\n",
       "      <th>sentence</th>\n",
       "      <th>sentiment</th>\n",
       "      <th>company</th>\n",
       "    </tr>\n",
       "  </thead>\n",
       "  <tbody>\n",
       "    <tr>\n",
       "      <th>0</th>\n",
       "      <td>So there is no way for me to plug it in here i...</td>\n",
       "      <td>0</td>\n",
       "      <td>amazon</td>\n",
       "    </tr>\n",
       "    <tr>\n",
       "      <th>1</th>\n",
       "      <td>Good case, Excellent value.</td>\n",
       "      <td>1</td>\n",
       "      <td>amazon</td>\n",
       "    </tr>\n",
       "    <tr>\n",
       "      <th>2</th>\n",
       "      <td>Great for the jawbone.</td>\n",
       "      <td>1</td>\n",
       "      <td>amazon</td>\n",
       "    </tr>\n",
       "    <tr>\n",
       "      <th>3</th>\n",
       "      <td>Tied to charger for conversations lasting more...</td>\n",
       "      <td>0</td>\n",
       "      <td>amazon</td>\n",
       "    </tr>\n",
       "    <tr>\n",
       "      <th>4</th>\n",
       "      <td>The mic is great.</td>\n",
       "      <td>1</td>\n",
       "      <td>amazon</td>\n",
       "    </tr>\n",
       "    <tr>\n",
       "      <th>...</th>\n",
       "      <td>...</td>\n",
       "      <td>...</td>\n",
       "      <td>...</td>\n",
       "    </tr>\n",
       "    <tr>\n",
       "      <th>995</th>\n",
       "      <td>The screen does get smudged easily because it ...</td>\n",
       "      <td>0</td>\n",
       "      <td>amazon</td>\n",
       "    </tr>\n",
       "    <tr>\n",
       "      <th>996</th>\n",
       "      <td>What a piece of junk.. I lose more calls on th...</td>\n",
       "      <td>0</td>\n",
       "      <td>amazon</td>\n",
       "    </tr>\n",
       "    <tr>\n",
       "      <th>997</th>\n",
       "      <td>Item Does Not Match Picture.</td>\n",
       "      <td>0</td>\n",
       "      <td>amazon</td>\n",
       "    </tr>\n",
       "    <tr>\n",
       "      <th>998</th>\n",
       "      <td>The only thing that disappoint me is the infra...</td>\n",
       "      <td>0</td>\n",
       "      <td>amazon</td>\n",
       "    </tr>\n",
       "    <tr>\n",
       "      <th>999</th>\n",
       "      <td>You can not answer calls with the unit, never ...</td>\n",
       "      <td>0</td>\n",
       "      <td>amazon</td>\n",
       "    </tr>\n",
       "  </tbody>\n",
       "</table>\n",
       "<p>1000 rows × 3 columns</p>\n",
       "</div>"
      ],
      "text/plain": [
       "                                              sentence  sentiment company\n",
       "0    So there is no way for me to plug it in here i...          0  amazon\n",
       "1                          Good case, Excellent value.          1  amazon\n",
       "2                               Great for the jawbone.          1  amazon\n",
       "3    Tied to charger for conversations lasting more...          0  amazon\n",
       "4                                    The mic is great.          1  amazon\n",
       "..                                                 ...        ...     ...\n",
       "995  The screen does get smudged easily because it ...          0  amazon\n",
       "996  What a piece of junk.. I lose more calls on th...          0  amazon\n",
       "997                       Item Does Not Match Picture.          0  amazon\n",
       "998  The only thing that disappoint me is the infra...          0  amazon\n",
       "999  You can not answer calls with the unit, never ...          0  amazon\n",
       "\n",
       "[1000 rows x 3 columns]"
      ]
     },
     "execution_count": 108,
     "metadata": {},
     "output_type": "execute_result"
    }
   ],
   "source": [
    "### Begin Assignment Here\n",
    "\n",
    "# Data preparation (import text file)\n",
    "import pandas as pd\n",
    "df1=pd.read_csv('amazon_cells_labelled.txt', sep=\"\\t\", names=[\"sentence\", \"sentiment\"])\n",
    "df1['company']= \"amazon\"\n",
    "df1"
   ]
  },
  {
   "cell_type": "code",
   "execution_count": 109,
   "metadata": {},
   "outputs": [
    {
     "data": {
      "text/html": [
       "<div>\n",
       "<style scoped>\n",
       "    .dataframe tbody tr th:only-of-type {\n",
       "        vertical-align: middle;\n",
       "    }\n",
       "\n",
       "    .dataframe tbody tr th {\n",
       "        vertical-align: top;\n",
       "    }\n",
       "\n",
       "    .dataframe thead th {\n",
       "        text-align: right;\n",
       "    }\n",
       "</style>\n",
       "<table border=\"1\" class=\"dataframe\">\n",
       "  <thead>\n",
       "    <tr style=\"text-align: right;\">\n",
       "      <th></th>\n",
       "      <th>sentence</th>\n",
       "      <th>sentiment</th>\n",
       "      <th>company</th>\n",
       "    </tr>\n",
       "  </thead>\n",
       "  <tbody>\n",
       "    <tr>\n",
       "      <th>0</th>\n",
       "      <td>A very, very, very slow-moving, aimless movie ...</td>\n",
       "      <td>0</td>\n",
       "      <td>imdb</td>\n",
       "    </tr>\n",
       "    <tr>\n",
       "      <th>1</th>\n",
       "      <td>Not sure who was more lost - the flat characte...</td>\n",
       "      <td>0</td>\n",
       "      <td>imdb</td>\n",
       "    </tr>\n",
       "    <tr>\n",
       "      <th>2</th>\n",
       "      <td>Attempting artiness with black &amp; white and cle...</td>\n",
       "      <td>0</td>\n",
       "      <td>imdb</td>\n",
       "    </tr>\n",
       "    <tr>\n",
       "      <th>3</th>\n",
       "      <td>Very little music or anything to speak of.</td>\n",
       "      <td>0</td>\n",
       "      <td>imdb</td>\n",
       "    </tr>\n",
       "    <tr>\n",
       "      <th>4</th>\n",
       "      <td>The best scene in the movie was when Gerardo i...</td>\n",
       "      <td>1</td>\n",
       "      <td>imdb</td>\n",
       "    </tr>\n",
       "    <tr>\n",
       "      <th>...</th>\n",
       "      <td>...</td>\n",
       "      <td>...</td>\n",
       "      <td>...</td>\n",
       "    </tr>\n",
       "    <tr>\n",
       "      <th>743</th>\n",
       "      <td>I just got bored watching Jessice Lange take h...</td>\n",
       "      <td>0</td>\n",
       "      <td>imdb</td>\n",
       "    </tr>\n",
       "    <tr>\n",
       "      <th>744</th>\n",
       "      <td>Unfortunately, any virtue in this film's produ...</td>\n",
       "      <td>0</td>\n",
       "      <td>imdb</td>\n",
       "    </tr>\n",
       "    <tr>\n",
       "      <th>745</th>\n",
       "      <td>In a word, it is embarrassing.</td>\n",
       "      <td>0</td>\n",
       "      <td>imdb</td>\n",
       "    </tr>\n",
       "    <tr>\n",
       "      <th>746</th>\n",
       "      <td>Exceptionally bad!</td>\n",
       "      <td>0</td>\n",
       "      <td>imdb</td>\n",
       "    </tr>\n",
       "    <tr>\n",
       "      <th>747</th>\n",
       "      <td>All in all its an insult to one's intelligence...</td>\n",
       "      <td>0</td>\n",
       "      <td>imdb</td>\n",
       "    </tr>\n",
       "  </tbody>\n",
       "</table>\n",
       "<p>748 rows × 3 columns</p>\n",
       "</div>"
      ],
      "text/plain": [
       "                                              sentence  sentiment company\n",
       "0    A very, very, very slow-moving, aimless movie ...          0    imdb\n",
       "1    Not sure who was more lost - the flat characte...          0    imdb\n",
       "2    Attempting artiness with black & white and cle...          0    imdb\n",
       "3         Very little music or anything to speak of.            0    imdb\n",
       "4    The best scene in the movie was when Gerardo i...          1    imdb\n",
       "..                                                 ...        ...     ...\n",
       "743  I just got bored watching Jessice Lange take h...          0    imdb\n",
       "744  Unfortunately, any virtue in this film's produ...          0    imdb\n",
       "745                   In a word, it is embarrassing.            0    imdb\n",
       "746                               Exceptionally bad!            0    imdb\n",
       "747  All in all its an insult to one's intelligence...          0    imdb\n",
       "\n",
       "[748 rows x 3 columns]"
      ]
     },
     "execution_count": 109,
     "metadata": {},
     "output_type": "execute_result"
    }
   ],
   "source": [
    "df2=pd.read_csv('imdb_labelled.txt', sep=\"\\t\", names=[\"sentence\", \"sentiment\"])\n",
    "df2['company']= \"imdb\"\n",
    "df2"
   ]
  },
  {
   "cell_type": "code",
   "execution_count": 110,
   "metadata": {},
   "outputs": [
    {
     "data": {
      "text/html": [
       "<div>\n",
       "<style scoped>\n",
       "    .dataframe tbody tr th:only-of-type {\n",
       "        vertical-align: middle;\n",
       "    }\n",
       "\n",
       "    .dataframe tbody tr th {\n",
       "        vertical-align: top;\n",
       "    }\n",
       "\n",
       "    .dataframe thead th {\n",
       "        text-align: right;\n",
       "    }\n",
       "</style>\n",
       "<table border=\"1\" class=\"dataframe\">\n",
       "  <thead>\n",
       "    <tr style=\"text-align: right;\">\n",
       "      <th></th>\n",
       "      <th>sentence</th>\n",
       "      <th>sentiment</th>\n",
       "      <th>company</th>\n",
       "    </tr>\n",
       "  </thead>\n",
       "  <tbody>\n",
       "    <tr>\n",
       "      <th>0</th>\n",
       "      <td>Wow... Loved this place.</td>\n",
       "      <td>1</td>\n",
       "      <td>yelp</td>\n",
       "    </tr>\n",
       "    <tr>\n",
       "      <th>1</th>\n",
       "      <td>Crust is not good.</td>\n",
       "      <td>0</td>\n",
       "      <td>yelp</td>\n",
       "    </tr>\n",
       "    <tr>\n",
       "      <th>2</th>\n",
       "      <td>Not tasty and the texture was just nasty.</td>\n",
       "      <td>0</td>\n",
       "      <td>yelp</td>\n",
       "    </tr>\n",
       "    <tr>\n",
       "      <th>3</th>\n",
       "      <td>Stopped by during the late May bank holiday of...</td>\n",
       "      <td>1</td>\n",
       "      <td>yelp</td>\n",
       "    </tr>\n",
       "    <tr>\n",
       "      <th>4</th>\n",
       "      <td>The selection on the menu was great and so wer...</td>\n",
       "      <td>1</td>\n",
       "      <td>yelp</td>\n",
       "    </tr>\n",
       "    <tr>\n",
       "      <th>...</th>\n",
       "      <td>...</td>\n",
       "      <td>...</td>\n",
       "      <td>...</td>\n",
       "    </tr>\n",
       "    <tr>\n",
       "      <th>995</th>\n",
       "      <td>I think food should have flavor and texture an...</td>\n",
       "      <td>0</td>\n",
       "      <td>yelp</td>\n",
       "    </tr>\n",
       "    <tr>\n",
       "      <th>996</th>\n",
       "      <td>Appetite instantly gone.</td>\n",
       "      <td>0</td>\n",
       "      <td>yelp</td>\n",
       "    </tr>\n",
       "    <tr>\n",
       "      <th>997</th>\n",
       "      <td>Overall I was not impressed and would not go b...</td>\n",
       "      <td>0</td>\n",
       "      <td>yelp</td>\n",
       "    </tr>\n",
       "    <tr>\n",
       "      <th>998</th>\n",
       "      <td>The whole experience was underwhelming, and I ...</td>\n",
       "      <td>0</td>\n",
       "      <td>yelp</td>\n",
       "    </tr>\n",
       "    <tr>\n",
       "      <th>999</th>\n",
       "      <td>Then, as if I hadn't wasted enough of my life ...</td>\n",
       "      <td>0</td>\n",
       "      <td>yelp</td>\n",
       "    </tr>\n",
       "  </tbody>\n",
       "</table>\n",
       "<p>1000 rows × 3 columns</p>\n",
       "</div>"
      ],
      "text/plain": [
       "                                              sentence  sentiment company\n",
       "0                             Wow... Loved this place.          1    yelp\n",
       "1                                   Crust is not good.          0    yelp\n",
       "2            Not tasty and the texture was just nasty.          0    yelp\n",
       "3    Stopped by during the late May bank holiday of...          1    yelp\n",
       "4    The selection on the menu was great and so wer...          1    yelp\n",
       "..                                                 ...        ...     ...\n",
       "995  I think food should have flavor and texture an...          0    yelp\n",
       "996                           Appetite instantly gone.          0    yelp\n",
       "997  Overall I was not impressed and would not go b...          0    yelp\n",
       "998  The whole experience was underwhelming, and I ...          0    yelp\n",
       "999  Then, as if I hadn't wasted enough of my life ...          0    yelp\n",
       "\n",
       "[1000 rows x 3 columns]"
      ]
     },
     "execution_count": 110,
     "metadata": {},
     "output_type": "execute_result"
    }
   ],
   "source": [
    "df3=pd.read_csv('yelp_labelled.txt', sep=\"\\t\", names=[\"sentence\", \"sentiment\"])\n",
    "df3['company']= \"yelp\"\n",
    "df3"
   ]
  },
  {
   "cell_type": "code",
   "execution_count": 111,
   "metadata": {},
   "outputs": [
    {
     "data": {
      "text/html": [
       "<div>\n",
       "<style scoped>\n",
       "    .dataframe tbody tr th:only-of-type {\n",
       "        vertical-align: middle;\n",
       "    }\n",
       "\n",
       "    .dataframe tbody tr th {\n",
       "        vertical-align: top;\n",
       "    }\n",
       "\n",
       "    .dataframe thead th {\n",
       "        text-align: right;\n",
       "    }\n",
       "</style>\n",
       "<table border=\"1\" class=\"dataframe\">\n",
       "  <thead>\n",
       "    <tr style=\"text-align: right;\">\n",
       "      <th></th>\n",
       "      <th>sentence</th>\n",
       "      <th>sentiment</th>\n",
       "      <th>company</th>\n",
       "    </tr>\n",
       "  </thead>\n",
       "  <tbody>\n",
       "    <tr>\n",
       "      <th>0</th>\n",
       "      <td>So there is no way for me to plug it in here i...</td>\n",
       "      <td>0</td>\n",
       "      <td>amazon</td>\n",
       "    </tr>\n",
       "    <tr>\n",
       "      <th>1</th>\n",
       "      <td>Good case, Excellent value.</td>\n",
       "      <td>1</td>\n",
       "      <td>amazon</td>\n",
       "    </tr>\n",
       "    <tr>\n",
       "      <th>2</th>\n",
       "      <td>Great for the jawbone.</td>\n",
       "      <td>1</td>\n",
       "      <td>amazon</td>\n",
       "    </tr>\n",
       "    <tr>\n",
       "      <th>3</th>\n",
       "      <td>Tied to charger for conversations lasting more...</td>\n",
       "      <td>0</td>\n",
       "      <td>amazon</td>\n",
       "    </tr>\n",
       "    <tr>\n",
       "      <th>4</th>\n",
       "      <td>The mic is great.</td>\n",
       "      <td>1</td>\n",
       "      <td>amazon</td>\n",
       "    </tr>\n",
       "    <tr>\n",
       "      <th>...</th>\n",
       "      <td>...</td>\n",
       "      <td>...</td>\n",
       "      <td>...</td>\n",
       "    </tr>\n",
       "    <tr>\n",
       "      <th>995</th>\n",
       "      <td>I think food should have flavor and texture an...</td>\n",
       "      <td>0</td>\n",
       "      <td>yelp</td>\n",
       "    </tr>\n",
       "    <tr>\n",
       "      <th>996</th>\n",
       "      <td>Appetite instantly gone.</td>\n",
       "      <td>0</td>\n",
       "      <td>yelp</td>\n",
       "    </tr>\n",
       "    <tr>\n",
       "      <th>997</th>\n",
       "      <td>Overall I was not impressed and would not go b...</td>\n",
       "      <td>0</td>\n",
       "      <td>yelp</td>\n",
       "    </tr>\n",
       "    <tr>\n",
       "      <th>998</th>\n",
       "      <td>The whole experience was underwhelming, and I ...</td>\n",
       "      <td>0</td>\n",
       "      <td>yelp</td>\n",
       "    </tr>\n",
       "    <tr>\n",
       "      <th>999</th>\n",
       "      <td>Then, as if I hadn't wasted enough of my life ...</td>\n",
       "      <td>0</td>\n",
       "      <td>yelp</td>\n",
       "    </tr>\n",
       "  </tbody>\n",
       "</table>\n",
       "<p>2748 rows × 3 columns</p>\n",
       "</div>"
      ],
      "text/plain": [
       "                                              sentence  sentiment company\n",
       "0    So there is no way for me to plug it in here i...          0  amazon\n",
       "1                          Good case, Excellent value.          1  amazon\n",
       "2                               Great for the jawbone.          1  amazon\n",
       "3    Tied to charger for conversations lasting more...          0  amazon\n",
       "4                                    The mic is great.          1  amazon\n",
       "..                                                 ...        ...     ...\n",
       "995  I think food should have flavor and texture an...          0    yelp\n",
       "996                           Appetite instantly gone.          0    yelp\n",
       "997  Overall I was not impressed and would not go b...          0    yelp\n",
       "998  The whole experience was underwhelming, and I ...          0    yelp\n",
       "999  Then, as if I hadn't wasted enough of my life ...          0    yelp\n",
       "\n",
       "[2748 rows x 3 columns]"
      ]
     },
     "execution_count": 111,
     "metadata": {},
     "output_type": "execute_result"
    }
   ],
   "source": [
    "#instruct dataframe\n",
    "df = pd.concat([df1, df2,df3])\n",
    "df"
   ]
  },
  {
   "cell_type": "code",
   "execution_count": 112,
   "metadata": {},
   "outputs": [
    {
     "data": {
      "text/plain": [
       "2748"
      ]
     },
     "execution_count": 112,
     "metadata": {},
     "output_type": "execute_result"
    }
   ],
   "source": [
    "len(df)"
   ]
  },
  {
   "cell_type": "code",
   "execution_count": 113,
   "metadata": {},
   "outputs": [
    {
     "data": {
      "text/html": [
       "<div>\n",
       "<style scoped>\n",
       "    .dataframe tbody tr th:only-of-type {\n",
       "        vertical-align: middle;\n",
       "    }\n",
       "\n",
       "    .dataframe tbody tr th {\n",
       "        vertical-align: top;\n",
       "    }\n",
       "\n",
       "    .dataframe thead th {\n",
       "        text-align: right;\n",
       "    }\n",
       "</style>\n",
       "<table border=\"1\" class=\"dataframe\">\n",
       "  <thead>\n",
       "    <tr style=\"text-align: right;\">\n",
       "      <th></th>\n",
       "      <th>sentence</th>\n",
       "      <th>sentiment</th>\n",
       "      <th>company</th>\n",
       "      <th>sentiment_name</th>\n",
       "    </tr>\n",
       "  </thead>\n",
       "  <tbody>\n",
       "    <tr>\n",
       "      <th>0</th>\n",
       "      <td>So there is no way for me to plug it in here i...</td>\n",
       "      <td>0</td>\n",
       "      <td>amazon</td>\n",
       "      <td>Negative</td>\n",
       "    </tr>\n",
       "    <tr>\n",
       "      <th>1</th>\n",
       "      <td>Good case, Excellent value.</td>\n",
       "      <td>1</td>\n",
       "      <td>amazon</td>\n",
       "      <td>Positive</td>\n",
       "    </tr>\n",
       "    <tr>\n",
       "      <th>2</th>\n",
       "      <td>Great for the jawbone.</td>\n",
       "      <td>1</td>\n",
       "      <td>amazon</td>\n",
       "      <td>Positive</td>\n",
       "    </tr>\n",
       "    <tr>\n",
       "      <th>3</th>\n",
       "      <td>Tied to charger for conversations lasting more...</td>\n",
       "      <td>0</td>\n",
       "      <td>amazon</td>\n",
       "      <td>Negative</td>\n",
       "    </tr>\n",
       "    <tr>\n",
       "      <th>4</th>\n",
       "      <td>The mic is great.</td>\n",
       "      <td>1</td>\n",
       "      <td>amazon</td>\n",
       "      <td>Positive</td>\n",
       "    </tr>\n",
       "    <tr>\n",
       "      <th>5</th>\n",
       "      <td>I have to jiggle the plug to get it to line up...</td>\n",
       "      <td>0</td>\n",
       "      <td>amazon</td>\n",
       "      <td>Negative</td>\n",
       "    </tr>\n",
       "    <tr>\n",
       "      <th>6</th>\n",
       "      <td>If you have several dozen or several hundred c...</td>\n",
       "      <td>0</td>\n",
       "      <td>amazon</td>\n",
       "      <td>Negative</td>\n",
       "    </tr>\n",
       "    <tr>\n",
       "      <th>7</th>\n",
       "      <td>If you are Razr owner...you must have this!</td>\n",
       "      <td>1</td>\n",
       "      <td>amazon</td>\n",
       "      <td>Positive</td>\n",
       "    </tr>\n",
       "    <tr>\n",
       "      <th>8</th>\n",
       "      <td>Needless to say, I wasted my money.</td>\n",
       "      <td>0</td>\n",
       "      <td>amazon</td>\n",
       "      <td>Negative</td>\n",
       "    </tr>\n",
       "    <tr>\n",
       "      <th>9</th>\n",
       "      <td>What a waste of money and time!.</td>\n",
       "      <td>0</td>\n",
       "      <td>amazon</td>\n",
       "      <td>Negative</td>\n",
       "    </tr>\n",
       "    <tr>\n",
       "      <th>10</th>\n",
       "      <td>And the sound quality is great.</td>\n",
       "      <td>1</td>\n",
       "      <td>amazon</td>\n",
       "      <td>Positive</td>\n",
       "    </tr>\n",
       "    <tr>\n",
       "      <th>11</th>\n",
       "      <td>He was very impressed when going from the orig...</td>\n",
       "      <td>1</td>\n",
       "      <td>amazon</td>\n",
       "      <td>Positive</td>\n",
       "    </tr>\n",
       "    <tr>\n",
       "      <th>12</th>\n",
       "      <td>If the two were seperated by a mere 5+ ft I st...</td>\n",
       "      <td>0</td>\n",
       "      <td>amazon</td>\n",
       "      <td>Negative</td>\n",
       "    </tr>\n",
       "    <tr>\n",
       "      <th>13</th>\n",
       "      <td>Very good quality though</td>\n",
       "      <td>1</td>\n",
       "      <td>amazon</td>\n",
       "      <td>Positive</td>\n",
       "    </tr>\n",
       "    <tr>\n",
       "      <th>14</th>\n",
       "      <td>The design is very odd, as the ear \"clip\" is n...</td>\n",
       "      <td>0</td>\n",
       "      <td>amazon</td>\n",
       "      <td>Negative</td>\n",
       "    </tr>\n",
       "    <tr>\n",
       "      <th>15</th>\n",
       "      <td>Highly recommend for any one who has a blue to...</td>\n",
       "      <td>1</td>\n",
       "      <td>amazon</td>\n",
       "      <td>Positive</td>\n",
       "    </tr>\n",
       "    <tr>\n",
       "      <th>16</th>\n",
       "      <td>I advise EVERYONE DO NOT BE FOOLED!</td>\n",
       "      <td>0</td>\n",
       "      <td>amazon</td>\n",
       "      <td>Negative</td>\n",
       "    </tr>\n",
       "    <tr>\n",
       "      <th>17</th>\n",
       "      <td>So Far So Good!.</td>\n",
       "      <td>1</td>\n",
       "      <td>amazon</td>\n",
       "      <td>Positive</td>\n",
       "    </tr>\n",
       "    <tr>\n",
       "      <th>18</th>\n",
       "      <td>Works great!.</td>\n",
       "      <td>1</td>\n",
       "      <td>amazon</td>\n",
       "      <td>Positive</td>\n",
       "    </tr>\n",
       "    <tr>\n",
       "      <th>19</th>\n",
       "      <td>It clicks into place in a way that makes you w...</td>\n",
       "      <td>0</td>\n",
       "      <td>amazon</td>\n",
       "      <td>Negative</td>\n",
       "    </tr>\n",
       "  </tbody>\n",
       "</table>\n",
       "</div>"
      ],
      "text/plain": [
       "                                             sentence  sentiment company  \\\n",
       "0   So there is no way for me to plug it in here i...          0  amazon   \n",
       "1                         Good case, Excellent value.          1  amazon   \n",
       "2                              Great for the jawbone.          1  amazon   \n",
       "3   Tied to charger for conversations lasting more...          0  amazon   \n",
       "4                                   The mic is great.          1  amazon   \n",
       "5   I have to jiggle the plug to get it to line up...          0  amazon   \n",
       "6   If you have several dozen or several hundred c...          0  amazon   \n",
       "7         If you are Razr owner...you must have this!          1  amazon   \n",
       "8                 Needless to say, I wasted my money.          0  amazon   \n",
       "9                    What a waste of money and time!.          0  amazon   \n",
       "10                    And the sound quality is great.          1  amazon   \n",
       "11  He was very impressed when going from the orig...          1  amazon   \n",
       "12  If the two were seperated by a mere 5+ ft I st...          0  amazon   \n",
       "13                           Very good quality though          1  amazon   \n",
       "14  The design is very odd, as the ear \"clip\" is n...          0  amazon   \n",
       "15  Highly recommend for any one who has a blue to...          1  amazon   \n",
       "16                I advise EVERYONE DO NOT BE FOOLED!          0  amazon   \n",
       "17                                   So Far So Good!.          1  amazon   \n",
       "18                                      Works great!.          1  amazon   \n",
       "19  It clicks into place in a way that makes you w...          0  amazon   \n",
       "\n",
       "   sentiment_name  \n",
       "0        Negative  \n",
       "1        Positive  \n",
       "2        Positive  \n",
       "3        Negative  \n",
       "4        Positive  \n",
       "5        Negative  \n",
       "6        Negative  \n",
       "7        Positive  \n",
       "8        Negative  \n",
       "9        Negative  \n",
       "10       Positive  \n",
       "11       Positive  \n",
       "12       Negative  \n",
       "13       Positive  \n",
       "14       Negative  \n",
       "15       Positive  \n",
       "16       Negative  \n",
       "17       Positive  \n",
       "18       Positive  \n",
       "19       Negative  "
      ]
     },
     "execution_count": 113,
     "metadata": {},
     "output_type": "execute_result"
    }
   ],
   "source": [
    "#Adding column sentiment_name\n",
    "import numpy as np\n",
    "df['sentiment_name'] = np.where(df.sentiment == 0 , 'Negative', 'Positive')  \n",
    "df[0:20]"
   ]
  },
  {
   "cell_type": "code",
   "execution_count": 114,
   "metadata": {
    "scrolled": true
   },
   "outputs": [
    {
     "data": {
      "text/html": [
       "<div>\n",
       "<style scoped>\n",
       "    .dataframe tbody tr th:only-of-type {\n",
       "        vertical-align: middle;\n",
       "    }\n",
       "\n",
       "    .dataframe tbody tr th {\n",
       "        vertical-align: top;\n",
       "    }\n",
       "\n",
       "    .dataframe thead th {\n",
       "        text-align: right;\n",
       "    }\n",
       "</style>\n",
       "<table border=\"1\" class=\"dataframe\">\n",
       "  <thead>\n",
       "    <tr style=\"text-align: right;\">\n",
       "      <th></th>\n",
       "      <th>sentence</th>\n",
       "      <th>sentiment</th>\n",
       "      <th>company</th>\n",
       "      <th>sentiment_name</th>\n",
       "    </tr>\n",
       "  </thead>\n",
       "  <tbody>\n",
       "    <tr>\n",
       "      <th>0</th>\n",
       "      <td>False</td>\n",
       "      <td>False</td>\n",
       "      <td>False</td>\n",
       "      <td>False</td>\n",
       "    </tr>\n",
       "    <tr>\n",
       "      <th>1</th>\n",
       "      <td>False</td>\n",
       "      <td>False</td>\n",
       "      <td>False</td>\n",
       "      <td>False</td>\n",
       "    </tr>\n",
       "    <tr>\n",
       "      <th>2</th>\n",
       "      <td>False</td>\n",
       "      <td>False</td>\n",
       "      <td>False</td>\n",
       "      <td>False</td>\n",
       "    </tr>\n",
       "    <tr>\n",
       "      <th>3</th>\n",
       "      <td>False</td>\n",
       "      <td>False</td>\n",
       "      <td>False</td>\n",
       "      <td>False</td>\n",
       "    </tr>\n",
       "    <tr>\n",
       "      <th>4</th>\n",
       "      <td>False</td>\n",
       "      <td>False</td>\n",
       "      <td>False</td>\n",
       "      <td>False</td>\n",
       "    </tr>\n",
       "    <tr>\n",
       "      <th>...</th>\n",
       "      <td>...</td>\n",
       "      <td>...</td>\n",
       "      <td>...</td>\n",
       "      <td>...</td>\n",
       "    </tr>\n",
       "    <tr>\n",
       "      <th>995</th>\n",
       "      <td>False</td>\n",
       "      <td>False</td>\n",
       "      <td>False</td>\n",
       "      <td>False</td>\n",
       "    </tr>\n",
       "    <tr>\n",
       "      <th>996</th>\n",
       "      <td>False</td>\n",
       "      <td>False</td>\n",
       "      <td>False</td>\n",
       "      <td>False</td>\n",
       "    </tr>\n",
       "    <tr>\n",
       "      <th>997</th>\n",
       "      <td>False</td>\n",
       "      <td>False</td>\n",
       "      <td>False</td>\n",
       "      <td>False</td>\n",
       "    </tr>\n",
       "    <tr>\n",
       "      <th>998</th>\n",
       "      <td>False</td>\n",
       "      <td>False</td>\n",
       "      <td>False</td>\n",
       "      <td>False</td>\n",
       "    </tr>\n",
       "    <tr>\n",
       "      <th>999</th>\n",
       "      <td>False</td>\n",
       "      <td>False</td>\n",
       "      <td>False</td>\n",
       "      <td>False</td>\n",
       "    </tr>\n",
       "  </tbody>\n",
       "</table>\n",
       "<p>2748 rows × 4 columns</p>\n",
       "</div>"
      ],
      "text/plain": [
       "     sentence  sentiment  company  sentiment_name\n",
       "0       False      False    False           False\n",
       "1       False      False    False           False\n",
       "2       False      False    False           False\n",
       "3       False      False    False           False\n",
       "4       False      False    False           False\n",
       "..        ...        ...      ...             ...\n",
       "995     False      False    False           False\n",
       "996     False      False    False           False\n",
       "997     False      False    False           False\n",
       "998     False      False    False           False\n",
       "999     False      False    False           False\n",
       "\n",
       "[2748 rows x 4 columns]"
      ]
     },
     "execution_count": 114,
     "metadata": {},
     "output_type": "execute_result"
    }
   ],
   "source": [
    "#Finding missing value\n",
    "df.isnull()"
   ]
  },
  {
   "cell_type": "code",
   "execution_count": 115,
   "metadata": {},
   "outputs": [
    {
     "data": {
      "text/html": [
       "<div>\n",
       "<style scoped>\n",
       "    .dataframe tbody tr th:only-of-type {\n",
       "        vertical-align: middle;\n",
       "    }\n",
       "\n",
       "    .dataframe tbody tr th {\n",
       "        vertical-align: top;\n",
       "    }\n",
       "\n",
       "    .dataframe thead th {\n",
       "        text-align: right;\n",
       "    }\n",
       "</style>\n",
       "<table border=\"1\" class=\"dataframe\">\n",
       "  <thead>\n",
       "    <tr style=\"text-align: right;\">\n",
       "      <th></th>\n",
       "      <th>sentence</th>\n",
       "      <th>sentiment</th>\n",
       "      <th>company</th>\n",
       "      <th>sentiment_name</th>\n",
       "    </tr>\n",
       "  </thead>\n",
       "  <tbody>\n",
       "    <tr>\n",
       "      <th>0</th>\n",
       "      <td>The amoung of missing records is:</td>\n",
       "      <td>The amoung of missing records is:</td>\n",
       "      <td>The amoung of missing records is:</td>\n",
       "      <td>The amoung of missing records is:</td>\n",
       "    </tr>\n",
       "    <tr>\n",
       "      <th>1</th>\n",
       "      <td>0</td>\n",
       "      <td>0</td>\n",
       "      <td>0</td>\n",
       "      <td>0</td>\n",
       "    </tr>\n",
       "  </tbody>\n",
       "</table>\n",
       "</div>"
      ],
      "text/plain": [
       "                             sentence                           sentiment  \\\n",
       "0  The amoung of missing records is:   The amoung of missing records is:    \n",
       "1                                   0                                   0   \n",
       "\n",
       "                              company                      sentiment_name  \n",
       "0  The amoung of missing records is:   The amoung of missing records is:   \n",
       "1                                   0                                   0  "
      ]
     },
     "execution_count": 115,
     "metadata": {},
     "output_type": "execute_result"
    }
   ],
   "source": [
    "#Count missing value\n",
    "import helpers.data_mining_helpers as dmh\n",
    "df.isnull().apply(lambda x: dmh.check_missing_values(x))"
   ]
  },
  {
   "cell_type": "code",
   "execution_count": 116,
   "metadata": {},
   "outputs": [
    {
     "data": {
      "text/plain": [
       "17"
      ]
     },
     "execution_count": 116,
     "metadata": {},
     "output_type": "execute_result"
    }
   ],
   "source": [
    "#Find duplicated value\n",
    "sum(df.duplicated('sentence'))                                       "
   ]
  },
  {
   "cell_type": "code",
   "execution_count": 117,
   "metadata": {},
   "outputs": [
    {
     "data": {
      "text/html": [
       "<div>\n",
       "<style scoped>\n",
       "    .dataframe tbody tr th:only-of-type {\n",
       "        vertical-align: middle;\n",
       "    }\n",
       "\n",
       "    .dataframe tbody tr th {\n",
       "        vertical-align: top;\n",
       "    }\n",
       "\n",
       "    .dataframe thead th {\n",
       "        text-align: right;\n",
       "    }\n",
       "</style>\n",
       "<table border=\"1\" class=\"dataframe\">\n",
       "  <thead>\n",
       "    <tr style=\"text-align: right;\">\n",
       "      <th></th>\n",
       "      <th>sentence</th>\n",
       "      <th>sentiment</th>\n",
       "      <th>company</th>\n",
       "      <th>sentiment_name</th>\n",
       "    </tr>\n",
       "  </thead>\n",
       "  <tbody>\n",
       "    <tr>\n",
       "      <th>590</th>\n",
       "      <td>10/10</td>\n",
       "      <td>1</td>\n",
       "      <td>imdb</td>\n",
       "      <td>Positive</td>\n",
       "    </tr>\n",
       "    <tr>\n",
       "      <th>165</th>\n",
       "      <td>Definitely worth checking out.</td>\n",
       "      <td>1</td>\n",
       "      <td>imdb</td>\n",
       "      <td>Positive</td>\n",
       "    </tr>\n",
       "    <tr>\n",
       "      <th>748</th>\n",
       "      <td>Does not fit.</td>\n",
       "      <td>0</td>\n",
       "      <td>amazon</td>\n",
       "      <td>Negative</td>\n",
       "    </tr>\n",
       "    <tr>\n",
       "      <th>543</th>\n",
       "      <td>Don't buy this product.</td>\n",
       "      <td>0</td>\n",
       "      <td>amazon</td>\n",
       "      <td>Negative</td>\n",
       "    </tr>\n",
       "    <tr>\n",
       "      <th>892</th>\n",
       "      <td>Excellent product for the price.</td>\n",
       "      <td>1</td>\n",
       "      <td>amazon</td>\n",
       "      <td>Positive</td>\n",
       "    </tr>\n",
       "    <tr>\n",
       "      <th>792</th>\n",
       "      <td>Great Phone.</td>\n",
       "      <td>1</td>\n",
       "      <td>amazon</td>\n",
       "      <td>Positive</td>\n",
       "    </tr>\n",
       "    <tr>\n",
       "      <th>285</th>\n",
       "      <td>Great phone!.</td>\n",
       "      <td>1</td>\n",
       "      <td>amazon</td>\n",
       "      <td>Positive</td>\n",
       "    </tr>\n",
       "    <tr>\n",
       "      <th>896</th>\n",
       "      <td>Great phone.</td>\n",
       "      <td>1</td>\n",
       "      <td>amazon</td>\n",
       "      <td>Positive</td>\n",
       "    </tr>\n",
       "    <tr>\n",
       "      <th>814</th>\n",
       "      <td>I love this place.</td>\n",
       "      <td>1</td>\n",
       "      <td>yelp</td>\n",
       "      <td>Positive</td>\n",
       "    </tr>\n",
       "    <tr>\n",
       "      <th>843</th>\n",
       "      <td>I won't be back.</td>\n",
       "      <td>0</td>\n",
       "      <td>yelp</td>\n",
       "      <td>Negative</td>\n",
       "    </tr>\n",
       "    <tr>\n",
       "      <th>846</th>\n",
       "      <td>I would not recommend this place.</td>\n",
       "      <td>0</td>\n",
       "      <td>yelp</td>\n",
       "      <td>Negative</td>\n",
       "    </tr>\n",
       "    <tr>\n",
       "      <th>744</th>\n",
       "      <td>If you like a loud buzzing to override all you...</td>\n",
       "      <td>0</td>\n",
       "      <td>amazon</td>\n",
       "      <td>Negative</td>\n",
       "    </tr>\n",
       "    <tr>\n",
       "      <th>387</th>\n",
       "      <td>Not recommended.</td>\n",
       "      <td>0</td>\n",
       "      <td>imdb</td>\n",
       "      <td>Negative</td>\n",
       "    </tr>\n",
       "    <tr>\n",
       "      <th>816</th>\n",
       "      <td>The food was terrible.</td>\n",
       "      <td>0</td>\n",
       "      <td>yelp</td>\n",
       "      <td>Negative</td>\n",
       "    </tr>\n",
       "    <tr>\n",
       "      <th>778</th>\n",
       "      <td>This is a great deal.</td>\n",
       "      <td>1</td>\n",
       "      <td>amazon</td>\n",
       "      <td>Positive</td>\n",
       "    </tr>\n",
       "    <tr>\n",
       "      <th>524</th>\n",
       "      <td>Works great!.</td>\n",
       "      <td>1</td>\n",
       "      <td>amazon</td>\n",
       "      <td>Positive</td>\n",
       "    </tr>\n",
       "    <tr>\n",
       "      <th>407</th>\n",
       "      <td>Works great.</td>\n",
       "      <td>1</td>\n",
       "      <td>amazon</td>\n",
       "      <td>Positive</td>\n",
       "    </tr>\n",
       "  </tbody>\n",
       "</table>\n",
       "</div>"
      ],
      "text/plain": [
       "                                              sentence  sentiment company  \\\n",
       "590                                            10/10            1    imdb   \n",
       "165                   Definitely worth checking out.            1    imdb   \n",
       "748                                      Does not fit.          0  amazon   \n",
       "543                            Don't buy this product.          0  amazon   \n",
       "892                   Excellent product for the price.          1  amazon   \n",
       "792                                       Great Phone.          1  amazon   \n",
       "285                                      Great phone!.          1  amazon   \n",
       "896                                       Great phone.          1  amazon   \n",
       "814                                 I love this place.          1    yelp   \n",
       "843                                   I won't be back.          0    yelp   \n",
       "846                  I would not recommend this place.          0    yelp   \n",
       "744  If you like a loud buzzing to override all you...          0  amazon   \n",
       "387                                 Not recommended.            0    imdb   \n",
       "816                             The food was terrible.          0    yelp   \n",
       "778                              This is a great deal.          1  amazon   \n",
       "524                                      Works great!.          1  amazon   \n",
       "407                                       Works great.          1  amazon   \n",
       "\n",
       "    sentiment_name  \n",
       "590       Positive  \n",
       "165       Positive  \n",
       "748       Negative  \n",
       "543       Negative  \n",
       "892       Positive  \n",
       "792       Positive  \n",
       "285       Positive  \n",
       "896       Positive  \n",
       "814       Positive  \n",
       "843       Negative  \n",
       "846       Negative  \n",
       "744       Negative  \n",
       "387       Negative  \n",
       "816       Negative  \n",
       "778       Positive  \n",
       "524       Positive  \n",
       "407       Positive  "
      ]
     },
     "execution_count": 117,
     "metadata": {},
     "output_type": "execute_result"
    }
   ],
   "source": [
    "#Let's see duplicated sentences, and sort by lexical                           \n",
    "df[df.duplicated()].sort_values(by=['sentence']) "
   ]
  },
  {
   "cell_type": "code",
   "execution_count": 118,
   "metadata": {},
   "outputs": [],
   "source": [
    "df.drop_duplicates(keep='first', inplace=True)"
   ]
  },
  {
   "cell_type": "code",
   "execution_count": 119,
   "metadata": {},
   "outputs": [
    {
     "data": {
      "text/plain": [
       "2731"
      ]
     },
     "execution_count": 119,
     "metadata": {},
     "output_type": "execute_result"
    }
   ],
   "source": [
    "len(df)"
   ]
  },
  {
   "cell_type": "code",
   "execution_count": 120,
   "metadata": {},
   "outputs": [],
   "source": [
    "#Sampling data\n",
    "df_sample=df.sample(n=500, random_state=1)                                  "
   ]
  },
  {
   "cell_type": "code",
   "execution_count": 121,
   "metadata": {},
   "outputs": [
    {
     "data": {
      "text/plain": [
       "500"
      ]
     },
     "execution_count": 121,
     "metadata": {},
     "output_type": "execute_result"
    }
   ],
   "source": [
    "len(df_sample)"
   ]
  },
  {
   "cell_type": "code",
   "execution_count": 122,
   "metadata": {},
   "outputs": [
    {
     "data": {
      "text/html": [
       "<div>\n",
       "<style scoped>\n",
       "    .dataframe tbody tr th:only-of-type {\n",
       "        vertical-align: middle;\n",
       "    }\n",
       "\n",
       "    .dataframe tbody tr th {\n",
       "        vertical-align: top;\n",
       "    }\n",
       "\n",
       "    .dataframe thead th {\n",
       "        text-align: right;\n",
       "    }\n",
       "</style>\n",
       "<table border=\"1\" class=\"dataframe\">\n",
       "  <thead>\n",
       "    <tr style=\"text-align: right;\">\n",
       "      <th></th>\n",
       "      <th>sentence</th>\n",
       "      <th>sentiment</th>\n",
       "      <th>company</th>\n",
       "      <th>sentiment_name</th>\n",
       "    </tr>\n",
       "  </thead>\n",
       "  <tbody>\n",
       "    <tr>\n",
       "      <th>99</th>\n",
       "      <td>THERE IS NO PLOT OR STORYLINE!!</td>\n",
       "      <td>0</td>\n",
       "      <td>imdb</td>\n",
       "      <td>Negative</td>\n",
       "    </tr>\n",
       "    <tr>\n",
       "      <th>293</th>\n",
       "      <td>DO NOT PURCHASE THIS PHONE.</td>\n",
       "      <td>0</td>\n",
       "      <td>amazon</td>\n",
       "      <td>Negative</td>\n",
       "    </tr>\n",
       "    <tr>\n",
       "      <th>298</th>\n",
       "      <td>Customer service was terrible.</td>\n",
       "      <td>0</td>\n",
       "      <td>amazon</td>\n",
       "      <td>Negative</td>\n",
       "    </tr>\n",
       "    <tr>\n",
       "      <th>655</th>\n",
       "      <td>The fried rice was dry as well.</td>\n",
       "      <td>0</td>\n",
       "      <td>yelp</td>\n",
       "      <td>Negative</td>\n",
       "    </tr>\n",
       "    <tr>\n",
       "      <th>885</th>\n",
       "      <td>When it opens, the battery connection is broke...</td>\n",
       "      <td>0</td>\n",
       "      <td>amazon</td>\n",
       "      <td>Negative</td>\n",
       "    </tr>\n",
       "    <tr>\n",
       "      <th>...</th>\n",
       "      <td>...</td>\n",
       "      <td>...</td>\n",
       "      <td>...</td>\n",
       "      <td>...</td>\n",
       "    </tr>\n",
       "    <tr>\n",
       "      <th>111</th>\n",
       "      <td>This phone is slim and light and the display i...</td>\n",
       "      <td>1</td>\n",
       "      <td>amazon</td>\n",
       "      <td>Positive</td>\n",
       "    </tr>\n",
       "    <tr>\n",
       "      <th>333</th>\n",
       "      <td>the cast was great.</td>\n",
       "      <td>1</td>\n",
       "      <td>imdb</td>\n",
       "      <td>Positive</td>\n",
       "    </tr>\n",
       "    <tr>\n",
       "      <th>219</th>\n",
       "      <td>I'm still infatuated with this phone.</td>\n",
       "      <td>1</td>\n",
       "      <td>amazon</td>\n",
       "      <td>Positive</td>\n",
       "    </tr>\n",
       "    <tr>\n",
       "      <th>259</th>\n",
       "      <td>very tough and very short on flavor!</td>\n",
       "      <td>0</td>\n",
       "      <td>yelp</td>\n",
       "      <td>Negative</td>\n",
       "    </tr>\n",
       "    <tr>\n",
       "      <th>662</th>\n",
       "      <td>The owners are super friendly and the staff is...</td>\n",
       "      <td>1</td>\n",
       "      <td>yelp</td>\n",
       "      <td>Positive</td>\n",
       "    </tr>\n",
       "  </tbody>\n",
       "</table>\n",
       "<p>500 rows × 4 columns</p>\n",
       "</div>"
      ],
      "text/plain": [
       "                                              sentence  sentiment company  \\\n",
       "99                   THERE IS NO PLOT OR STORYLINE!!            0    imdb   \n",
       "293                        DO NOT PURCHASE THIS PHONE.          0  amazon   \n",
       "298                     Customer service was terrible.          0  amazon   \n",
       "655                    The fried rice was dry as well.          0    yelp   \n",
       "885  When it opens, the battery connection is broke...          0  amazon   \n",
       "..                                                 ...        ...     ...   \n",
       "111  This phone is slim and light and the display i...          1  amazon   \n",
       "333                              the cast was great.            1    imdb   \n",
       "219              I'm still infatuated with this phone.          1  amazon   \n",
       "259               very tough and very short on flavor!          0    yelp   \n",
       "662  The owners are super friendly and the staff is...          1    yelp   \n",
       "\n",
       "    sentiment_name  \n",
       "99        Negative  \n",
       "293       Negative  \n",
       "298       Negative  \n",
       "655       Negative  \n",
       "885       Negative  \n",
       "..             ...  \n",
       "111       Positive  \n",
       "333       Positive  \n",
       "219       Positive  \n",
       "259       Negative  \n",
       "662       Positive  \n",
       "\n",
       "[500 rows x 4 columns]"
      ]
     },
     "execution_count": 122,
     "metadata": {},
     "output_type": "execute_result"
    }
   ],
   "source": [
    "df_sample[0:500]"
   ]
  },
  {
   "cell_type": "code",
   "execution_count": 123,
   "metadata": {
    "scrolled": false
   },
   "outputs": [
    {
     "data": {
      "text/plain": [
       "<AxesSubplot:>"
      ]
     },
     "execution_count": 123,
     "metadata": {},
     "output_type": "execute_result"
    },
    {
     "data": {
      "image/png": "[encoded data removed]",
      "text/plain": [
       "<Figure size 504x360 with 1 Axes>"
      ]
     },
     "metadata": {
      "needs_background": "light"
     },
     "output_type": "display_data"
    }
   ],
   "source": [
    "#check whether sampling is representative\n",
    "pd.concat({'Original_data': df['sentiment_name'].value_counts(), 'sampling_data': df_sample['sentiment_name'].value_counts()\n",
    "}, axis=1).plot(kind='bar', rot = 0, figsize=(7, 5))\n",
    "\n",
    "#we can see that the sampling data represents to original data"
   ]
  },
  {
   "cell_type": "code",
   "execution_count": 124,
   "metadata": {},
   "outputs": [],
   "source": [
    "#Feature Creation\n",
    "import nltk\n",
    "\n",
    "# takes a like a minute or two to process\n",
    "df_sample['unigrams'] = df_sample['sentence'].apply(lambda x: dmh.tokenize_text(x))"
   ]
  },
  {
   "cell_type": "code",
   "execution_count": 125,
   "metadata": {},
   "outputs": [
    {
     "data": {
      "text/plain": [
       "99     [THERE, IS, NO, PLOT, OR, STORYLINE, !, !]\n",
       "293           [DO, NOT, PURCHASE, THIS, PHONE, .]\n",
       "298         [Customer, service, was, terrible, .]\n",
       "655     [The, fried, rice, was, dry, as, well, .]\n",
       "Name: unigrams, dtype: object"
      ]
     },
     "execution_count": 125,
     "metadata": {},
     "output_type": "execute_result"
    }
   ],
   "source": [
    "df_sample[0:4][\"unigrams\"]"
   ]
  },
  {
   "cell_type": "code",
   "execution_count": 126,
   "metadata": {},
   "outputs": [
    {
     "data": {
      "text/html": [
       "<div>\n",
       "<style scoped>\n",
       "    .dataframe tbody tr th:only-of-type {\n",
       "        vertical-align: middle;\n",
       "    }\n",
       "\n",
       "    .dataframe tbody tr th {\n",
       "        vertical-align: top;\n",
       "    }\n",
       "\n",
       "    .dataframe thead th {\n",
       "        text-align: right;\n",
       "    }\n",
       "</style>\n",
       "<table border=\"1\" class=\"dataframe\">\n",
       "  <thead>\n",
       "    <tr style=\"text-align: right;\">\n",
       "      <th></th>\n",
       "      <th>sentence</th>\n",
       "      <th>sentiment</th>\n",
       "      <th>company</th>\n",
       "      <th>sentiment_name</th>\n",
       "      <th>unigrams</th>\n",
       "    </tr>\n",
       "  </thead>\n",
       "  <tbody>\n",
       "    <tr>\n",
       "      <th>99</th>\n",
       "      <td>THERE IS NO PLOT OR STORYLINE!!</td>\n",
       "      <td>0</td>\n",
       "      <td>imdb</td>\n",
       "      <td>Negative</td>\n",
       "      <td>[THERE, IS, NO, PLOT, OR, STORYLINE, !, !]</td>\n",
       "    </tr>\n",
       "    <tr>\n",
       "      <th>293</th>\n",
       "      <td>DO NOT PURCHASE THIS PHONE.</td>\n",
       "      <td>0</td>\n",
       "      <td>amazon</td>\n",
       "      <td>Negative</td>\n",
       "      <td>[DO, NOT, PURCHASE, THIS, PHONE, .]</td>\n",
       "    </tr>\n",
       "    <tr>\n",
       "      <th>298</th>\n",
       "      <td>Customer service was terrible.</td>\n",
       "      <td>0</td>\n",
       "      <td>amazon</td>\n",
       "      <td>Negative</td>\n",
       "      <td>[Customer, service, was, terrible, .]</td>\n",
       "    </tr>\n",
       "    <tr>\n",
       "      <th>655</th>\n",
       "      <td>The fried rice was dry as well.</td>\n",
       "      <td>0</td>\n",
       "      <td>yelp</td>\n",
       "      <td>Negative</td>\n",
       "      <td>[The, fried, rice, was, dry, as, well, .]</td>\n",
       "    </tr>\n",
       "  </tbody>\n",
       "</table>\n",
       "</div>"
      ],
      "text/plain": [
       "                              sentence  sentiment company sentiment_name  \\\n",
       "99   THERE IS NO PLOT OR STORYLINE!!            0    imdb       Negative   \n",
       "293        DO NOT PURCHASE THIS PHONE.          0  amazon       Negative   \n",
       "298     Customer service was terrible.          0  amazon       Negative   \n",
       "655    The fried rice was dry as well.          0    yelp       Negative   \n",
       "\n",
       "                                       unigrams  \n",
       "99   [THERE, IS, NO, PLOT, OR, STORYLINE, !, !]  \n",
       "293         [DO, NOT, PURCHASE, THIS, PHONE, .]  \n",
       "298       [Customer, service, was, terrible, .]  \n",
       "655   [The, fried, rice, was, dry, as, well, .]  "
      ]
     },
     "execution_count": 126,
     "metadata": {},
     "output_type": "execute_result"
    }
   ],
   "source": [
    "df_sample[0:4]"
   ]
  },
  {
   "cell_type": "code",
   "execution_count": 127,
   "metadata": {},
   "outputs": [
    {
     "data": {
      "text/plain": [
       "[['THERE', 'IS', 'NO', 'PLOT', 'OR', 'STORYLINE', '!', '!']]"
      ]
     },
     "execution_count": 127,
     "metadata": {},
     "output_type": "execute_result"
    }
   ],
   "source": [
    "list(df_sample[0:1][\"unigrams\"])"
   ]
  },
  {
   "cell_type": "code",
   "execution_count": 128,
   "metadata": {},
   "outputs": [],
   "source": [
    "#Feature subset selection\n",
    "from sklearn.feature_extraction.text import CountVectorizer\n",
    "\n",
    "count_vect = CountVectorizer()\n",
    "df_sample_counts = count_vect.fit_transform(df_sample.sentence)"
   ]
  },
  {
   "cell_type": "code",
   "execution_count": 129,
   "metadata": {},
   "outputs": [
    {
     "data": {
      "text/plain": [
       "(500, 1621)"
      ]
     },
     "execution_count": 129,
     "metadata": {},
     "output_type": "execute_result"
    }
   ],
   "source": [
    "# Check the shape of this matrix by:\n",
    "df_sample_counts.shape"
   ]
  },
  {
   "cell_type": "code",
   "execution_count": 130,
   "metadata": {},
   "outputs": [
    {
     "data": {
      "text/plain": [
       "['10', '11', '12', '13', '15', '15g', '17', '1980', '20', '23']"
      ]
     },
     "execution_count": 130,
     "metadata": {},
     "output_type": "execute_result"
    }
   ],
   "source": [
    "# Let's see the feature names of the vectorizer (the terms)\n",
    "count_vect.get_feature_names()[0:10]"
   ]
  },
  {
   "cell_type": "code",
   "execution_count": 131,
   "metadata": {},
   "outputs": [
    {
     "data": {
      "text/html": [
       "<div>\n",
       "<style scoped>\n",
       "    .dataframe tbody tr th:only-of-type {\n",
       "        vertical-align: middle;\n",
       "    }\n",
       "\n",
       "    .dataframe tbody tr th {\n",
       "        vertical-align: top;\n",
       "    }\n",
       "\n",
       "    .dataframe thead th {\n",
       "        text-align: right;\n",
       "    }\n",
       "</style>\n",
       "<table border=\"1\" class=\"dataframe\">\n",
       "  <thead>\n",
       "    <tr style=\"text-align: right;\">\n",
       "      <th></th>\n",
       "      <th>sentence</th>\n",
       "      <th>sentiment</th>\n",
       "      <th>company</th>\n",
       "      <th>sentiment_name</th>\n",
       "      <th>unigrams</th>\n",
       "    </tr>\n",
       "  </thead>\n",
       "  <tbody>\n",
       "    <tr>\n",
       "      <th>99</th>\n",
       "      <td>THERE IS NO PLOT OR STORYLINE!!</td>\n",
       "      <td>0</td>\n",
       "      <td>imdb</td>\n",
       "      <td>Negative</td>\n",
       "      <td>[THERE, IS, NO, PLOT, OR, STORYLINE, !, !]</td>\n",
       "    </tr>\n",
       "    <tr>\n",
       "      <th>293</th>\n",
       "      <td>DO NOT PURCHASE THIS PHONE.</td>\n",
       "      <td>0</td>\n",
       "      <td>amazon</td>\n",
       "      <td>Negative</td>\n",
       "      <td>[DO, NOT, PURCHASE, THIS, PHONE, .]</td>\n",
       "    </tr>\n",
       "    <tr>\n",
       "      <th>298</th>\n",
       "      <td>Customer service was terrible.</td>\n",
       "      <td>0</td>\n",
       "      <td>amazon</td>\n",
       "      <td>Negative</td>\n",
       "      <td>[Customer, service, was, terrible, .]</td>\n",
       "    </tr>\n",
       "    <tr>\n",
       "      <th>655</th>\n",
       "      <td>The fried rice was dry as well.</td>\n",
       "      <td>0</td>\n",
       "      <td>yelp</td>\n",
       "      <td>Negative</td>\n",
       "      <td>[The, fried, rice, was, dry, as, well, .]</td>\n",
       "    </tr>\n",
       "    <tr>\n",
       "      <th>885</th>\n",
       "      <td>When it opens, the battery connection is broke...</td>\n",
       "      <td>0</td>\n",
       "      <td>amazon</td>\n",
       "      <td>Negative</td>\n",
       "      <td>[When, it, opens, ,, the, battery, connection,...</td>\n",
       "    </tr>\n",
       "  </tbody>\n",
       "</table>\n",
       "</div>"
      ],
      "text/plain": [
       "                                              sentence  sentiment company  \\\n",
       "99                   THERE IS NO PLOT OR STORYLINE!!            0    imdb   \n",
       "293                        DO NOT PURCHASE THIS PHONE.          0  amazon   \n",
       "298                     Customer service was terrible.          0  amazon   \n",
       "655                    The fried rice was dry as well.          0    yelp   \n",
       "885  When it opens, the battery connection is broke...          0  amazon   \n",
       "\n",
       "    sentiment_name                                           unigrams  \n",
       "99        Negative         [THERE, IS, NO, PLOT, OR, STORYLINE, !, !]  \n",
       "293       Negative                [DO, NOT, PURCHASE, THIS, PHONE, .]  \n",
       "298       Negative              [Customer, service, was, terrible, .]  \n",
       "655       Negative          [The, fried, rice, was, dry, as, well, .]  \n",
       "885       Negative  [When, it, opens, ,, the, battery, connection,...  "
      ]
     },
     "execution_count": 131,
     "metadata": {},
     "output_type": "execute_result"
    }
   ],
   "source": [
    "df_sample[0:5]"
   ]
  },
  {
   "cell_type": "code",
   "execution_count": 132,
   "metadata": {},
   "outputs": [
    {
     "data": {
      "image/png": "[encoded data removed]",
      "text/plain": [
       "<Figure size 720x720 with 2 Axes>"
      ]
     },
     "metadata": {
      "needs_background": "light"
     },
     "output_type": "display_data"
    }
   ],
   "source": [
    "# Find first top 50 frequency of terms, then visualize the heatmap of [0:50]sentence containing that top 50 frequency words .\n",
    "\n",
    "import seaborn as sns\n",
    "import matplotlib.pyplot as plt\n",
    "\n",
    "count_vect = CountVectorizer(max_features=20)    \n",
    "df_sample_counts = count_vect.fit_transform(df_sample.sentence)\n",
    "\n",
    "plot_x = [\"term_\"+str(i) for i in count_vect.get_feature_names()[0:20]]\n",
    "plot_y = [\"doc_\"+ str(i) for i in list(df_sample.index)[0:20]]\n",
    "plot_z = df_sample_counts[0:20, 0:20].toarray()\n",
    "\n",
    "df_todraw = pd.DataFrame(plot_z, columns = plot_x, index = plot_y, )\n",
    "plt.subplots(figsize=(10, 10))\n",
    "ax = sns.heatmap(df_todraw,\n",
    "                 cmap=\"Reds\",\n",
    "                 vmin=0, vmax=1, annot=True)"
   ]
  },
  {
   "cell_type": "code",
   "execution_count": 133,
   "metadata": {},
   "outputs": [],
   "source": [
    "#Dimensionality reduction\n",
    "from sklearn.decomposition import PCA\n",
    "count_vect = CountVectorizer()\n",
    "df_sample_counts = count_vect.fit_transform(df_sample.sentence) \n",
    "\n",
    "#Check PCA=2, then make scatter plot\n",
    "df_sample_reduced = pd.DataFrame(PCA(n_components = 2).fit_transform(df_sample_counts.toarray()), columns=['X','Y'])\n"
   ]
  },
  {
   "cell_type": "code",
   "execution_count": 134,
   "metadata": {},
   "outputs": [
    {
     "data": {
      "text/plain": [
       "(500, 2)"
      ]
     },
     "execution_count": 134,
     "metadata": {},
     "output_type": "execute_result"
    }
   ],
   "source": [
    "df_sample_reduced.shape"
   ]
  },
  {
   "cell_type": "code",
   "execution_count": 135,
   "metadata": {},
   "outputs": [
    {
     "data": {
      "application/vnd.plotly.v1+json": {
       "config": {
        "plotlyServerURL": "https://plot.ly"
       },
       "data": [
        {
         "hovertemplate": "color=Negative<br>X=%{x}<br>Y=%{y}<extra></extra>",
         "legendgroup": "Negative",
         "marker": {
          "color": "#636efa",
          "symbol": "circle"
         },
         "mode": "markers",
         "name": "Negative",
         "orientation": "v",
         "showlegend": true,
         "type": "scatter",
         "x": [
          -0.6184949194744933,
          -0.8409290045343353,
          -0.7559645789466982,
          0.17828409339566567,
          1.66527485852654,
          2.2873361052269825,
          0.5641075814445148,
          -0.859095242510747,
          0.3287596880544661,
          1.5843629908249772,
          0.5996310042167479,
          0.7836012234709632,
          1.3618683096194113,
          0.40312650319280935,
          1.7297969872652126,
          0.41646309247920416,
          -0.8672455852199632,
          0.3220761943543743,
          -0.8638907593623418,
          -0.8675435529563441,
          0.7071824578712845,
          -0.6436412900730399,
          -0.7875981442601412,
          0.7792276934654052,
          -0.32107510565095354,
          0.2832189908541219,
          -0.729727117370193,
          -0.8507726926000592,
          0.1134658313681621,
          -0.7448211731361621,
          -0.6084864673603816,
          -0.7447530613306681,
          1.2180413641309742,
          0.16544315565717654,
          -0.8269127701182011,
          -0.6184976586403911,
          -0.8975678439895427,
          2.209779718992686,
          1.465307908734173,
          -0.35604446263289197,
          -0.8604273209043789,
          -0.8511648198676857,
          -0.33840154887489327,
          -0.7921825765227662,
          -0.5432268183090723,
          -0.5501663323005137,
          0.47711908768732864,
          -0.8817157784689014,
          0.9947731674606431,
          -0.8562976587280162,
          -0.8407671447961731,
          -0.5473689336097349,
          0.017624415283069243,
          0.23730844565222037,
          -0.8784839982533029,
          -0.7034908169885005,
          -0.7829806738515518,
          -0.6356414783760376,
          -0.5684899736986062,
          0.9737564244023567,
          0.121576717737577,
          -0.8601963998895477,
          0.39139624645438964,
          -0.5686876490083412,
          -0.7532405378154988,
          0.27566310774005665,
          -0.5195741088965855,
          0.42503562536180467,
          0.6761251928346061,
          0.2506954580712834,
          0.7456010265452129,
          1.7922059832234316,
          1.6853795907233737,
          0.21649323190209321,
          0.11106415875881585,
          -0.883921840662003,
          -0.8619571230498875,
          -0.8827680477276231,
          -0.8731236851495305,
          -0.5365563029543642,
          -0.8572338117614504,
          0.06716715425928366,
          2.051401353604061,
          -0.6040631258964337,
          0.3578405198836058,
          0.1440687403057543,
          -0.8629749146029857,
          -0.5519738816348447,
          -0.5995917888459933,
          -0.38782780317259125,
          -0.7084923605565742,
          -0.6848107360005964,
          4.8279772562919385,
          -0.8620358876085648,
          -0.4944507841279061,
          -0.4676438758197984,
          -0.8823137602920051,
          1.3078516458861065,
          -0.7609356039926052,
          -0.7127396002178098,
          -0.8309438112513593,
          0.587198608287967,
          -0.09360196559991396,
          -0.8070483714756526,
          -0.8555745391563355,
          -0.4536146611691052,
          -0.6337530217584352,
          -0.8702382925137756,
          -0.9138165626202781,
          0.010945010140525893,
          0.7203199305350068,
          -0.8012811833864837,
          -0.6171412091614124,
          -0.8930024738341088,
          -0.4198832767359152,
          -0.6497292614390754,
          -0.7594580396819928,
          1.1131299010330802,
          0.11295041472817205,
          1.4408371484071583,
          1.0956435517817034,
          -0.43670714225556156,
          3.7297676872551677,
          -0.8732111506247568,
          -0.8348166540486814,
          -0.8772824315039741,
          0.39921400808608387,
          1.1770297617750733,
          0.2947280763672248,
          0.36094635292309,
          -0.6023542563940724,
          1.2281238587988859,
          -0.8670649870686226,
          -0.5420599222046459,
          -0.9080667451945461,
          -0.6833146135130994,
          -0.6556099832636193,
          -0.9177901828435676,
          -0.6967595973635914,
          -0.8682460425379904,
          -0.7842234903480003,
          -0.7332183881704711,
          1.4366750086146003,
          -0.012462851904606583,
          0.574721250573445,
          -0.5318986368968781,
          -0.8859732698675767,
          -0.71729238822007,
          -0.1247134211211811,
          -0.32281479530029045,
          0.2180846238524829,
          1.6367947447482698,
          0.15133694391455063,
          -0.7487300978499241,
          0.02820837922717788,
          -0.8183077384579959,
          -0.8883135824819709,
          0.5071131550014718,
          0.2504651478551549,
          -0.4959412922663868,
          -0.8621714865607605,
          -0.8003782645599447,
          -0.31373684714945643,
          -0.8311588191478567,
          -0.8085830280133403,
          1.0737945672719529,
          0.2378922728161381,
          -0.744778825134998,
          -0.7785827936188157,
          0.317919644509287,
          0.11398839847333166,
          -0.6100752772388259,
          1.1419364961268166,
          -0.8450704397048882,
          1.633364600177796,
          -0.4237095059060168,
          -0.8836195652898045,
          -0.8483983565905066,
          -0.8836195652898043,
          2.0359860472324263,
          0.14245224078159693,
          0.15390141373727895,
          -0.7764950171848943,
          0.14594637881262537,
          0.7151493636551485,
          -0.9209862734607617,
          -0.7081279422414815,
          0.13264341687402378,
          -0.7616620608183348,
          3.7805557369352276,
          -0.7004577454925115,
          -0.7552910586116437,
          -0.8440170691303035,
          -0.6231119603313329,
          -0.8067904628265202,
          -0.26027277398570503,
          0.59899632395286,
          -0.6617996854170365,
          -0.3486528407345008,
          -0.6398296714076365,
          -0.6137268902981271,
          0.18808155850173638,
          0.5254785543198404,
          -0.893669690024281,
          0.39067791548318237,
          1.5863099131866212,
          -0.8675690592953698,
          -0.69319346749334,
          0.16025603406417954,
          -0.6204943028664235,
          -0.7995734475128758,
          -0.7064290043182765,
          0.5761911910733365,
          2.39113757050602,
          -0.580736935659799,
          0.36182563371815724,
          -0.8497581089008404,
          -0.8253830903009851,
          0.8923538753489222,
          -0.8118863015663029,
          -0.4105258646967861,
          0.543404395177394,
          0.16957921076013815,
          -0.701110361525261,
          0.13388358395486474,
          1.0430755700512846,
          0.362712359157013,
          0.5038964728045596,
          -0.3263977522410295,
          1.495448770007274,
          -0.7706457545895748,
          -0.6483418872992835,
          0.36416233439916124,
          -0.03825812629276752,
          0.3228031322467264,
          -0.894469138878059,
          -0.626485025484012,
          -0.5578858276229588,
          0.9593443942046148,
          -0.811313373838017,
          1.5282900414559673,
          0.4301659001829337,
          0.8042265080842488,
          -0.5638079406986385,
          0.5579959676425664,
          -0.5246408942857917,
          -0.6125625456072966,
          -0.4710444686755046
         ],
         "xaxis": "x",
         "y": [
          -0.5452986022501621,
          -0.32269353882257273,
          0.5004494151493414,
          0.32657699170408866,
          -0.7403666320645139,
          -0.430970151822875,
          0.96637393865896,
          0.09363366453376225,
          0.42249290868828376,
          0.07527695945981534,
          0.8772828712769675,
          -0.5433352479943062,
          -0.9656061673567241,
          -0.3862470746312512,
          1.0824240065266653,
          -0.9447526232730739,
          -0.018964993577699624,
          -0.27945869335828116,
          -0.07531275638724043,
          -0.04091730463448484,
          -1.512065813110305,
          0.30029440379476674,
          -0.220929322804481,
          0.18334037788283106,
          -0.03976066754713697,
          -0.6119164699778555,
          -0.11996421756296681,
          -0.08608233254179762,
          0.4018770971479519,
          0.476090459331627,
          0.5642344977565105,
          -0.13908027061016726,
          0.3235339847600794,
          -0.295795559904093,
          -0.03186532522365478,
          -0.3686996523873515,
          -0.08018950495770509,
          -0.6989926332440535,
          0.47839556112694237,
          -0.9214865907787541,
          -0.09335528638551471,
          -0.0826777721194936,
          -1.6056857122312234,
          -0.15058431256333643,
          -0.8129792950443733,
          0.6179770411902481,
          -0.7321229732523649,
          -0.007974959030450132,
          -0.3477560390830799,
          -0.16544072542270258,
          -0.24486195238375683,
          0.4832697376690876,
          -0.1881558517604023,
          -0.27633815232959374,
          -0.15691238424332968,
          -0.16087565079955748,
          0.013328846706813,
          -0.8282470751249348,
          0.6516453147606384,
          0.6084433303817385,
          -0.5641553750549255,
          -0.0020984236101618415,
          0.9378217391253687,
          0.6329963137676514,
          -0.12945843295783896,
          -0.5774794216627274,
          0.5665024687087202,
          0.44765525881935686,
          0.9962303592261302,
          -0.17312129567113438,
          -0.35866328897773836,
          -0.29989713709364235,
          0.5016482216194971,
          -0.6479634256674399,
          0.3870392261887571,
          -0.01807513950805803,
          0.00926328578951754,
          0.006248253138141754,
          0.0020883214325838582,
          -0.09957423725177733,
          -0.010706982868660456,
          -0.13393500247295184,
          0.3681042032892594,
          -0.5884553871527999,
          -0.849033163097858,
          -0.14108743219670558,
          -0.07474077708521494,
          -0.23586963897726854,
          0.6057466056977582,
          0.6199534973324243,
          -0.2225303854962474,
          -0.17002859077171256,
          1.0337619212368596,
          -0.08425373929369792,
          -0.7942961930140475,
          0.557808121867951,
          -0.014936434958132802,
          0.7840789409449169,
          0.3776519268085753,
          -0.1142290308558521,
          -0.0884187034950371,
          -0.1558254938379166,
          0.8960577686355428,
          -0.3702522328955623,
          -0.08891825758094772,
          0.48110318200325203,
          -0.6898177401396383,
          -0.007593365595014669,
          -0.05450487194093594,
          -0.09374794869726334,
          1.0277188053703605,
          0.14211769752829853,
          -0.4151573708827781,
          -0.23829386907719596,
          0.6167946778192389,
          -0.5087614112219101,
          -0.03068326009825139,
          -0.742844518031835,
          -0.0995400758452116,
          0.7405791302299362,
          0.8405071881431484,
          1.0565975205135238,
          -0.6795657665939013,
          -0.021675648806966905,
          -0.07418005191907995,
          -0.37257099476944133,
          -0.23064419132618325,
          -1.0265094549797276,
          -0.25938774305133105,
          -0.695749315591241,
          0.625953445219918,
          0.5528341109221155,
          0.08850533740992096,
          -1.0696726649351784,
          -0.2571161149616908,
          -0.06628132829464844,
          -0.7638218245289161,
          -0.019550307804095862,
          0.5177161533811347,
          0.06442642493226731,
          -0.0860117869316587,
          0.3345064825563085,
          0.7415764802344875,
          -0.11866085668297743,
          0.9182095086695948,
          0.6558327906277811,
          -0.24697518464218496,
          -0.1492727477755191,
          1.272824574134196,
          0.6939313715933655,
          -0.6479313371365412,
          -0.6161235128545616,
          -0.1405156643116686,
          0.38097852048487113,
          -0.08738568639766013,
          -0.057115484300870545,
          -0.23469356314080467,
          -0.9176448336525634,
          -0.8957756910292337,
          -0.634636685729874,
          -0.03074001318813627,
          -0.02639699229017222,
          0.14972171037906307,
          -0.02690903640393249,
          -0.013291301654568814,
          -0.5327767276761025,
          -0.3200207184340745,
          -0.12943813804258678,
          -0.23176214762736577,
          -0.6191512159546478,
          -0.4977131712077301,
          -0.8511377294323551,
          -0.6999904727649718,
          -0.023033947085009256,
          -0.654843620156562,
          0.5885061166837032,
          -0.008019128501613073,
          0.10157378073349872,
          -0.008019128501495972,
          -0.5209444232858764,
          1.0112933985826866,
          -0.11099827658461771,
          -0.10231083554539444,
          0.5337506494333387,
          -0.07265781496925898,
          -0.050949288510205124,
          -0.36300176686295604,
          -0.17689514787663582,
          -0.06559998559971394,
          -0.46394567753657207,
          0.28869959937709294,
          -0.05479571710498388,
          0.02448390523408236,
          -0.6058743164458424,
          -0.002347885575018678,
          0.6360834937111964,
          -1.3734024613127027,
          -0.12683624168640148,
          -0.7635125791966758,
          0.42386701566903107,
          -0.5699511040907953,
          -0.3652587528153242,
          0.5293671446828594,
          -0.00868437137994013,
          0.6077162433956407,
          -0.13586723965096426,
          -0.2816883269477123,
          -0.3905330397771985,
          -0.2157930277515495,
          -0.5377229542287859,
          -0.016748853570735897,
          -0.1990382841191266,
          -1.0299277704396326,
          -1.103972406002974,
          0.6150996102470165,
          -0.503140801417803,
          0.11306234125008577,
          -0.05674080671262087,
          -0.2239925351788712,
          0.05468009746591233,
          -0.7108898343826874,
          1.2452255465877933,
          -0.4207876411964327,
          0.595264284050335,
          0.40763129881373483,
          2.1248579329308774,
          0.2009700796636022,
          -1.2711533449804984,
          -0.49081941330338885,
          0.4374649161682233,
          -0.27438268338654165,
          0.31224094430112354,
          -0.6253142536156879,
          -0.8604314700157232,
          -0.6777458677405122,
          -0.01669620335603134,
          -0.5915426547479287,
          0.5344919877225456,
          -0.1885024579828869,
          -0.08693825650487663,
          -1.10635614524666,
          -0.6827322353279597,
          1.7512153945126374,
          -0.9506629669977217,
          -1.171926157067332,
          -0.6361277085863482,
          0.6245678720610963,
          0.8571729358222673
         ],
         "yaxis": "y"
        },
        {
         "hovertemplate": "color=Positive<br>X=%{x}<br>Y=%{y}<extra></extra>",
         "legendgroup": "Positive",
         "marker": {
          "color": "#EF553B",
          "symbol": "circle"
         },
         "mode": "markers",
         "name": "Positive",
         "orientation": "v",
         "showlegend": true,
         "type": "scatter",
         "x": [
          -0.9117977495144415,
          0.2707304269404387,
          -0.5493751597691392,
          1.2265883059397393,
          1.659394658738816,
          -0.8599112573292333,
          -0.7542617794034778,
          1.2877388761048414,
          0.045908421310395346,
          1.6846491917170077,
          0.5294695389286108,
          0.367702672094557,
          0.4084698172011131,
          -0.45449887582352244,
          -0.8007763932917911,
          -0.8798201775518356,
          -0.5231154041743817,
          -0.37706255339149314,
          -0.5918128294543409,
          -0.5689500466062481,
          -0.8206488252802645,
          -0.8730570820888315,
          -0.5418049275745909,
          -0.36527313279353857,
          1.0684535378768671,
          0.31641481064575866,
          0.32517571841713805,
          1.7009572007369744,
          0.16468068321746548,
          0.7374775439713435,
          1.8101295427952375,
          0.550964791096374,
          0.23205493985309952,
          0.14116212532404288,
          0.7605599669070439,
          1.95412692636266,
          0.44263122852616776,
          0.549650261655967,
          -0.8588791818599526,
          0.5201807811173734,
          0.4107568518991338,
          -0.010832664239690766,
          1.2114352468230989,
          0.9696398593840104,
          2.2900895026766195,
          0.9996470959482607,
          2.751524659045707,
          0.0177013219079971,
          -0.8482906459464934,
          -0.8809479446901363,
          -0.8993395718735737,
          -0.5705324733674668,
          -0.2384889352133582,
          0.23019956256102697,
          -0.0029907091928805902,
          0.09765931692390294,
          -0.8459350907890657,
          -0.04915952942912537,
          1.1185971647268427,
          -0.8427831374431964,
          -0.8727639925356131,
          1.0776851437075485,
          0.1906123860080185,
          -0.8583488165924937,
          0.13873963094523298,
          -0.7182687243145033,
          -0.8586092772065623,
          -0.6590732825844406,
          -0.4466966134707612,
          -0.8588922518596861,
          1.0846449905541597,
          -0.3077778545339276,
          1.38937739123204,
          0.2240418238290424,
          -0.5255488915222786,
          -0.6596167072287012,
          0.4202301195149799,
          0.4070010266594059,
          0.6120223897574953,
          0.96592385095918,
          -0.8729303785512382,
          -0.8434796644780957,
          0.5248626059005989,
          0.7441813600445797,
          0.5789337792389884,
          -0.8661257655021614,
          0.3822944319822024,
          -0.6270137252628272,
          1.4591429794553739,
          0.227876304906555,
          -0.8615561654339237,
          0.14892641899682502,
          -0.8824506912715587,
          -0.6007804810514115,
          0.84716114890549,
          -0.5182143410051994,
          0.46344142701144486,
          2.4319965321318073,
          0.5499384008621612,
          0.8883632359483029,
          -0.5185173607051177,
          0.02423868126673971,
          -0.7971265320894427,
          -0.3802862232105388,
          -0.575956000028288,
          -0.8822341143855091,
          -0.8818491294187667,
          2.676122284316049,
          0.3687053480397463,
          0.22744002590651927,
          0.43339537014437135,
          -0.6478137937930818,
          -0.0073916134504208135,
          0.40273426449243455,
          0.27555522217977274,
          -0.858115685289473,
          -0.20486156778824685,
          1.200119466819637,
          -0.6090384159756561,
          -0.7410447284559312,
          -0.7418328267555431,
          0.6468903412222776,
          0.96195994543549,
          -0.8658494945647479,
          0.77208671759169,
          -0.7831436825319376,
          1.8618193544079937,
          -0.8599112573292336,
          0.5410180369858558,
          4.828082009682553,
          -0.5980981414952093,
          1.9653660791704155,
          -0.8837773264560046,
          0.5090856949752344,
          -0.5582989493207,
          0.42393934622039897,
          -0.6976454715315898,
          0.02224166055947371,
          0.1086573306649144,
          -0.9067827509634541,
          -0.8687424395036124,
          1.370826117498048,
          -0.6460375807906926,
          -0.8260764100299918,
          -0.4851421567136696,
          -0.8810467656448328,
          -0.6773045905041739,
          -0.6474856399795389,
          -0.6143186494979824,
          1.3337567460164987,
          -0.3077854706336042,
          -0.7526088123813093,
          -0.13176077042532966,
          0.04136995248109208,
          -0.8821484804075336,
          -0.8105046840461363,
          -0.6623786320777564,
          0.8847399303939524,
          -0.8854338079909679,
          -0.8533041104980834,
          0.0881046309510475,
          0.6900716532220171,
          -0.871311573851927,
          -0.6647612194103891,
          -0.4249321541319321,
          -0.7299013103350604,
          0.11792437153551162,
          -0.8608458265483845,
          2.527117140754533,
          1.4809855614979563,
          1.0532940669209419,
          0.4862512802927663,
          -0.5700063034966735,
          4.0906039634272195,
          -0.915605149197669,
          -0.8473041097446562,
          2.1108095007584913,
          1.3942758598937637,
          1.372786517811129,
          1.8458503602892498,
          -0.8817157784689014,
          -0.8775143411806046,
          0.34075306014177636,
          -0.8889052854504855,
          0.430722652954185,
          0.5018860041100109,
          -0.8847439422609547,
          -0.8812448480413064,
          1.6651192884507153,
          -0.8027835214811286,
          -0.8817157784689014,
          -0.5405314868759896,
          -0.5395250462029776,
          0.2420123487488136,
          0.8220280265336292,
          2.5554315803380097,
          0.44157353928579657,
          0.017551310596677156,
          -0.8362510849456914,
          -0.7552031754450953,
          -0.040857049899465564,
          -0.8250317347734432,
          0.21222570906125146,
          -0.5642699877488047,
          -0.5976932746695317,
          -0.4793828951137566,
          -0.6776166151373062,
          -0.09901531641348939,
          -0.5488762345792133,
          -0.8654183231093275,
          -0.4378488229240148,
          -0.9131750114900433,
          -0.8417302998172637,
          -0.4138257834116154,
          0.6210964086365505,
          1.819608818599394,
          -0.5889717778168801,
          0.9875164951456294,
          -0.8952321499745792,
          -0.5217722290646155,
          -0.2555763976471808,
          -0.6285983711063252,
          1.6191075167759792,
          -0.8959882933195524,
          -0.8795486253464989,
          -0.37568239054142477,
          -0.5865251726988476,
          -0.8776305089923108,
          -0.852878034996985,
          0.32206190035348,
          0.041158075077969376,
          -0.841775861283402,
          2.787820424529639,
          -0.8657498055468306,
          -0.4009339848490202,
          0.5350612764502584,
          -0.630465438245297,
          -0.2844952462145103,
          3.1945263351349067,
          0.2944983428846701,
          -0.4437306459244742,
          -0.8751569166630515,
          0.573710952155527,
          0.499290669707817,
          -0.5860555462267222,
          0.43488024051865587,
          1.0973531161437955,
          -0.8216248870416432,
          1.0308249047237619,
          0.11954209680290617,
          -0.7999997784696378,
          1.396563466040693
         ],
         "xaxis": "x",
         "y": [
          -0.09147535185688668,
          0.45145095787956846,
          0.7851359352458706,
          -0.7983481865283689,
          -0.5203443324194247,
          0.05864248131403837,
          -0.05693389735457569,
          -0.7693601098747181,
          -0.030862284079393513,
          0.5088425627086745,
          -0.7885555946490542,
          0.46660628134698084,
          -0.5248599689725931,
          0.6022808549673292,
          -0.033673503928678655,
          -0.007931292797242709,
          -0.8224322678252323,
          1.19136982057579,
          0.6063012476726306,
          0.6304043278561767,
          -0.5832623891994222,
          0.0813897478503081,
          0.8373596597845097,
          -1.0844987177800958,
          2.265038575251115,
          0.06879231508833772,
          0.21307823255802508,
          -1.964325805563321,
          -0.4143909472997095,
          -1.50664114800306,
          -0.5095378626839842,
          0.6467209745508821,
          -0.5528481942999501,
          0.441535881944829,
          1.1976983165866033,
          -0.2609001128258848,
          0.7791291362063072,
          -0.018437508835863634,
          0.06262893261099603,
          0.19709301318862854,
          0.13980698790021395,
          -0.10130424038890627,
          -0.8387956669684895,
          0.9625169574599979,
          -0.9923796505051895,
          -0.5046690237205931,
          -0.40676964142309313,
          -0.3388790562282973,
          -0.011397194885378964,
          -0.2290978556953317,
          -0.033262912492004394,
          -0.5218879029168179,
          -0.25785074345400133,
          -0.6628468301654807,
          -0.04919688141924783,
          0.30741298772657605,
          -0.08578500790506617,
          0.101937379511666,
          -0.7555038626176678,
          -0.08086780675350207,
          -0.0038756031029721846,
          -0.28486524247427797,
          -0.32425435349836856,
          -0.026769363801069302,
          -0.22219493037686516,
          -0.12492061345811054,
          0.16561244331436156,
          -0.367480156807519,
          0.21186973826500724,
          -0.049044854403613586,
          -0.2720398370483,
          0.021579280262393124,
          0.4068849826644986,
          -0.6590454047368859,
          -0.6942942285178652,
          -0.7819926789635534,
          -1.0119565354608338,
          0.6259413740431697,
          1.5984139050190713,
          -0.19859591553008407,
          -0.037942715142331065,
          -0.3714835878271903,
          0.12416646884951583,
          -0.3494677777343624,
          0.11470919070009288,
          -0.10557494467241406,
          0.4831487196794754,
          0.2895390269415706,
          1.5866150136701462,
          -0.6248858374651839,
          -0.07601564910449761,
          -0.2556287348657866,
          -0.002303247746402166,
          -0.5121559613539476,
          2.2600625639143224,
          0.5764181113600898,
          -0.6337720144231321,
          -0.6913666014744717,
          -0.07851717209882984,
          -0.45965894138888524,
          0.5425776794803865,
          0.09005615001105963,
          -0.06507766620174746,
          0.4748575893386911,
          0.6528210388850743,
          -0.005689164834435242,
          -0.022143475341683722,
          1.4700863694037545,
          -0.21765933578228813,
          0.33567590311430817,
          -0.7854325043778503,
          -0.5408170126922321,
          -0.3701518458913935,
          0.5123702483908735,
          0.7667051999755515,
          -0.2564154319060507,
          0.08664155519051231,
          0.3238301542383014,
          -0.6093639384427207,
          -0.022544935584306158,
          -0.08873616276625725,
          -1.1290827859130548,
          -0.21880356325679498,
          -0.010594280215828592,
          1.1736227030919142,
          0.5102929163916651,
          0.24982638359642798,
          0.05864248131403837,
          0.43390652712227595,
          -1.5117653238429754,
          -0.6136496953385685,
          -0.8064815572620985,
          -0.002106838486262053,
          1.4599813928937233,
          0.5274409543535259,
          1.641554377208033,
          -0.43754322331734546,
          -0.14017524051129723,
          -0.16584446006300205,
          -0.247054725990125,
          0.07530950478095684,
          0.32398676184555086,
          0.11777400621509353,
          0.1718620142625205,
          1.0384568716311129,
          -0.010743625088964169,
          -0.360819820291384,
          -0.8591401916857085,
          0.40076431877142155,
          0.33413959841296986,
          -0.10662064778486936,
          -0.5086813063457293,
          -0.3230131136603343,
          -0.07097721364291806,
          -0.023334992115294648,
          -0.2251376674287367,
          -0.7937773831420165,
          -0.4250656703828527,
          0.04218398356210861,
          0.050980131170840444,
          -0.11645873309013689,
          1.2267265689235773,
          0.008006160970794771,
          0.010138028922978656,
          0.48246252143959784,
          0.33136084752934153,
          0.007698470841689319,
          0.0062619471084269145,
          0.9043749234669958,
          -0.0734502938107102,
          0.6348240348557515,
          1.2167232788197015,
          -0.5562212465287745,
          0.370518102754792,
          -0.26871433831773334,
          0.10121486082180664,
          0.35347647160235757,
          1.097343983796112,
          -0.9253610561024604,
          -0.3281204939628814,
          -0.00797495903045012,
          -0.01649417326345803,
          -0.8961104119690582,
          0.0743201794569917,
          1.0762694005770241,
          -0.5185808678399221,
          0.07806158042882547,
          0.10065709514495984,
          -0.5968327085655307,
          0.05625622325067965,
          -0.007974959030467733,
          0.642355116834287,
          0.7683684335043669,
          -0.6689381586108497,
          0.7998343431784605,
          -0.32689410556978216,
          0.33423097739401947,
          -0.12204725423467727,
          -0.14017004719306872,
          -0.4645473607519658,
          1.3887637520817415,
          -0.1097250585764481,
          -0.626070607816832,
          0.7767434080594599,
          0.8747814949821309,
          0.5794729862926119,
          0.29945381123492043,
          2.1302328859410466,
          0.5384562357441685,
          -0.052689118449695954,
          0.8154282712767603,
          0.16047998553411705,
          -0.03039136447292006,
          0.5217374854648162,
          0.6842429027669342,
          2.159650355962497,
          0.6476153154147655,
          0.39750651484118693,
          -0.24222370793276085,
          0.7956409972297263,
          1.0837797107514247,
          -0.8014684679191751,
          -0.6108793512435171,
          0.07874840761081088,
          -0.3042171335604076,
          0.6599301299147385,
          0.7026363896498147,
          -0.25483710891685213,
          -0.011395569733459768,
          -0.8495423960970526,
          -0.1441495627112421,
          -0.2635836290672015,
          1.6036170524649485,
          0.07363441372996152,
          -0.002460470843114681,
          -0.13259090054457934,
          -0.30038355781840087,
          0.9545680904768653,
          -0.13164191966357003,
          0.5395976278092491,
          0.7036053811238577,
          0.10065367670388792,
          0.12270235656404228,
          -0.03486835715102601,
          0.6041666729435012,
          -1.0387982295934117,
          0.2939688140312051,
          0.34014796650132634,
          -0.1571957341910369,
          0.37338270829336156,
          -0.22927048057933214,
          -0.09017248407612245
         ],
         "yaxis": "y"
        }
       ],
       "layout": {
        "legend": {
         "title": {
          "text": "color"
         },
         "tracegroupgap": 0
        },
        "margin": {
         "t": 60
        },
        "template": {
         "data": {
          "bar": [
           {
            "error_x": {
             "color": "#2a3f5f"
            },
            "error_y": {
             "color": "#2a3f5f"
            },
            "marker": {
             "line": {
              "color": "#E5ECF6",
              "width": 0.5
             }
            },
            "type": "bar"
           }
          ],
          "barpolar": [
           {
            "marker": {
             "line": {
              "color": "#E5ECF6",
              "width": 0.5
             }
            },
            "type": "barpolar"
           }
          ],
          "carpet": [
           {
            "aaxis": {
             "endlinecolor": "#2a3f5f",
             "gridcolor": "white",
             "linecolor": "white",
             "minorgridcolor": "white",
             "startlinecolor": "#2a3f5f"
            },
            "baxis": {
             "endlinecolor": "#2a3f5f",
             "gridcolor": "white",
             "linecolor": "white",
             "minorgridcolor": "white",
             "startlinecolor": "#2a3f5f"
            },
            "type": "carpet"
           }
          ],
          "choropleth": [
           {
            "colorbar": {
             "outlinewidth": 0,
             "ticks": ""
            },
            "type": "choropleth"
           }
          ],
          "contour": [
           {
            "colorbar": {
             "outlinewidth": 0,
             "ticks": ""
            },
            "colorscale": [
             [
              0,
              "#0d0887"
             ],
             [
              0.1111111111111111,
              "#46039f"
             ],
             [
              0.2222222222222222,
              "#7201a8"
             ],
             [
              0.3333333333333333,
              "#9c179e"
             ],
             [
              0.4444444444444444,
              "#bd3786"
             ],
             [
              0.5555555555555556,
              "#d8576b"
             ],
             [
              0.6666666666666666,
              "#ed7953"
             ],
             [
              0.7777777777777778,
              "#fb9f3a"
             ],
             [
              0.8888888888888888,
              "#fdca26"
             ],
             [
              1,
              "#f0f921"
             ]
            ],
            "type": "contour"
           }
          ],
          "contourcarpet": [
           {
            "colorbar": {
             "outlinewidth": 0,
             "ticks": ""
            },
            "type": "contourcarpet"
           }
          ],
          "heatmap": [
           {
            "colorbar": {
             "outlinewidth": 0,
             "ticks": ""
            },
            "colorscale": [
             [
              0,
              "#0d0887"
             ],
             [
              0.1111111111111111,
              "#46039f"
             ],
             [
              0.2222222222222222,
              "#7201a8"
             ],
             [
              0.3333333333333333,
              "#9c179e"
             ],
             [
              0.4444444444444444,
              "#bd3786"
             ],
             [
              0.5555555555555556,
              "#d8576b"
             ],
             [
              0.6666666666666666,
              "#ed7953"
             ],
             [
              0.7777777777777778,
              "#fb9f3a"
             ],
             [
              0.8888888888888888,
              "#fdca26"
             ],
             [
              1,
              "#f0f921"
             ]
            ],
            "type": "heatmap"
           }
          ],
          "heatmapgl": [
           {
            "colorbar": {
             "outlinewidth": 0,
             "ticks": ""
            },
            "colorscale": [
             [
              0,
              "#0d0887"
             ],
             [
              0.1111111111111111,
              "#46039f"
             ],
             [
              0.2222222222222222,
              "#7201a8"
             ],
             [
              0.3333333333333333,
              "#9c179e"
             ],
             [
              0.4444444444444444,
              "#bd3786"
             ],
             [
              0.5555555555555556,
              "#d8576b"
             ],
             [
              0.6666666666666666,
              "#ed7953"
             ],
             [
              0.7777777777777778,
              "#fb9f3a"
             ],
             [
              0.8888888888888888,
              "#fdca26"
             ],
             [
              1,
              "#f0f921"
             ]
            ],
            "type": "heatmapgl"
           }
          ],
          "histogram": [
           {
            "marker": {
             "colorbar": {
              "outlinewidth": 0,
              "ticks": ""
             }
            },
            "type": "histogram"
           }
          ],
          "histogram2d": [
           {
            "colorbar": {
             "outlinewidth": 0,
             "ticks": ""
            },
            "colorscale": [
             [
              0,
              "#0d0887"
             ],
             [
              0.1111111111111111,
              "#46039f"
             ],
             [
              0.2222222222222222,
              "#7201a8"
             ],
             [
              0.3333333333333333,
              "#9c179e"
             ],
             [
              0.4444444444444444,
              "#bd3786"
             ],
             [
              0.5555555555555556,
              "#d8576b"
             ],
             [
              0.6666666666666666,
              "#ed7953"
             ],
             [
              0.7777777777777778,
              "#fb9f3a"
             ],
             [
              0.8888888888888888,
              "#fdca26"
             ],
             [
              1,
              "#f0f921"
             ]
            ],
            "type": "histogram2d"
           }
          ],
          "histogram2dcontour": [
           {
            "colorbar": {
             "outlinewidth": 0,
             "ticks": ""
            },
            "colorscale": [
             [
              0,
              "#0d0887"
             ],
             [
              0.1111111111111111,
              "#46039f"
             ],
             [
              0.2222222222222222,
              "#7201a8"
             ],
             [
              0.3333333333333333,
              "#9c179e"
             ],
             [
              0.4444444444444444,
              "#bd3786"
             ],
             [
              0.5555555555555556,
              "#d8576b"
             ],
             [
              0.6666666666666666,
              "#ed7953"
             ],
             [
              0.7777777777777778,
              "#fb9f3a"
             ],
             [
              0.8888888888888888,
              "#fdca26"
             ],
             [
              1,
              "#f0f921"
             ]
            ],
            "type": "histogram2dcontour"
           }
          ],
          "mesh3d": [
           {
            "colorbar": {
             "outlinewidth": 0,
             "ticks": ""
            },
            "type": "mesh3d"
           }
          ],
          "parcoords": [
           {
            "line": {
             "colorbar": {
              "outlinewidth": 0,
              "ticks": ""
             }
            },
            "type": "parcoords"
           }
          ],
          "pie": [
           {
            "automargin": true,
            "type": "pie"
           }
          ],
          "scatter": [
           {
            "marker": {
             "colorbar": {
              "outlinewidth": 0,
              "ticks": ""
             }
            },
            "type": "scatter"
           }
          ],
          "scatter3d": [
           {
            "line": {
             "colorbar": {
              "outlinewidth": 0,
              "ticks": ""
             }
            },
            "marker": {
             "colorbar": {
              "outlinewidth": 0,
              "ticks": ""
             }
            },
            "type": "scatter3d"
           }
          ],
          "scattercarpet": [
           {
            "marker": {
             "colorbar": {
              "outlinewidth": 0,
              "ticks": ""
             }
            },
            "type": "scattercarpet"
           }
          ],
          "scattergeo": [
           {
            "marker": {
             "colorbar": {
              "outlinewidth": 0,
              "ticks": ""
             }
            },
            "type": "scattergeo"
           }
          ],
          "scattergl": [
           {
            "marker": {
             "colorbar": {
              "outlinewidth": 0,
              "ticks": ""
             }
            },
            "type": "scattergl"
           }
          ],
          "scattermapbox": [
           {
            "marker": {
             "colorbar": {
              "outlinewidth": 0,
              "ticks": ""
             }
            },
            "type": "scattermapbox"
           }
          ],
          "scatterpolar": [
           {
            "marker": {
             "colorbar": {
              "outlinewidth": 0,
              "ticks": ""
             }
            },
            "type": "scatterpolar"
           }
          ],
          "scatterpolargl": [
           {
            "marker": {
             "colorbar": {
              "outlinewidth": 0,
              "ticks": ""
             }
            },
            "type": "scatterpolargl"
           }
          ],
          "scatterternary": [
           {
            "marker": {
             "colorbar": {
              "outlinewidth": 0,
              "ticks": ""
             }
            },
            "type": "scatterternary"
           }
          ],
          "surface": [
           {
            "colorbar": {
             "outlinewidth": 0,
             "ticks": ""
            },
            "colorscale": [
             [
              0,
              "#0d0887"
             ],
             [
              0.1111111111111111,
              "#46039f"
             ],
             [
              0.2222222222222222,
              "#7201a8"
             ],
             [
              0.3333333333333333,
              "#9c179e"
             ],
             [
              0.4444444444444444,
              "#bd3786"
             ],
             [
              0.5555555555555556,
              "#d8576b"
             ],
             [
              0.6666666666666666,
              "#ed7953"
             ],
             [
              0.7777777777777778,
              "#fb9f3a"
             ],
             [
              0.8888888888888888,
              "#fdca26"
             ],
             [
              1,
              "#f0f921"
             ]
            ],
            "type": "surface"
           }
          ],
          "table": [
           {
            "cells": {
             "fill": {
              "color": "#EBF0F8"
             },
             "line": {
              "color": "white"
             }
            },
            "header": {
             "fill": {
              "color": "#C8D4E3"
             },
             "line": {
              "color": "white"
             }
            },
            "type": "table"
           }
          ]
         },
         "layout": {
          "annotationdefaults": {
           "arrowcolor": "#2a3f5f",
           "arrowhead": 0,
           "arrowwidth": 1
          },
          "coloraxis": {
           "colorbar": {
            "outlinewidth": 0,
            "ticks": ""
           }
          },
          "colorscale": {
           "diverging": [
            [
             0,
             "#8e0152"
            ],
            [
             0.1,
             "#c51b7d"
            ],
            [
             0.2,
             "#de77ae"
            ],
            [
             0.3,
             "#f1b6da"
            ],
            [
             0.4,
             "#fde0ef"
            ],
            [
             0.5,
             "#f7f7f7"
            ],
            [
             0.6,
             "#e6f5d0"
            ],
            [
             0.7,
             "#b8e186"
            ],
            [
             0.8,
             "#7fbc41"
            ],
            [
             0.9,
             "#4d9221"
            ],
            [
             1,
             "#276419"
            ]
           ],
           "sequential": [
            [
             0,
             "#0d0887"
            ],
            [
             0.1111111111111111,
             "#46039f"
            ],
            [
             0.2222222222222222,
             "#7201a8"
            ],
            [
             0.3333333333333333,
             "#9c179e"
            ],
            [
             0.4444444444444444,
             "#bd3786"
            ],
            [
             0.5555555555555556,
             "#d8576b"
            ],
            [
             0.6666666666666666,
             "#ed7953"
            ],
            [
             0.7777777777777778,
             "#fb9f3a"
            ],
            [
             0.8888888888888888,
             "#fdca26"
            ],
            [
             1,
             "#f0f921"
            ]
           ],
           "sequentialminus": [
            [
             0,
             "#0d0887"
            ],
            [
             0.1111111111111111,
             "#46039f"
            ],
            [
             0.2222222222222222,
             "#7201a8"
            ],
            [
             0.3333333333333333,
             "#9c179e"
            ],
            [
             0.4444444444444444,
             "#bd3786"
            ],
            [
             0.5555555555555556,
             "#d8576b"
            ],
            [
             0.6666666666666666,
             "#ed7953"
            ],
            [
             0.7777777777777778,
             "#fb9f3a"
            ],
            [
             0.8888888888888888,
             "#fdca26"
            ],
            [
             1,
             "#f0f921"
            ]
           ]
          },
          "colorway": [
           "#636efa",
           "#EF553B",
           "#00cc96",
           "#ab63fa",
           "#FFA15A",
           "#19d3f3",
           "#FF6692",
           "#B6E880",
           "#FF97FF",
           "#FECB52"
          ],
          "font": {
           "color": "#2a3f5f"
          },
          "geo": {
           "bgcolor": "white",
           "lakecolor": "white",
           "landcolor": "#E5ECF6",
           "showlakes": true,
           "showland": true,
           "subunitcolor": "white"
          },
          "hoverlabel": {
           "align": "left"
          },
          "hovermode": "closest",
          "mapbox": {
           "style": "light"
          },
          "paper_bgcolor": "white",
          "plot_bgcolor": "#E5ECF6",
          "polar": {
           "angularaxis": {
            "gridcolor": "white",
            "linecolor": "white",
            "ticks": ""
           },
           "bgcolor": "#E5ECF6",
           "radialaxis": {
            "gridcolor": "white",
            "linecolor": "white",
            "ticks": ""
           }
          },
          "scene": {
           "xaxis": {
            "backgroundcolor": "#E5ECF6",
            "gridcolor": "white",
            "gridwidth": 2,
            "linecolor": "white",
            "showbackground": true,
            "ticks": "",
            "zerolinecolor": "white"
           },
           "yaxis": {
            "backgroundcolor": "#E5ECF6",
            "gridcolor": "white",
            "gridwidth": 2,
            "linecolor": "white",
            "showbackground": true,
            "ticks": "",
            "zerolinecolor": "white"
           },
           "zaxis": {
            "backgroundcolor": "#E5ECF6",
            "gridcolor": "white",
            "gridwidth": 2,
            "linecolor": "white",
            "showbackground": true,
            "ticks": "",
            "zerolinecolor": "white"
           }
          },
          "shapedefaults": {
           "line": {
            "color": "#2a3f5f"
           }
          },
          "ternary": {
           "aaxis": {
            "gridcolor": "white",
            "linecolor": "white",
            "ticks": ""
           },
           "baxis": {
            "gridcolor": "white",
            "linecolor": "white",
            "ticks": ""
           },
           "bgcolor": "#E5ECF6",
           "caxis": {
            "gridcolor": "white",
            "linecolor": "white",
            "ticks": ""
           }
          },
          "title": {
           "x": 0.05
          },
          "xaxis": {
           "automargin": true,
           "gridcolor": "white",
           "linecolor": "white",
           "ticks": "",
           "title": {
            "standoff": 15
           },
           "zerolinecolor": "white",
           "zerolinewidth": 2
          },
          "yaxis": {
           "automargin": true,
           "gridcolor": "white",
           "linecolor": "white",
           "ticks": "",
           "title": {
            "standoff": 15
           },
           "zerolinecolor": "white",
           "zerolinewidth": 2
          }
         }
        },
        "xaxis": {
         "anchor": "y",
         "domain": [
          0,
          1
         ],
         "title": {
          "text": "X"
         }
        },
        "yaxis": {
         "anchor": "x",
         "domain": [
          0,
          1
         ],
         "title": {
          "text": "Y"
         }
        }
       }
      },
      "text/html": [
       "<div>                            <div id=\"899f660d-015a-4b33-8aaa-1edccb15d544\" class=\"plotly-graph-div\" style=\"height:525px; width:100%;\"></div>            <script type=\"text/javascript\">                require([\"plotly\"], function(Plotly) {                    window.PLOTLYENV=window.PLOTLYENV || {};                                    if (document.getElementById(\"899f660d-015a-4b33-8aaa-1edccb15d544\")) {                    Plotly.newPlot(                        \"899f660d-015a-4b33-8aaa-1edccb15d544\",                        [{\"hovertemplate\": \"color=Negative<br>X=%{x}<br>Y=%{y}<extra></extra>\", \"legendgroup\": \"Negative\", \"marker\": {\"color\": \"#636efa\", \"symbol\": \"circle\"}, \"mode\": \"markers\", \"name\": \"Negative\", \"orientation\": \"v\", \"showlegend\": true, \"type\": \"scatter\", \"x\": [-0.6184949194744933, -0.8409290045343353, -0.7559645789466982, 0.17828409339566567, 1.66527485852654, 2.2873361052269825, 0.5641075814445148, -0.859095242510747, 0.3287596880544661, 1.5843629908249772, 0.5996310042167479, 0.7836012234709632, 1.3618683096194113, 0.40312650319280935, 1.7297969872652126, 0.41646309247920416, -0.8672455852199632, 0.3220761943543743, -0.8638907593623418, -0.8675435529563441, 0.7071824578712845, -0.6436412900730399, -0.7875981442601412, 0.7792276934654052, -0.32107510565095354, 0.2832189908541219, -0.729727117370193, -0.8507726926000592, 0.1134658313681621, -0.7448211731361621, -0.6084864673603816, -0.7447530613306681, 1.2180413641309742, 0.16544315565717654, -0.8269127701182011, -0.6184976586403911, -0.8975678439895427, 2.209779718992686, 1.465307908734173, -0.35604446263289197, -0.8604273209043789, -0.8511648198676857, -0.33840154887489327, -0.7921825765227662, -0.5432268183090723, -0.5501663323005137, 0.47711908768732864, -0.8817157784689014, 0.9947731674606431, -0.8562976587280162, -0.8407671447961731, -0.5473689336097349, 0.017624415283069243, 0.23730844565222037, -0.8784839982533029, -0.7034908169885005, -0.7829806738515518, -0.6356414783760376, -0.5684899736986062, 0.9737564244023567, 0.121576717737577, -0.8601963998895477, 0.39139624645438964, -0.5686876490083412, -0.7532405378154988, 0.27566310774005665, -0.5195741088965855, 0.42503562536180467, 0.6761251928346061, 0.2506954580712834, 0.7456010265452129, 1.7922059832234316, 1.6853795907233737, 0.21649323190209321, 0.11106415875881585, -0.883921840662003, -0.8619571230498875, -0.8827680477276231, -0.8731236851495305, -0.5365563029543642, -0.8572338117614504, 0.06716715425928366, 2.051401353604061, -0.6040631258964337, 0.3578405198836058, 0.1440687403057543, -0.8629749146029857, -0.5519738816348447, -0.5995917888459933, -0.38782780317259125, -0.7084923605565742, -0.6848107360005964, 4.8279772562919385, -0.8620358876085648, -0.4944507841279061, -0.4676438758197984, -0.8823137602920051, 1.3078516458861065, -0.7609356039926052, -0.7127396002178098, -0.8309438112513593, 0.587198608287967, -0.09360196559991396, -0.8070483714756526, -0.8555745391563355, -0.4536146611691052, -0.6337530217584352, -0.8702382925137756, -0.9138165626202781, 0.010945010140525893, 0.7203199305350068, -0.8012811833864837, -0.6171412091614124, -0.8930024738341088, -0.4198832767359152, -0.6497292614390754, -0.7594580396819928, 1.1131299010330802, 0.11295041472817205, 1.4408371484071583, 1.0956435517817034, -0.43670714225556156, 3.7297676872551677, -0.8732111506247568, -0.8348166540486814, -0.8772824315039741, 0.39921400808608387, 1.1770297617750733, 0.2947280763672248, 0.36094635292309, -0.6023542563940724, 1.2281238587988859, -0.8670649870686226, -0.5420599222046459, -0.9080667451945461, -0.6833146135130994, -0.6556099832636193, -0.9177901828435676, -0.6967595973635914, -0.8682460425379904, -0.7842234903480003, -0.7332183881704711, 1.4366750086146003, -0.012462851904606583, 0.574721250573445, -0.5318986368968781, -0.8859732698675767, -0.71729238822007, -0.1247134211211811, -0.32281479530029045, 0.2180846238524829, 1.6367947447482698, 0.15133694391455063, -0.7487300978499241, 0.02820837922717788, -0.8183077384579959, -0.8883135824819709, 0.5071131550014718, 0.2504651478551549, -0.4959412922663868, -0.8621714865607605, -0.8003782645599447, -0.31373684714945643, -0.8311588191478567, -0.8085830280133403, 1.0737945672719529, 0.2378922728161381, -0.744778825134998, -0.7785827936188157, 0.317919644509287, 0.11398839847333166, -0.6100752772388259, 1.1419364961268166, -0.8450704397048882, 1.633364600177796, -0.4237095059060168, -0.8836195652898045, -0.8483983565905066, -0.8836195652898043, 2.0359860472324263, 0.14245224078159693, 0.15390141373727895, -0.7764950171848943, 0.14594637881262537, 0.7151493636551485, -0.9209862734607617, -0.7081279422414815, 0.13264341687402378, -0.7616620608183348, 3.7805557369352276, -0.7004577454925115, -0.7552910586116437, -0.8440170691303035, -0.6231119603313329, -0.8067904628265202, -0.26027277398570503, 0.59899632395286, -0.6617996854170365, -0.3486528407345008, -0.6398296714076365, -0.6137268902981271, 0.18808155850173638, 0.5254785543198404, -0.893669690024281, 0.39067791548318237, 1.5863099131866212, -0.8675690592953698, -0.69319346749334, 0.16025603406417954, -0.6204943028664235, -0.7995734475128758, -0.7064290043182765, 0.5761911910733365, 2.39113757050602, -0.580736935659799, 0.36182563371815724, -0.8497581089008404, -0.8253830903009851, 0.8923538753489222, -0.8118863015663029, -0.4105258646967861, 0.543404395177394, 0.16957921076013815, -0.701110361525261, 0.13388358395486474, 1.0430755700512846, 0.362712359157013, 0.5038964728045596, -0.3263977522410295, 1.495448770007274, -0.7706457545895748, -0.6483418872992835, 0.36416233439916124, -0.03825812629276752, 0.3228031322467264, -0.894469138878059, -0.626485025484012, -0.5578858276229588, 0.9593443942046148, -0.811313373838017, 1.5282900414559673, 0.4301659001829337, 0.8042265080842488, -0.5638079406986385, 0.5579959676425664, -0.5246408942857917, -0.6125625456072966, -0.4710444686755046], \"xaxis\": \"x\", \"y\": [-0.5452986022501621, -0.32269353882257273, 0.5004494151493414, 0.32657699170408866, -0.7403666320645139, -0.430970151822875, 0.96637393865896, 0.09363366453376225, 0.42249290868828376, 0.07527695945981534, 0.8772828712769675, -0.5433352479943062, -0.9656061673567241, -0.3862470746312512, 1.0824240065266653, -0.9447526232730739, -0.018964993577699624, -0.27945869335828116, -0.07531275638724043, -0.04091730463448484, -1.512065813110305, 0.30029440379476674, -0.220929322804481, 0.18334037788283106, -0.03976066754713697, -0.6119164699778555, -0.11996421756296681, -0.08608233254179762, 0.4018770971479519, 0.476090459331627, 0.5642344977565105, -0.13908027061016726, 0.3235339847600794, -0.295795559904093, -0.03186532522365478, -0.3686996523873515, -0.08018950495770509, -0.6989926332440535, 0.47839556112694237, -0.9214865907787541, -0.09335528638551471, -0.0826777721194936, -1.6056857122312234, -0.15058431256333643, -0.8129792950443733, 0.6179770411902481, -0.7321229732523649, -0.007974959030450132, -0.3477560390830799, -0.16544072542270258, -0.24486195238375683, 0.4832697376690876, -0.1881558517604023, -0.27633815232959374, -0.15691238424332968, -0.16087565079955748, 0.013328846706813, -0.8282470751249348, 0.6516453147606384, 0.6084433303817385, -0.5641553750549255, -0.0020984236101618415, 0.9378217391253687, 0.6329963137676514, -0.12945843295783896, -0.5774794216627274, 0.5665024687087202, 0.44765525881935686, 0.9962303592261302, -0.17312129567113438, -0.35866328897773836, -0.29989713709364235, 0.5016482216194971, -0.6479634256674399, 0.3870392261887571, -0.01807513950805803, 0.00926328578951754, 0.006248253138141754, 0.0020883214325838582, -0.09957423725177733, -0.010706982868660456, -0.13393500247295184, 0.3681042032892594, -0.5884553871527999, -0.849033163097858, -0.14108743219670558, -0.07474077708521494, -0.23586963897726854, 0.6057466056977582, 0.6199534973324243, -0.2225303854962474, -0.17002859077171256, 1.0337619212368596, -0.08425373929369792, -0.7942961930140475, 0.557808121867951, -0.014936434958132802, 0.7840789409449169, 0.3776519268085753, -0.1142290308558521, -0.0884187034950371, -0.1558254938379166, 0.8960577686355428, -0.3702522328955623, -0.08891825758094772, 0.48110318200325203, -0.6898177401396383, -0.007593365595014669, -0.05450487194093594, -0.09374794869726334, 1.0277188053703605, 0.14211769752829853, -0.4151573708827781, -0.23829386907719596, 0.6167946778192389, -0.5087614112219101, -0.03068326009825139, -0.742844518031835, -0.0995400758452116, 0.7405791302299362, 0.8405071881431484, 1.0565975205135238, -0.6795657665939013, -0.021675648806966905, -0.07418005191907995, -0.37257099476944133, -0.23064419132618325, -1.0265094549797276, -0.25938774305133105, -0.695749315591241, 0.625953445219918, 0.5528341109221155, 0.08850533740992096, -1.0696726649351784, -0.2571161149616908, -0.06628132829464844, -0.7638218245289161, -0.019550307804095862, 0.5177161533811347, 0.06442642493226731, -0.0860117869316587, 0.3345064825563085, 0.7415764802344875, -0.11866085668297743, 0.9182095086695948, 0.6558327906277811, -0.24697518464218496, -0.1492727477755191, 1.272824574134196, 0.6939313715933655, -0.6479313371365412, -0.6161235128545616, -0.1405156643116686, 0.38097852048487113, -0.08738568639766013, -0.057115484300870545, -0.23469356314080467, -0.9176448336525634, -0.8957756910292337, -0.634636685729874, -0.03074001318813627, -0.02639699229017222, 0.14972171037906307, -0.02690903640393249, -0.013291301654568814, -0.5327767276761025, -0.3200207184340745, -0.12943813804258678, -0.23176214762736577, -0.6191512159546478, -0.4977131712077301, -0.8511377294323551, -0.6999904727649718, -0.023033947085009256, -0.654843620156562, 0.5885061166837032, -0.008019128501613073, 0.10157378073349872, -0.008019128501495972, -0.5209444232858764, 1.0112933985826866, -0.11099827658461771, -0.10231083554539444, 0.5337506494333387, -0.07265781496925898, -0.050949288510205124, -0.36300176686295604, -0.17689514787663582, -0.06559998559971394, -0.46394567753657207, 0.28869959937709294, -0.05479571710498388, 0.02448390523408236, -0.6058743164458424, -0.002347885575018678, 0.6360834937111964, -1.3734024613127027, -0.12683624168640148, -0.7635125791966758, 0.42386701566903107, -0.5699511040907953, -0.3652587528153242, 0.5293671446828594, -0.00868437137994013, 0.6077162433956407, -0.13586723965096426, -0.2816883269477123, -0.3905330397771985, -0.2157930277515495, -0.5377229542287859, -0.016748853570735897, -0.1990382841191266, -1.0299277704396326, -1.103972406002974, 0.6150996102470165, -0.503140801417803, 0.11306234125008577, -0.05674080671262087, -0.2239925351788712, 0.05468009746591233, -0.7108898343826874, 1.2452255465877933, -0.4207876411964327, 0.595264284050335, 0.40763129881373483, 2.1248579329308774, 0.2009700796636022, -1.2711533449804984, -0.49081941330338885, 0.4374649161682233, -0.27438268338654165, 0.31224094430112354, -0.6253142536156879, -0.8604314700157232, -0.6777458677405122, -0.01669620335603134, -0.5915426547479287, 0.5344919877225456, -0.1885024579828869, -0.08693825650487663, -1.10635614524666, -0.6827322353279597, 1.7512153945126374, -0.9506629669977217, -1.171926157067332, -0.6361277085863482, 0.6245678720610963, 0.8571729358222673], \"yaxis\": \"y\"}, {\"hovertemplate\": \"color=Positive<br>X=%{x}<br>Y=%{y}<extra></extra>\", \"legendgroup\": \"Positive\", \"marker\": {\"color\": \"#EF553B\", \"symbol\": \"circle\"}, \"mode\": \"markers\", \"name\": \"Positive\", \"orientation\": \"v\", \"showlegend\": true, \"type\": \"scatter\", \"x\": [-0.9117977495144415, 0.2707304269404387, -0.5493751597691392, 1.2265883059397393, 1.659394658738816, -0.8599112573292333, -0.7542617794034778, 1.2877388761048414, 0.045908421310395346, 1.6846491917170077, 0.5294695389286108, 0.367702672094557, 0.4084698172011131, -0.45449887582352244, -0.8007763932917911, -0.8798201775518356, -0.5231154041743817, -0.37706255339149314, -0.5918128294543409, -0.5689500466062481, -0.8206488252802645, -0.8730570820888315, -0.5418049275745909, -0.36527313279353857, 1.0684535378768671, 0.31641481064575866, 0.32517571841713805, 1.7009572007369744, 0.16468068321746548, 0.7374775439713435, 1.8101295427952375, 0.550964791096374, 0.23205493985309952, 0.14116212532404288, 0.7605599669070439, 1.95412692636266, 0.44263122852616776, 0.549650261655967, -0.8588791818599526, 0.5201807811173734, 0.4107568518991338, -0.010832664239690766, 1.2114352468230989, 0.9696398593840104, 2.2900895026766195, 0.9996470959482607, 2.751524659045707, 0.0177013219079971, -0.8482906459464934, -0.8809479446901363, -0.8993395718735737, -0.5705324733674668, -0.2384889352133582, 0.23019956256102697, -0.0029907091928805902, 0.09765931692390294, -0.8459350907890657, -0.04915952942912537, 1.1185971647268427, -0.8427831374431964, -0.8727639925356131, 1.0776851437075485, 0.1906123860080185, -0.8583488165924937, 0.13873963094523298, -0.7182687243145033, -0.8586092772065623, -0.6590732825844406, -0.4466966134707612, -0.8588922518596861, 1.0846449905541597, -0.3077778545339276, 1.38937739123204, 0.2240418238290424, -0.5255488915222786, -0.6596167072287012, 0.4202301195149799, 0.4070010266594059, 0.6120223897574953, 0.96592385095918, -0.8729303785512382, -0.8434796644780957, 0.5248626059005989, 0.7441813600445797, 0.5789337792389884, -0.8661257655021614, 0.3822944319822024, -0.6270137252628272, 1.4591429794553739, 0.227876304906555, -0.8615561654339237, 0.14892641899682502, -0.8824506912715587, -0.6007804810514115, 0.84716114890549, -0.5182143410051994, 0.46344142701144486, 2.4319965321318073, 0.5499384008621612, 0.8883632359483029, -0.5185173607051177, 0.02423868126673971, -0.7971265320894427, -0.3802862232105388, -0.575956000028288, -0.8822341143855091, -0.8818491294187667, 2.676122284316049, 0.3687053480397463, 0.22744002590651927, 0.43339537014437135, -0.6478137937930818, -0.0073916134504208135, 0.40273426449243455, 0.27555522217977274, -0.858115685289473, -0.20486156778824685, 1.200119466819637, -0.6090384159756561, -0.7410447284559312, -0.7418328267555431, 0.6468903412222776, 0.96195994543549, -0.8658494945647479, 0.77208671759169, -0.7831436825319376, 1.8618193544079937, -0.8599112573292336, 0.5410180369858558, 4.828082009682553, -0.5980981414952093, 1.9653660791704155, -0.8837773264560046, 0.5090856949752344, -0.5582989493207, 0.42393934622039897, -0.6976454715315898, 0.02224166055947371, 0.1086573306649144, -0.9067827509634541, -0.8687424395036124, 1.370826117498048, -0.6460375807906926, -0.8260764100299918, -0.4851421567136696, -0.8810467656448328, -0.6773045905041739, -0.6474856399795389, -0.6143186494979824, 1.3337567460164987, -0.3077854706336042, -0.7526088123813093, -0.13176077042532966, 0.04136995248109208, -0.8821484804075336, -0.8105046840461363, -0.6623786320777564, 0.8847399303939524, -0.8854338079909679, -0.8533041104980834, 0.0881046309510475, 0.6900716532220171, -0.871311573851927, -0.6647612194103891, -0.4249321541319321, -0.7299013103350604, 0.11792437153551162, -0.8608458265483845, 2.527117140754533, 1.4809855614979563, 1.0532940669209419, 0.4862512802927663, -0.5700063034966735, 4.0906039634272195, -0.915605149197669, -0.8473041097446562, 2.1108095007584913, 1.3942758598937637, 1.372786517811129, 1.8458503602892498, -0.8817157784689014, -0.8775143411806046, 0.34075306014177636, -0.8889052854504855, 0.430722652954185, 0.5018860041100109, -0.8847439422609547, -0.8812448480413064, 1.6651192884507153, -0.8027835214811286, -0.8817157784689014, -0.5405314868759896, -0.5395250462029776, 0.2420123487488136, 0.8220280265336292, 2.5554315803380097, 0.44157353928579657, 0.017551310596677156, -0.8362510849456914, -0.7552031754450953, -0.040857049899465564, -0.8250317347734432, 0.21222570906125146, -0.5642699877488047, -0.5976932746695317, -0.4793828951137566, -0.6776166151373062, -0.09901531641348939, -0.5488762345792133, -0.8654183231093275, -0.4378488229240148, -0.9131750114900433, -0.8417302998172637, -0.4138257834116154, 0.6210964086365505, 1.819608818599394, -0.5889717778168801, 0.9875164951456294, -0.8952321499745792, -0.5217722290646155, -0.2555763976471808, -0.6285983711063252, 1.6191075167759792, -0.8959882933195524, -0.8795486253464989, -0.37568239054142477, -0.5865251726988476, -0.8776305089923108, -0.852878034996985, 0.32206190035348, 0.041158075077969376, -0.841775861283402, 2.787820424529639, -0.8657498055468306, -0.4009339848490202, 0.5350612764502584, -0.630465438245297, -0.2844952462145103, 3.1945263351349067, 0.2944983428846701, -0.4437306459244742, -0.8751569166630515, 0.573710952155527, 0.499290669707817, -0.5860555462267222, 0.43488024051865587, 1.0973531161437955, -0.8216248870416432, 1.0308249047237619, 0.11954209680290617, -0.7999997784696378, 1.396563466040693], \"xaxis\": \"x\", \"y\": [-0.09147535185688668, 0.45145095787956846, 0.7851359352458706, -0.7983481865283689, -0.5203443324194247, 0.05864248131403837, -0.05693389735457569, -0.7693601098747181, -0.030862284079393513, 0.5088425627086745, -0.7885555946490542, 0.46660628134698084, -0.5248599689725931, 0.6022808549673292, -0.033673503928678655, -0.007931292797242709, -0.8224322678252323, 1.19136982057579, 0.6063012476726306, 0.6304043278561767, -0.5832623891994222, 0.0813897478503081, 0.8373596597845097, -1.0844987177800958, 2.265038575251115, 0.06879231508833772, 0.21307823255802508, -1.964325805563321, -0.4143909472997095, -1.50664114800306, -0.5095378626839842, 0.6467209745508821, -0.5528481942999501, 0.441535881944829, 1.1976983165866033, -0.2609001128258848, 0.7791291362063072, -0.018437508835863634, 0.06262893261099603, 0.19709301318862854, 0.13980698790021395, -0.10130424038890627, -0.8387956669684895, 0.9625169574599979, -0.9923796505051895, -0.5046690237205931, -0.40676964142309313, -0.3388790562282973, -0.011397194885378964, -0.2290978556953317, -0.033262912492004394, -0.5218879029168179, -0.25785074345400133, -0.6628468301654807, -0.04919688141924783, 0.30741298772657605, -0.08578500790506617, 0.101937379511666, -0.7555038626176678, -0.08086780675350207, -0.0038756031029721846, -0.28486524247427797, -0.32425435349836856, -0.026769363801069302, -0.22219493037686516, -0.12492061345811054, 0.16561244331436156, -0.367480156807519, 0.21186973826500724, -0.049044854403613586, -0.2720398370483, 0.021579280262393124, 0.4068849826644986, -0.6590454047368859, -0.6942942285178652, -0.7819926789635534, -1.0119565354608338, 0.6259413740431697, 1.5984139050190713, -0.19859591553008407, -0.037942715142331065, -0.3714835878271903, 0.12416646884951583, -0.3494677777343624, 0.11470919070009288, -0.10557494467241406, 0.4831487196794754, 0.2895390269415706, 1.5866150136701462, -0.6248858374651839, -0.07601564910449761, -0.2556287348657866, -0.002303247746402166, -0.5121559613539476, 2.2600625639143224, 0.5764181113600898, -0.6337720144231321, -0.6913666014744717, -0.07851717209882984, -0.45965894138888524, 0.5425776794803865, 0.09005615001105963, -0.06507766620174746, 0.4748575893386911, 0.6528210388850743, -0.005689164834435242, -0.022143475341683722, 1.4700863694037545, -0.21765933578228813, 0.33567590311430817, -0.7854325043778503, -0.5408170126922321, -0.3701518458913935, 0.5123702483908735, 0.7667051999755515, -0.2564154319060507, 0.08664155519051231, 0.3238301542383014, -0.6093639384427207, -0.022544935584306158, -0.08873616276625725, -1.1290827859130548, -0.21880356325679498, -0.010594280215828592, 1.1736227030919142, 0.5102929163916651, 0.24982638359642798, 0.05864248131403837, 0.43390652712227595, -1.5117653238429754, -0.6136496953385685, -0.8064815572620985, -0.002106838486262053, 1.4599813928937233, 0.5274409543535259, 1.641554377208033, -0.43754322331734546, -0.14017524051129723, -0.16584446006300205, -0.247054725990125, 0.07530950478095684, 0.32398676184555086, 0.11777400621509353, 0.1718620142625205, 1.0384568716311129, -0.010743625088964169, -0.360819820291384, -0.8591401916857085, 0.40076431877142155, 0.33413959841296986, -0.10662064778486936, -0.5086813063457293, -0.3230131136603343, -0.07097721364291806, -0.023334992115294648, -0.2251376674287367, -0.7937773831420165, -0.4250656703828527, 0.04218398356210861, 0.050980131170840444, -0.11645873309013689, 1.2267265689235773, 0.008006160970794771, 0.010138028922978656, 0.48246252143959784, 0.33136084752934153, 0.007698470841689319, 0.0062619471084269145, 0.9043749234669958, -0.0734502938107102, 0.6348240348557515, 1.2167232788197015, -0.5562212465287745, 0.370518102754792, -0.26871433831773334, 0.10121486082180664, 0.35347647160235757, 1.097343983796112, -0.9253610561024604, -0.3281204939628814, -0.00797495903045012, -0.01649417326345803, -0.8961104119690582, 0.0743201794569917, 1.0762694005770241, -0.5185808678399221, 0.07806158042882547, 0.10065709514495984, -0.5968327085655307, 0.05625622325067965, -0.007974959030467733, 0.642355116834287, 0.7683684335043669, -0.6689381586108497, 0.7998343431784605, -0.32689410556978216, 0.33423097739401947, -0.12204725423467727, -0.14017004719306872, -0.4645473607519658, 1.3887637520817415, -0.1097250585764481, -0.626070607816832, 0.7767434080594599, 0.8747814949821309, 0.5794729862926119, 0.29945381123492043, 2.1302328859410466, 0.5384562357441685, -0.052689118449695954, 0.8154282712767603, 0.16047998553411705, -0.03039136447292006, 0.5217374854648162, 0.6842429027669342, 2.159650355962497, 0.6476153154147655, 0.39750651484118693, -0.24222370793276085, 0.7956409972297263, 1.0837797107514247, -0.8014684679191751, -0.6108793512435171, 0.07874840761081088, -0.3042171335604076, 0.6599301299147385, 0.7026363896498147, -0.25483710891685213, -0.011395569733459768, -0.8495423960970526, -0.1441495627112421, -0.2635836290672015, 1.6036170524649485, 0.07363441372996152, -0.002460470843114681, -0.13259090054457934, -0.30038355781840087, 0.9545680904768653, -0.13164191966357003, 0.5395976278092491, 0.7036053811238577, 0.10065367670388792, 0.12270235656404228, -0.03486835715102601, 0.6041666729435012, -1.0387982295934117, 0.2939688140312051, 0.34014796650132634, -0.1571957341910369, 0.37338270829336156, -0.22927048057933214, -0.09017248407612245], \"yaxis\": \"y\"}],                        {\"legend\": {\"title\": {\"text\": \"color\"}, \"tracegroupgap\": 0}, \"margin\": {\"t\": 60}, \"template\": {\"data\": {\"bar\": [{\"error_x\": {\"color\": \"#2a3f5f\"}, \"error_y\": {\"color\": \"#2a3f5f\"}, \"marker\": {\"line\": {\"color\": \"#E5ECF6\", \"width\": 0.5}}, \"type\": \"bar\"}], \"barpolar\": [{\"marker\": {\"line\": {\"color\": \"#E5ECF6\", \"width\": 0.5}}, \"type\": \"barpolar\"}], \"carpet\": [{\"aaxis\": {\"endlinecolor\": \"#2a3f5f\", \"gridcolor\": \"white\", \"linecolor\": \"white\", \"minorgridcolor\": \"white\", \"startlinecolor\": \"#2a3f5f\"}, \"baxis\": {\"endlinecolor\": \"#2a3f5f\", \"gridcolor\": \"white\", \"linecolor\": \"white\", \"minorgridcolor\": \"white\", \"startlinecolor\": \"#2a3f5f\"}, \"type\": \"carpet\"}], \"choropleth\": [{\"colorbar\": {\"outlinewidth\": 0, \"ticks\": \"\"}, \"type\": \"choropleth\"}], \"contour\": [{\"colorbar\": {\"outlinewidth\": 0, \"ticks\": \"\"}, \"colorscale\": [[0.0, \"#0d0887\"], [0.1111111111111111, \"#46039f\"], [0.2222222222222222, \"#7201a8\"], [0.3333333333333333, \"#9c179e\"], [0.4444444444444444, \"#bd3786\"], [0.5555555555555556, \"#d8576b\"], [0.6666666666666666, \"#ed7953\"], [0.7777777777777778, \"#fb9f3a\"], [0.8888888888888888, \"#fdca26\"], [1.0, \"#f0f921\"]], \"type\": \"contour\"}], \"contourcarpet\": [{\"colorbar\": {\"outlinewidth\": 0, \"ticks\": \"\"}, \"type\": \"contourcarpet\"}], \"heatmap\": [{\"colorbar\": {\"outlinewidth\": 0, \"ticks\": \"\"}, \"colorscale\": [[0.0, \"#0d0887\"], [0.1111111111111111, \"#46039f\"], [0.2222222222222222, \"#7201a8\"], [0.3333333333333333, \"#9c179e\"], [0.4444444444444444, \"#bd3786\"], [0.5555555555555556, \"#d8576b\"], [0.6666666666666666, \"#ed7953\"], [0.7777777777777778, \"#fb9f3a\"], [0.8888888888888888, \"#fdca26\"], [1.0, \"#f0f921\"]], \"type\": \"heatmap\"}], \"heatmapgl\": [{\"colorbar\": {\"outlinewidth\": 0, \"ticks\": \"\"}, \"colorscale\": [[0.0, \"#0d0887\"], [0.1111111111111111, \"#46039f\"], [0.2222222222222222, \"#7201a8\"], [0.3333333333333333, \"#9c179e\"], [0.4444444444444444, \"#bd3786\"], [0.5555555555555556, \"#d8576b\"], [0.6666666666666666, \"#ed7953\"], [0.7777777777777778, \"#fb9f3a\"], [0.8888888888888888, \"#fdca26\"], [1.0, \"#f0f921\"]], \"type\": \"heatmapgl\"}], \"histogram\": [{\"marker\": {\"colorbar\": {\"outlinewidth\": 0, \"ticks\": \"\"}}, \"type\": \"histogram\"}], \"histogram2d\": [{\"colorbar\": {\"outlinewidth\": 0, \"ticks\": \"\"}, \"colorscale\": [[0.0, \"#0d0887\"], [0.1111111111111111, \"#46039f\"], [0.2222222222222222, \"#7201a8\"], [0.3333333333333333, \"#9c179e\"], [0.4444444444444444, \"#bd3786\"], [0.5555555555555556, \"#d8576b\"], [0.6666666666666666, \"#ed7953\"], [0.7777777777777778, \"#fb9f3a\"], [0.8888888888888888, \"#fdca26\"], [1.0, \"#f0f921\"]], \"type\": \"histogram2d\"}], \"histogram2dcontour\": [{\"colorbar\": {\"outlinewidth\": 0, \"ticks\": \"\"}, \"colorscale\": [[0.0, \"#0d0887\"], [0.1111111111111111, \"#46039f\"], [0.2222222222222222, \"#7201a8\"], [0.3333333333333333, \"#9c179e\"], [0.4444444444444444, \"#bd3786\"], [0.5555555555555556, \"#d8576b\"], [0.6666666666666666, \"#ed7953\"], [0.7777777777777778, \"#fb9f3a\"], [0.8888888888888888, \"#fdca26\"], [1.0, \"#f0f921\"]], \"type\": \"histogram2dcontour\"}], \"mesh3d\": [{\"colorbar\": {\"outlinewidth\": 0, \"ticks\": \"\"}, \"type\": \"mesh3d\"}], \"parcoords\": [{\"line\": {\"colorbar\": {\"outlinewidth\": 0, \"ticks\": \"\"}}, \"type\": \"parcoords\"}], \"pie\": [{\"automargin\": true, \"type\": \"pie\"}], \"scatter\": [{\"marker\": {\"colorbar\": {\"outlinewidth\": 0, \"ticks\": \"\"}}, \"type\": \"scatter\"}], \"scatter3d\": [{\"line\": {\"colorbar\": {\"outlinewidth\": 0, \"ticks\": \"\"}}, \"marker\": {\"colorbar\": {\"outlinewidth\": 0, \"ticks\": \"\"}}, \"type\": \"scatter3d\"}], \"scattercarpet\": [{\"marker\": {\"colorbar\": {\"outlinewidth\": 0, \"ticks\": \"\"}}, \"type\": \"scattercarpet\"}], \"scattergeo\": [{\"marker\": {\"colorbar\": {\"outlinewidth\": 0, \"ticks\": \"\"}}, \"type\": \"scattergeo\"}], \"scattergl\": [{\"marker\": {\"colorbar\": {\"outlinewidth\": 0, \"ticks\": \"\"}}, \"type\": \"scattergl\"}], \"scattermapbox\": [{\"marker\": {\"colorbar\": {\"outlinewidth\": 0, \"ticks\": \"\"}}, \"type\": \"scattermapbox\"}], \"scatterpolar\": [{\"marker\": {\"colorbar\": {\"outlinewidth\": 0, \"ticks\": \"\"}}, \"type\": \"scatterpolar\"}], \"scatterpolargl\": [{\"marker\": {\"colorbar\": {\"outlinewidth\": 0, \"ticks\": \"\"}}, \"type\": \"scatterpolargl\"}], \"scatterternary\": [{\"marker\": {\"colorbar\": {\"outlinewidth\": 0, \"ticks\": \"\"}}, \"type\": \"scatterternary\"}], \"surface\": [{\"colorbar\": {\"outlinewidth\": 0, \"ticks\": \"\"}, \"colorscale\": [[0.0, \"#0d0887\"], [0.1111111111111111, \"#46039f\"], [0.2222222222222222, \"#7201a8\"], [0.3333333333333333, \"#9c179e\"], [0.4444444444444444, \"#bd3786\"], [0.5555555555555556, \"#d8576b\"], [0.6666666666666666, \"#ed7953\"], [0.7777777777777778, \"#fb9f3a\"], [0.8888888888888888, \"#fdca26\"], [1.0, \"#f0f921\"]], \"type\": \"surface\"}], \"table\": [{\"cells\": {\"fill\": {\"color\": \"#EBF0F8\"}, \"line\": {\"color\": \"white\"}}, \"header\": {\"fill\": {\"color\": \"#C8D4E3\"}, \"line\": {\"color\": \"white\"}}, \"type\": \"table\"}]}, \"layout\": {\"annotationdefaults\": {\"arrowcolor\": \"#2a3f5f\", \"arrowhead\": 0, \"arrowwidth\": 1}, \"coloraxis\": {\"colorbar\": {\"outlinewidth\": 0, \"ticks\": \"\"}}, \"colorscale\": {\"diverging\": [[0, \"#8e0152\"], [0.1, \"#c51b7d\"], [0.2, \"#de77ae\"], [0.3, \"#f1b6da\"], [0.4, \"#fde0ef\"], [0.5, \"#f7f7f7\"], [0.6, \"#e6f5d0\"], [0.7, \"#b8e186\"], [0.8, \"#7fbc41\"], [0.9, \"#4d9221\"], [1, \"#276419\"]], \"sequential\": [[0.0, \"#0d0887\"], [0.1111111111111111, \"#46039f\"], [0.2222222222222222, \"#7201a8\"], [0.3333333333333333, \"#9c179e\"], [0.4444444444444444, \"#bd3786\"], [0.5555555555555556, \"#d8576b\"], [0.6666666666666666, \"#ed7953\"], [0.7777777777777778, \"#fb9f3a\"], [0.8888888888888888, \"#fdca26\"], [1.0, \"#f0f921\"]], \"sequentialminus\": [[0.0, \"#0d0887\"], [0.1111111111111111, \"#46039f\"], [0.2222222222222222, \"#7201a8\"], [0.3333333333333333, \"#9c179e\"], [0.4444444444444444, \"#bd3786\"], [0.5555555555555556, \"#d8576b\"], [0.6666666666666666, \"#ed7953\"], [0.7777777777777778, \"#fb9f3a\"], [0.8888888888888888, \"#fdca26\"], [1.0, \"#f0f921\"]]}, \"colorway\": [\"#636efa\", \"#EF553B\", \"#00cc96\", \"#ab63fa\", \"#FFA15A\", \"#19d3f3\", \"#FF6692\", \"#B6E880\", \"#FF97FF\", \"#FECB52\"], \"font\": {\"color\": \"#2a3f5f\"}, \"geo\": {\"bgcolor\": \"white\", \"lakecolor\": \"white\", \"landcolor\": \"#E5ECF6\", \"showlakes\": true, \"showland\": true, \"subunitcolor\": \"white\"}, \"hoverlabel\": {\"align\": \"left\"}, \"hovermode\": \"closest\", \"mapbox\": {\"style\": \"light\"}, \"paper_bgcolor\": \"white\", \"plot_bgcolor\": \"#E5ECF6\", \"polar\": {\"angularaxis\": {\"gridcolor\": \"white\", \"linecolor\": \"white\", \"ticks\": \"\"}, \"bgcolor\": \"#E5ECF6\", \"radialaxis\": {\"gridcolor\": \"white\", \"linecolor\": \"white\", \"ticks\": \"\"}}, \"scene\": {\"xaxis\": {\"backgroundcolor\": \"#E5ECF6\", \"gridcolor\": \"white\", \"gridwidth\": 2, \"linecolor\": \"white\", \"showbackground\": true, \"ticks\": \"\", \"zerolinecolor\": \"white\"}, \"yaxis\": {\"backgroundcolor\": \"#E5ECF6\", \"gridcolor\": \"white\", \"gridwidth\": 2, \"linecolor\": \"white\", \"showbackground\": true, \"ticks\": \"\", \"zerolinecolor\": \"white\"}, \"zaxis\": {\"backgroundcolor\": \"#E5ECF6\", \"gridcolor\": \"white\", \"gridwidth\": 2, \"linecolor\": \"white\", \"showbackground\": true, \"ticks\": \"\", \"zerolinecolor\": \"white\"}}, \"shapedefaults\": {\"line\": {\"color\": \"#2a3f5f\"}}, \"ternary\": {\"aaxis\": {\"gridcolor\": \"white\", \"linecolor\": \"white\", \"ticks\": \"\"}, \"baxis\": {\"gridcolor\": \"white\", \"linecolor\": \"white\", \"ticks\": \"\"}, \"bgcolor\": \"#E5ECF6\", \"caxis\": {\"gridcolor\": \"white\", \"linecolor\": \"white\", \"ticks\": \"\"}}, \"title\": {\"x\": 0.05}, \"xaxis\": {\"automargin\": true, \"gridcolor\": \"white\", \"linecolor\": \"white\", \"ticks\": \"\", \"title\": {\"standoff\": 15}, \"zerolinecolor\": \"white\", \"zerolinewidth\": 2}, \"yaxis\": {\"automargin\": true, \"gridcolor\": \"white\", \"linecolor\": \"white\", \"ticks\": \"\", \"title\": {\"standoff\": 15}, \"zerolinecolor\": \"white\", \"zerolinewidth\": 2}}}, \"xaxis\": {\"anchor\": \"y\", \"domain\": [0.0, 1.0], \"title\": {\"text\": \"X\"}}, \"yaxis\": {\"anchor\": \"x\", \"domain\": [0.0, 1.0], \"title\": {\"text\": \"Y\"}}},                        {\"responsive\": true}                    ).then(function(){\n",
       "                            \n",
       "var gd = document.getElementById('899f660d-015a-4b33-8aaa-1edccb15d544');\n",
       "var x = new MutationObserver(function (mutations, observer) {{\n",
       "        var display = window.getComputedStyle(gd).display;\n",
       "        if (!display || display === 'none') {{\n",
       "            console.log([gd, 'removed!']);\n",
       "            Plotly.purge(gd);\n",
       "            observer.disconnect();\n",
       "        }}\n",
       "}});\n",
       "\n",
       "// Listen for the removal of the full notebook cells\n",
       "var notebookContainer = gd.closest('#notebook-container');\n",
       "if (notebookContainer) {{\n",
       "    x.observe(notebookContainer, {childList: true});\n",
       "}}\n",
       "\n",
       "// Listen for the clearing of the current output cell\n",
       "var outputEl = gd.closest('.output');\n",
       "if (outputEl) {{\n",
       "    x.observe(outputEl, {childList: true});\n",
       "}}\n",
       "\n",
       "                        })                };                });            </script>        </div>"
      ]
     },
     "metadata": {},
     "output_type": "display_data"
    }
   ],
   "source": [
    "import plotly.express as px\n",
    "fig = px.scatter(df_sample_reduced, x=\"X\", y=\"Y\", color=df_sample['sentiment_name'])\n",
    "fig.show()"
   ]
  },
  {
   "cell_type": "code",
   "execution_count": 136,
   "metadata": {
    "scrolled": false
   },
   "outputs": [
    {
     "data": {
      "application/vnd.plotly.v1+json": {
       "config": {
        "plotlyServerURL": "https://plot.ly"
       },
       "data": [
        {
         "hovertemplate": "color=Negative<br>X=%{x}<br>Y=%{y}<br>Z=%{z}<extra></extra>",
         "legendgroup": "Negative",
         "marker": {
          "color": "#636efa",
          "symbol": "circle"
         },
         "mode": "markers",
         "name": "Negative",
         "scene": "scene",
         "showlegend": true,
         "type": "scatter3d",
         "x": [
          -0.6184948997152195,
          -0.840929031875243,
          -0.755964534005015,
          0.1782841259615241,
          1.6652748308026957,
          2.287336029371487,
          0.5641076580098736,
          -0.8590952238158328,
          0.32875969451087916,
          1.5843631290700506,
          0.5996310799468076,
          0.7836012947046114,
          1.3618682742408212,
          0.4031266905478352,
          1.7297969345178787,
          0.41646309631983197,
          -0.8672455813412842,
          0.32207625642365945,
          -0.8638907650016099,
          -0.8675435212588978,
          0.7071825251960839,
          -0.6436411939831603,
          -0.7875981613009803,
          0.7792276362792363,
          -0.3210751433480386,
          0.2832190084649867,
          -0.7297271388733,
          -0.8507726947731594,
          0.1134658657400333,
          -0.7448211244279638,
          -0.60848648246213,
          -0.744753115020466,
          1.218041429815867,
          0.16544311278795684,
          -0.8269127771353614,
          -0.6184975549629919,
          -0.8975679021831399,
          2.2097796731830908,
          1.46530786431346,
          -0.3560443742341274,
          -0.8604273295492847,
          -0.851164820999188,
          -0.33840152844262994,
          -0.7921826323196357,
          -0.5432268412978152,
          -0.5501664072199324,
          0.47711907390456537,
          -0.8817157653856251,
          0.9947731916645911,
          -0.8562977154085832,
          -0.8407671561675686,
          -0.5473689183659035,
          0.01762439950718161,
          0.2373084831909091,
          -0.878484070201067,
          -0.7034908609931797,
          -0.7829806243066776,
          -0.6356414788388361,
          -0.5684899264779097,
          0.9737564342393755,
          0.12157669784882046,
          -0.8601963809643631,
          0.3913962617976224,
          -0.5686876706435939,
          -0.7532405103501658,
          0.275663081894044,
          -0.5195741026570836,
          0.42503566772861456,
          0.6761250116898636,
          0.2506954468472807,
          0.7456009777355064,
          1.7922060319013486,
          1.6853795946624137,
          0.2164932362904882,
          0.111064193174863,
          -0.8839218299185027,
          -0.8619571284146998,
          -0.8827680421223718,
          -0.8731236936539951,
          -0.536556537162484,
          -0.8572338116914062,
          0.06716713808401988,
          2.051401216753244,
          -0.6040631454785257,
          0.3578403388972085,
          0.14406875107539943,
          -0.8629749142915687,
          -0.5519739556916311,
          -0.5995917791820724,
          -0.3878277804057727,
          -0.7084923574328922,
          -0.6848106942542298,
          4.827977484519734,
          -0.8620359017207486,
          -0.4944508527214705,
          -0.46764383913737706,
          -0.8823137551009603,
          1.3078516323648048,
          -0.7609355901430864,
          -0.7127395678635821,
          -0.8309438031781168,
          0.5871985810423945,
          -0.09360195563516127,
          -0.8070484188175976,
          -0.8555745431501923,
          -0.4536146835242204,
          -0.6337530461456152,
          -0.8702382839442759,
          -0.9138166438132626,
          0.01094500215627126,
          0.7203200054303238,
          -0.8012812052435432,
          -0.6171412136615012,
          -0.8930024568928591,
          -0.41988334292851653,
          -0.649729242505055,
          -0.7594580330057791,
          1.1131299325416064,
          0.11295036633206763,
          1.4408372102517273,
          1.0956434776075188,
          -0.4367071078417099,
          3.7297677783347836,
          -0.8732111197590143,
          -0.8348167286541636,
          -0.8772824314987965,
          0.3992138883807808,
          1.1770296958773958,
          0.294728238068643,
          0.3609463362491345,
          -0.6023542487488526,
          1.2281238237110124,
          -0.8670649536134775,
          -0.5420600758108248,
          -0.9080667380171479,
          -0.6833145898195967,
          -0.6556099790680767,
          -0.917790206197981,
          -0.696759574773903,
          -0.8682460124869983,
          -0.7842235415449843,
          -0.7332183695487858,
          1.4366748957156856,
          -0.01246284705594589,
          0.5747211852062768,
          -0.5318986783219213,
          -0.8859732716435094,
          -0.7172923500703174,
          -0.12471326518346351,
          -0.3228146421478044,
          0.21808463934558292,
          1.6367947491088914,
          0.15133691051434162,
          -0.7487300688857041,
          0.028208380384847683,
          -0.8183078276724303,
          -0.8883135972585585,
          0.5071132097685372,
          0.25046512237257573,
          -0.49594133662576,
          -0.8621714792250355,
          -0.8003782772058693,
          -0.31373683772655653,
          -0.8311588368122246,
          -0.808583074597394,
          1.0737943843028548,
          0.23789224590192637,
          -0.7447787267337175,
          -0.77858290129384,
          0.31791969123035957,
          0.11398831962028756,
          -0.6100752787869586,
          1.141936379804888,
          -0.8450704477733129,
          1.6333646019213017,
          -0.4237095131615527,
          -0.8836195519671802,
          -0.8483983919604494,
          -0.8836195519671802,
          2.035986084142228,
          0.14245225572380887,
          0.1539013709452081,
          -0.7764951368083941,
          0.14594634546544283,
          0.7151491987557022,
          -0.9209863493675902,
          -0.7081278797114477,
          0.13264344369166053,
          -0.761662027584825,
          3.7805559244438407,
          -0.7004577186986464,
          -0.7552909778891834,
          -0.844017031660617,
          -0.6231119837719655,
          -0.8067904059409166,
          -0.2602729034555504,
          0.5989962337689343,
          -0.6617996484936023,
          -0.348652680604891,
          -0.6398297494595234,
          -0.6137269032567391,
          0.18808164092028934,
          0.5254785315153467,
          -0.8936696750191948,
          0.39067787720566893,
          1.5863098585459816,
          -0.86756906307943,
          -0.6931935250377174,
          0.16025602327078373,
          -0.6204942917380871,
          -0.7995733882261327,
          -0.706428970764162,
          0.5761913172296319,
          2.3911376017270576,
          -0.5807369463088282,
          0.36182553139379475,
          -0.8497581514577532,
          -0.8253831552391129,
          0.8923537203860195,
          -0.8118863466504703,
          -0.41052576632703625,
          0.5434044049803155,
          0.1695791518060332,
          -0.7011104627729533,
          0.13388361822905376,
          1.0430754645503495,
          0.36271237415763957,
          0.5038962192609866,
          -0.3263978375986578,
          1.495448713022327,
          -0.7706457013195255,
          -0.6483419218809545,
          0.36416229827303204,
          -0.03825811556211208,
          0.322803107238336,
          -0.8944691268725343,
          -0.626485016442356,
          -0.5578858215444686,
          0.9593443634248342,
          -0.8113133415390015,
          1.5282900598659277,
          0.430165793143003,
          0.8042265517896974,
          -0.5638080371731559,
          0.5579959520359976,
          -0.5246408117467772,
          -0.6125625422253405,
          -0.4710445904125269
         ],
         "y": [
          -0.5453933846811406,
          -0.32273170686073327,
          0.5005064265091344,
          0.32671170669248334,
          -0.7402771798961479,
          -0.43114399669289316,
          0.9663029327495066,
          0.09365782985345263,
          0.42234901393005103,
          0.07544813246401323,
          0.8772221079280941,
          -0.5432177405214892,
          -0.9653763584532663,
          -0.3866447312754583,
          1.0825065995060505,
          -0.9447916980593333,
          -0.018910723784778313,
          -0.2802097434274363,
          -0.07528435030348139,
          -0.04097360364515441,
          -1.5125370149560446,
          0.3002274434049733,
          -0.22104941939009348,
          0.18299908235799886,
          -0.03952334763701002,
          -0.6119469057901513,
          -0.11984733754518978,
          -0.08600608148823415,
          0.4019589213787462,
          0.475864165250553,
          0.5642350855457826,
          -0.13908995977127436,
          0.323768586326455,
          -0.29569346177642564,
          -0.03179226075193551,
          -0.3687922807538493,
          -0.08024336681815572,
          -0.6992041390565455,
          0.47804506959662363,
          -0.9215456306200435,
          -0.09332799486783806,
          -0.08259991814786666,
          -1.6060682322718036,
          -0.15059347268019854,
          -0.8129715417180303,
          0.6179744972670349,
          -0.732260059390626,
          -0.007938648671619765,
          -0.34783619652500075,
          -0.16577595376877585,
          -0.24449618482066632,
          0.48349916658486025,
          -0.18804162438197972,
          -0.27608749642513614,
          -0.15711087939785376,
          -0.16061509239677665,
          0.013298788820074988,
          -0.8282880571209486,
          0.6515367136601617,
          0.6084872552651502,
          -0.5639621310157512,
          -0.0021043176764076635,
          0.9379235954111661,
          0.6330135506400538,
          -0.12947339176745734,
          -0.5777190494342035,
          0.5664791100280332,
          0.44750158484223024,
          0.9968198736249867,
          -0.17323246314627916,
          -0.35849718795780167,
          -0.3000793265407183,
          0.5017077133201433,
          -0.6479007795638602,
          0.38709900733963426,
          -0.018025005494718308,
          0.009522702969404087,
          0.006285455435361527,
          0.0017596539014760213,
          -0.09942883489231974,
          -0.010636521137524798,
          -0.13395423615486726,
          0.36889981789909526,
          -0.5883422489454204,
          -0.8491994076358684,
          -0.1409105589201451,
          -0.0747841989339545,
          -0.23572331753153603,
          0.6057852009707049,
          0.6194305311168825,
          -0.22244320103178078,
          -0.17062203386956692,
          1.0336109707147072,
          -0.0843589035194931,
          -0.7942891384490258,
          0.5578986497897022,
          -0.014883295699477238,
          0.7836896537447231,
          0.3776484620132344,
          -0.11408301829128992,
          -0.08845965652957517,
          -0.15579623116242175,
          0.8958457717667768,
          -0.3704754325333859,
          -0.08896923266773095,
          0.48093148990204615,
          -0.6896244545988556,
          -0.007532536061685394,
          -0.05456084180918847,
          -0.09370347042860906,
          1.0281686532683465,
          0.14238434079858206,
          -0.41514066740010286,
          -0.23828088152956625,
          0.617433101136503,
          -0.5087682520663586,
          -0.030301001748004486,
          -0.7429147625824776,
          -0.09954228471640197,
          0.7399493207277203,
          0.8406362800403668,
          1.0564874861643212,
          -0.6801073324178833,
          -0.021697168445859047,
          -0.07471180820950435,
          -0.37260405887898745,
          -0.2307769527956739,
          -1.0263955690179942,
          -0.2595476536034296,
          -0.6959701328807042,
          0.626004825231591,
          0.5528442494552284,
          0.08851580496800483,
          -1.0684175538417635,
          -0.25700751600057914,
          -0.06615269257647743,
          -0.7637137887880775,
          -0.019596660686004186,
          0.5175959553066626,
          0.06416010782621505,
          -0.08617219640900266,
          0.3346054358245717,
          0.7417692364012551,
          -0.11862797933436378,
          0.918577312791781,
          0.6560304576764907,
          -0.246872770137479,
          -0.14919291122411707,
          1.2727016852283275,
          0.6929979009002619,
          -0.6478818861497577,
          -0.6160189684385925,
          -0.14046981099944697,
          0.3809424497159365,
          -0.08734925910903435,
          -0.056827222080691554,
          -0.23464005343151936,
          -0.9177217673130945,
          -0.8957091454976508,
          -0.634553543422862,
          -0.030704461532025686,
          -0.026231625498095056,
          0.14968308910829725,
          -0.02703182194227546,
          -0.013323300111323131,
          -0.5328959526213017,
          -0.31956721366204216,
          -0.1296052373782716,
          -0.23188211389454383,
          -0.6191764539331337,
          -0.4977984223978665,
          -0.8511928500125984,
          -0.6997307599173119,
          -0.02284205171503921,
          -0.6548940797870499,
          0.588738226204132,
          -0.007982051604517728,
          0.10181042768305372,
          -0.007982051604481231,
          -0.5212247205547709,
          1.0113584881887898,
          -0.11132588611337912,
          -0.1021455422789827,
          0.5340649147777853,
          -0.0718482722835761,
          -0.05102907484459238,
          -0.3630748031724662,
          -0.1767423105715366,
          -0.0654824003425874,
          -0.46475566188653716,
          0.2890334186698594,
          -0.054944397254167554,
          0.024139500060634866,
          -0.606122031378729,
          -0.002418360435958806,
          0.6364070167360958,
          -1.373035769657944,
          -0.1266996090828961,
          -0.7644096614885486,
          0.4239506279934358,
          -0.5702605516022152,
          -0.36570899845644117,
          0.5294313699313042,
          -0.008632949762540558,
          0.6076453687957937,
          -0.13608476081161233,
          -0.28155665777493183,
          -0.3904563222610925,
          -0.21599269242104457,
          -0.5377624423096837,
          -0.016835613811784386,
          -0.1987199315481424,
          -1.0304023917535265,
          -1.1036409715197641,
          0.6147564651656712,
          -0.5024474479690079,
          0.11329561640093277,
          -0.05634555576776556,
          -0.22360728382689493,
          0.054026107155972114,
          -0.7106842338592898,
          1.2452676829039506,
          -0.4206600774911834,
          0.5956345724227,
          0.40765786294069173,
          2.1248139150705407,
          0.20079425573666493,
          -1.2709465821830161,
          -0.4904159252691743,
          0.43751364118955355,
          -0.2745867679564458,
          0.3125196326008278,
          -0.625096416300853,
          -0.8604923363672745,
          -0.6777484748937042,
          -0.016661954137237135,
          -0.5914915426155762,
          0.534545469449225,
          -0.1883086477326903,
          -0.08714867534803582,
          -1.1064115001755253,
          -0.6827111166953634,
          1.7499633661174925,
          -0.9504883797653737,
          -1.1718265499438736,
          -0.6362452326379616,
          0.6245551413413256,
          0.857571221505766
         ],
         "z": [
          -0.2427122248433104,
          -0.12775193589694359,
          0.4382802779257946,
          0.7850840305204543,
          -0.7597805977174902,
          1.335228360606706,
          0.1306563288740305,
          0.2232144486640376,
          -0.022505820896051285,
          0.274995503526024,
          0.19195121628882508,
          -0.9778706225744503,
          0.4218900705510345,
          0.6269865348607071,
          -0.2573689354329855,
          -0.3017285057652763,
          0.3055937139182543,
          0.4599923878527587,
          0.2399613350605294,
          0.24201874551759178,
          -1.0940689859371395,
          0.44229444689760145,
          -0.00047906871282077287,
          0.11053601740508769,
          -1.2408614325241134,
          0.0748808824856945,
          0.34240733276075086,
          0.28690638008756564,
          0.7703338915394083,
          0.4025438074928587,
          -0.3553368651329688,
          0.3826492191929549,
          1.1809021003575488,
          0.670259447711145,
          0.26948012809820715,
          -0.14494452204503447,
          0.3605215513496715,
          1.3603942284482198,
          1.2423786835605979,
          -0.7335419078011534,
          0.29362430846497006,
          0.2814425142801677,
          -1.3482442011390563,
          0.4218493243510563,
          -0.3146584829984133,
          -0.34750344637577324,
          -0.013099122607075075,
          0.2846262034917964,
          0.9682317656261172,
          0.3066513907653858,
          -0.1764881373294039,
          -0.414920693242081,
          0.6798256565121502,
          0.5699001560090713,
          0.3219364216548651,
          0.25013923345132005,
          0.19717657281792822,
          -0.6651633246709161,
          -0.38036299362426856,
          -1.277248972143018,
          -1.5202902585680098,
          0.2824370992733801,
          0.17489315199040395,
          -0.33623080442327924,
          0.18504904676554113,
          0.017332454656254128,
          -0.4084380074990783,
          -0.060725774791095755,
          0.08150793754549297,
          0.49723649858400604,
          -1.1314204182845893,
          -0.4939533961447274,
          -0.8459700054599288,
          0.07947374180655961,
          0.7607091650711973,
          0.2810665550082473,
          0.2522636737324727,
          0.28432394224317453,
          0.22394818057793883,
          0.35722406186208994,
          0.28874224771417945,
          0.6663899190577781,
          1.2632649306250752,
          -0.3097267032648536,
          0.17662014016977387,
          0.6326753411516043,
          0.251174507327492,
          0.19514333314447474,
          -0.33148746378779614,
          -0.37986666554459053,
          0.2696696369118042,
          -0.05722393457672625,
          0.9249855960186173,
          0.24125926647484075,
          -0.5605098968648787,
          -0.296949795411913,
          0.28264145713541394,
          0.38936256220637117,
          0.44360480997869445,
          0.16415170154969946,
          0.2887694304540328,
          -0.5548521534923297,
          -0.08485371984690841,
          -0.25477937551091595,
          0.2712705317544859,
          -0.30183624410584586,
          -0.7157273466140173,
          0.2966543692568187,
          0.39883257191830296,
          0.6284053514450281,
          -0.03894410685724541,
          0.18689946484979375,
          0.04350255709855954,
          -0.05609085967749856,
          0.05677426856024804,
          -0.23501209860629466,
          0.1807363544771173,
          0.45549713781239914,
          0.6745834567762171,
          1.2721133328368324,
          -0.5437599732067603,
          -0.19453452660454437,
          0.38744029471634056,
          0.29657812419855994,
          0.2991618407918679,
          -0.1695642788194952,
          0.614774284408199,
          0.05738807454784875,
          0.5285687042188942,
          0.13219429007269054,
          -0.3400628571715094,
          1.2888249263421874,
          0.2762173993545348,
          -0.9069942856754643,
          -0.09825491741602241,
          0.38984958093158695,
          -0.6135535026688815,
          0.302598421539123,
          0.42880369609284297,
          0.2405737538941023,
          0.17365026976343806,
          0.43169885984497897,
          0.26332176626205234,
          0.5932409053839157,
          -0.5042229444183618,
          -0.45697865555560263,
          -0.06711782351574502,
          0.30721284275260985,
          -0.12524528646287864,
          -0.533126653686357,
          0.04940345179075401,
          -0.7256755847793327,
          0.6790477536814397,
          0.4584101850450088,
          0.6610339048655939,
          0.17869143844999047,
          -0.06664340481070188,
          -0.41625280874029247,
          -0.30826707738675446,
          -0.24043580377517385,
          0.27137313231941235,
          0.2505333209837903,
          -0.966726391452653,
          0.14079829675844832,
          0.3117412829473745,
          0.7693365625540588,
          0.6321891103326998,
          0.28429999690834523,
          0.2366955792143891,
          0.00177527576354778,
          0.20201597046990327,
          -0.689384753137343,
          0.434791965891263,
          0.31048014694460585,
          -0.7527679440788634,
          -0.36196853816039687,
          0.28627675210812503,
          0.22416421110697599,
          0.2862767521081431,
          1.3560620262587644,
          -1.6286326566507394,
          0.5446660434340523,
          0.1630650720648109,
          0.6585176457892407,
          -1.2801512247575577,
          0.3902818026615545,
          -0.11908388305816268,
          0.6843041771561763,
          0.3159350100580307,
          2.339802538152576,
          0.3812366975666577,
          0.23744523392991723,
          0.20086041057084428,
          -0.2148885599847711,
          0.20687015939454678,
          -0.5107807591439317,
          -0.8774188931044437,
          0.29915603131029583,
          -0.29167299272572755,
          0.45159447938294317,
          -0.3098410089249816,
          0.43269618379583047,
          1.0750491360897825,
          0.26783705611212977,
          1.013183447415223,
          -0.1426897978329735,
          -0.1142601904016732,
          -0.12743351337081998,
          0.6405662445767063,
          -0.22138945766541393,
          0.2176355925091737,
          0.24680112724078365,
          -0.07017217203669705,
          0.6284808168189236,
          -0.38153699331275026,
          -0.06311087617670637,
          0.21987252371425411,
          0.22444885195507927,
          -0.8923629837770586,
          0.17226435908835144,
          -0.37126730181067347,
          0.2833068063457913,
          0.22751890205171998,
          0.33158195152659564,
          0.817305864104461,
          -1.3931431955355438,
          0.7664140142180008,
          -0.4180969051862243,
          -1.6929255924748163,
          0.40762629026959807,
          -0.11915041351969038,
          0.04744408891270218,
          0.3900989695775478,
          -1.9167349204323219,
          0.09268944768339042,
          0.30023479835136196,
          -0.25844275131402644,
          -0.3398036568106032,
          1.027117304827236,
          0.22144422265111857,
          0.35119476756451734,
          0.04526955858326523,
          -1.1234309262935926,
          -0.6578694687851202,
          -0.3873736971782232,
          -0.2675276036091344,
          -0.35812371726238185,
          -0.4130385825318619
         ]
        },
        {
         "hovertemplate": "color=Positive<br>X=%{x}<br>Y=%{y}<br>Z=%{z}<extra></extra>",
         "legendgroup": "Positive",
         "marker": {
          "color": "#EF553B",
          "symbol": "circle"
         },
         "mode": "markers",
         "name": "Positive",
         "scene": "scene",
         "showlegend": true,
         "type": "scatter3d",
         "x": [
          -0.9117978111966235,
          0.27073055170943117,
          -0.5493750697214892,
          1.2265882293748964,
          1.6593947225237882,
          -0.8599111934965726,
          -0.7542617446619102,
          1.2877388361289188,
          0.0459083758545113,
          1.684649196135572,
          0.5294695723814022,
          0.3677027765054114,
          0.40846999248527344,
          -0.4544987242063466,
          -0.8007763177930578,
          -0.8798201646990972,
          -0.5231153343187812,
          -0.3770625628429959,
          -0.5918128143147854,
          -0.5689500399170364,
          -0.8206488794736576,
          -0.8730571285640119,
          -0.5418048329076985,
          -0.3652731610144416,
          1.0684534115979505,
          0.31641476472993996,
          0.32517576294470757,
          1.7009573050877567,
          0.16468064593856385,
          0.7374775926030537,
          1.8101294874478684,
          0.5509648104722034,
          0.23205499709757185,
          0.14116209287681053,
          0.7605601260781523,
          1.9541267778090563,
          0.44263116159406746,
          0.5496503063114898,
          -0.8588791166581689,
          0.5201807016581653,
          0.4107569069353419,
          -0.010832662969181953,
          1.2114353093648005,
          0.9696399122021319,
          2.2900896013443006,
          0.9996471087972709,
          2.751524812540347,
          0.01770143949625934,
          -0.8482906480957016,
          -0.8809479489034917,
          -0.8993395968688724,
          -0.5705324160926887,
          -0.2384890105517462,
          0.2301995810597884,
          -0.002990720367861569,
          0.09765933440726132,
          -0.8459350836687222,
          -0.04915945846127564,
          1.118597154240025,
          -0.8427831291137586,
          -0.8727640090258865,
          1.07768505893078,
          0.19061228885778286,
          -0.8583488083090569,
          0.1387396235369689,
          -0.7182686126369828,
          -0.8586093221318203,
          -0.6590732444209165,
          -0.44669666937413044,
          -0.8588922183713694,
          1.0846449928868835,
          -0.30777778661831107,
          1.3893773571253676,
          0.22404186534674053,
          -0.5255488463443518,
          -0.6596166873935184,
          0.4202302337469879,
          0.4070009173550668,
          0.6120224224740066,
          0.9659238757257701,
          -0.8729303546768133,
          -0.8434796617003119,
          0.5248625682638972,
          0.7441815436094301,
          0.5789337134185369,
          -0.8661258674846549,
          0.3822944495485137,
          -0.6270136050631112,
          1.4591429159665361,
          0.2278762994404399,
          -0.8615561623349578,
          0.14892637061628844,
          -0.8824506719920717,
          -0.6007804586069834,
          0.8471612396939523,
          -0.5182142812344006,
          0.4634414759421124,
          2.431996495934723,
          0.5499384102175051,
          0.888363280729633,
          -0.5185173092940584,
          0.024238639457802497,
          -0.7971265050744908,
          -0.3802861577025017,
          -0.575955933851887,
          -0.8822340927162639,
          -0.8818491066973907,
          2.67612218620379,
          0.3687053993523592,
          0.22744007179653947,
          0.43339542646304047,
          -0.6478137770169897,
          -0.00739161587892768,
          0.4027341864988996,
          0.27555520721976273,
          -0.8581156925508944,
          -0.20486165578728083,
          1.2001195633366417,
          -0.6090384052143174,
          -0.7410447566984093,
          -0.741832830895095,
          0.6468902360732067,
          0.9619599936265258,
          -0.8658494656967686,
          0.7720866204547281,
          -0.7831436704358901,
          1.8618195895405074,
          -0.8599111934965726,
          0.5410180734803648,
          4.828082168333355,
          -0.5980981601567219,
          1.9653659092283358,
          -0.8837773124490814,
          0.5090857424082058,
          -0.5582989486166137,
          0.4239392919339157,
          -0.6976454894802179,
          0.022241671976852985,
          0.10865723665751179,
          -0.9067827421400483,
          -0.8687423729919789,
          1.3708261870110117,
          -0.6460376025213592,
          -0.8260764042914277,
          -0.4851421305645562,
          -0.8810467520216458,
          -0.6773046022205358,
          -0.6474856686618236,
          -0.6143186728403693,
          1.3337568337119001,
          -0.30778543555957255,
          -0.7526089154470398,
          -0.13176057968085583,
          0.04137002360918503,
          -0.8821484811117173,
          -0.8105048616720655,
          -0.6623786088433763,
          0.884739891152207,
          -0.8854337926905574,
          -0.8533041718168091,
          0.08810468841480647,
          0.6900716610773568,
          -0.8713115485454883,
          -0.6647612380250578,
          -0.42493212648097395,
          -0.7299012930914338,
          0.1179242061732052,
          -0.8608458221777568,
          2.5271171242479005,
          1.480985367634049,
          1.053294223674319,
          0.4862512807861274,
          -0.5700063034692889,
          4.090603784764357,
          -0.9156051393953307,
          -0.8473041672600711,
          2.1108094329398033,
          1.39427594931066,
          1.3727866084310458,
          1.8458503846547996,
          -0.8817157653856251,
          -0.8775143230481401,
          0.34075308900486057,
          -0.8889052859710037,
          0.43072260979557725,
          0.5018858343800355,
          -0.884743939362255,
          -0.88124484314118,
          1.6651192878503789,
          -0.8027834789901934,
          -0.8817157653856251,
          -0.5405315102232542,
          -0.5395249716580927,
          0.24201237165747255,
          0.8220281192734356,
          2.555431491020032,
          0.4415736210925052,
          0.017551298622413978,
          -0.836251142934028,
          -0.7552032445525034,
          -0.04085709633886854,
          -0.825031709172066,
          0.21222571126192766,
          -0.5642699422328781,
          -0.5976932669895614,
          -0.4793828209047243,
          -0.6776166496252533,
          -0.09901532306031183,
          -0.5488762261265636,
          -0.8654183400440844,
          -0.43784885233862025,
          -0.913175019868467,
          -0.841730267348402,
          -0.4138257631032225,
          0.6210962295818261,
          1.8196086841418186,
          -0.5889717734605806,
          0.9875166033866587,
          -0.895232147150864,
          -0.521772275467938,
          -0.25557638638304264,
          -0.6285984240120613,
          1.6191075107126103,
          -0.8959882922629826,
          -0.8795486085160765,
          -0.37568235216685403,
          -0.5865251662477463,
          -0.8776304962659889,
          -0.8528780023936918,
          0.3220618479083853,
          0.04115808413942688,
          -0.8417758074900382,
          2.7878202548591653,
          -0.8657498124418243,
          -0.4009339236391517,
          0.5350612952685853,
          -0.6304654490936361,
          -0.2844952588972942,
          3.1945262393227667,
          0.2944983550377707,
          -0.4437306545061903,
          -0.8751569262262783,
          0.5737109083232511,
          0.4992906844409677,
          -0.5860555285169938,
          0.4348802317258064,
          1.09735309010334,
          -0.8216248626686807,
          1.0308249013513913,
          0.11954216281108151,
          -0.7999997672195329,
          1.3965634850245843
         ],
         "y": [
          -0.0916149337794956,
          0.4514236215888034,
          0.7850481222929984,
          -0.7982882983954652,
          -0.5207530134155111,
          0.05863564997633761,
          -0.05682725102562464,
          -0.7691636664391021,
          -0.030693883459405265,
          0.508925652201042,
          -0.7890108672053935,
          0.4669499990410072,
          -0.5246819844667399,
          0.6021557131192643,
          -0.033759792752926406,
          -0.007895719024815574,
          -0.8226711593966087,
          1.1914076905510171,
          0.6063183293728746,
          0.6304276446159129,
          -0.583166787156732,
          0.08097101011145261,
          0.8370213956581195,
          -1.0844128770232386,
          2.2648991820003346,
          0.06881721332664198,
          0.21330305074281952,
          -1.964838368780394,
          -0.41423208693665947,
          -1.506663887057574,
          -0.5097743457436661,
          0.6463690924867015,
          -0.5528383682298315,
          0.44187937947458494,
          1.197463496176088,
          -0.2610273428268055,
          0.7793382301645324,
          -0.018494154896812432,
          0.06262720580378105,
          0.19684523021823006,
          0.14064597757569253,
          -0.10126410318939721,
          -0.8388868880749967,
          0.9624400755879766,
          -0.9921875082995848,
          -0.5054603294548228,
          -0.40743080602372733,
          -0.3389193046603527,
          -0.011541928365691687,
          -0.22903825537305106,
          -0.033317217396884105,
          -0.5219668274261118,
          -0.25767979712138644,
          -0.6628013374021373,
          -0.04936179378295733,
          0.3075101664850691,
          -0.08572622921413556,
          0.10215315377337646,
          -0.7553796479131656,
          -0.08080584579890168,
          -0.003935320172225219,
          -0.2849778296302128,
          -0.32396767533981086,
          -0.026727868744017096,
          -0.2222212674398051,
          -0.12510845416557992,
          0.16528685309944177,
          -0.36733888910656637,
          0.2120585546363989,
          -0.04880871026384529,
          -0.27209010178822063,
          0.021508388242987956,
          0.40686099300416817,
          -0.6588645151741374,
          -0.6940666054020306,
          -0.7819560028779374,
          -1.0121872100862086,
          0.6259031249420882,
          1.5981088392017784,
          -0.19860450732001192,
          -0.037926918352448054,
          -0.3714267088038033,
          0.12425510576730109,
          -0.3498351751476216,
          0.11437696530991331,
          -0.10557903634207803,
          0.4830271538180022,
          0.28948699494430846,
          1.5868299604668339,
          -0.6248326805992012,
          -0.07597539389361416,
          -0.25583923373098594,
          -0.0022601998008998517,
          -0.5121207455405015,
          2.2598707369313566,
          0.5763427809134066,
          -0.6341201522677907,
          -0.6912039690906309,
          -0.07847420750376212,
          -0.45957031969210727,
          0.5426054533607119,
          0.08996452534672215,
          -0.06517591612169678,
          0.47492339397428746,
          0.6528058171496954,
          -0.005659025803822672,
          -0.02209181309669632,
          1.4702079511601627,
          -0.21768282963580352,
          0.3357869434350894,
          -0.7858159797115034,
          -0.5407882548669245,
          -0.3700136204868922,
          0.5123422647807169,
          0.7663361863147876,
          -0.25637083712707937,
          0.08667619991928101,
          0.3236735041366393,
          -0.6094220717329574,
          -0.022605624517481087,
          -0.08855606489406685,
          -1.1288182007225032,
          -0.21879048776703697,
          -0.010639345861442004,
          1.1739405582149802,
          0.510127833026989,
          0.24952714200081189,
          0.058635649976337675,
          0.43345271001993,
          -1.5116236810840238,
          -0.6134185253156235,
          -0.8064968078827544,
          -0.002099903087799193,
          1.4600678449417919,
          0.5274771991645442,
          1.6416384398341113,
          -0.43725153327873134,
          -0.14019830040752987,
          -0.16572246450873201,
          -0.24695093171320637,
          0.07530951434111062,
          0.3238494776119904,
          0.1176740379826385,
          0.17206784478084972,
          1.038528424618212,
          -0.01070863080978012,
          -0.3605266394521261,
          -0.858986896512035,
          0.4009655471190158,
          0.334032606650316,
          -0.10656617131613974,
          -0.5088859205712685,
          -0.32284935589723773,
          -0.07101862148528552,
          -0.023267088339832223,
          -0.22513932065977935,
          -0.793737431446185,
          -0.4252115993178149,
          0.0418665272506319,
          0.05107643693304295,
          -0.11654439948350959,
          1.22707024832412,
          0.008073238209454959,
          0.010297842324371394,
          0.48255956302632713,
          0.3314726055414455,
          0.007763841836814657,
          0.006318592888136529,
          0.9045021725686037,
          -0.07304305625805128,
          0.6347985890323207,
          1.2169493878486348,
          -0.5561115205086297,
          0.3709752579499503,
          -0.2685964070794249,
          0.10144573426711917,
          0.35345349099959095,
          1.0974640629796648,
          -0.9253831282896228,
          -0.3280564638922628,
          -0.007938648671620125,
          -0.016438499573699066,
          -0.8965583851810811,
          0.07409622857809745,
          1.0765999697940758,
          -0.5181390894837277,
          0.07783745964241887,
          0.10037431625938656,
          -0.5966434722376582,
          0.05643185955579584,
          -0.007938648671617613,
          0.6421687293651575,
          0.7683002884559338,
          -0.6690416777745376,
          0.7998500086064968,
          -0.32632696631310676,
          0.3341166978624005,
          -0.1222337234473903,
          -0.14008724404161535,
          -0.46411039447572433,
          1.3887286426448415,
          -0.10971687508967952,
          -0.6259857930035848,
          0.7764392263363301,
          0.8738859450826394,
          0.5790466156503911,
          0.2996082448375168,
          2.1296686175178623,
          0.5385349862255955,
          -0.05265881111672896,
          0.815468870543976,
          0.15999983888808708,
          -0.03045966330752578,
          0.5218060061257983,
          0.6842578977864278,
          2.160050585297024,
          0.6476451100126658,
          0.39725672262893424,
          -0.24217468426975444,
          0.7960174523711198,
          1.0835595587514952,
          -0.8013489497282309,
          -0.6108203035241913,
          0.07851300253087244,
          -0.30393197740230654,
          0.6600478243128503,
          0.7022915103631322,
          -0.2547994320371968,
          -0.011433818479487767,
          -0.8498296198223986,
          -0.1444818042150418,
          -0.26360028316016787,
          1.6046292430278317,
          0.07339503473057189,
          -0.002523491856461188,
          -0.13283452127846437,
          -0.3001786805037339,
          0.9545558731362901,
          -0.13124726127900024,
          0.53964332388723,
          0.7036400541183873,
          0.1004769504111755,
          0.12293303581610576,
          -0.034821929696164086,
          0.6041461450616793,
          -1.038680977848461,
          0.29423052714249,
          0.33979638894153386,
          -0.15713712422183657,
          0.37344034274840093,
          -0.22918277947405793,
          -0.09021975912878008
         ],
         "z": [
          0.3313084973425782,
          0.6494124428319616,
          -0.42029805962395755,
          0.4740244768471292,
          -0.8999303176005111,
          0.22573531453209186,
          0.31506988422398263,
          0.6402087619815816,
          0.5268332314378119,
          -0.8383529135004175,
          -0.37222069871579866,
          -0.25733545830523774,
          -0.054530021657503695,
          0.17430668662672244,
          0.21711233705068816,
          0.2829945817680663,
          -0.647770319874725,
          -0.15459671581556678,
          -0.3350016226242812,
          -0.35571280537746613,
          -0.6730701817545095,
          0.28964353976974433,
          -0.4435710656406042,
          -0.8036882648405502,
          -0.5575757082821624,
          0.34179127460229963,
          0.7875131119391023,
          -0.6346947190775611,
          0.2533932372380577,
          -0.4650921203368627,
          -0.24556542138666734,
          -0.03505010818708888,
          0.021558458384055897,
          0.7340574593303522,
          -0.823353344396435,
          -0.18510487678937518,
          -0.21929710087972018,
          -0.5545812741919539,
          0.23209207256649328,
          -0.12994633924439986,
          0.7778873316356884,
          0.5967382618238013,
          0.31436423030050176,
          -1.4078426444536771,
          0.65112895865643,
          -1.1137578293855126,
          -0.8239445721331782,
          -1.4737308478422633,
          0.33672245243100646,
          -0.08780995505309995,
          0.30301834074371903,
          -0.3285688200333916,
          -1.3245482224393264,
          0.06523691741590362,
          0.6010548882671284,
          0.7677600743261882,
          0.27817987227899554,
          -0.9185607188080868,
          0.4452738486926541,
          0.28287692057688146,
          0.3127336058469373,
          1.0114732961205855,
          0.5576465265069801,
          0.25229154891513755,
          0.7056076166939773,
          0.16180006926759108,
          0.2923231203163586,
          -0.040202451642305494,
          -0.7085281129887184,
          0.23338883231062182,
          0.8887544560297789,
          -0.8796950300314511,
          0.23279827256206906,
          -0.14664317089505846,
          -0.43746812292448556,
          -0.6379124376584766,
          -0.21489339360448345,
          0.02914901639671485,
          0.2087482567045244,
          0.9017868548436546,
          0.23877427083142344,
          -0.12978832011821181,
          -0.611663446929582,
          -1.2131064843217272,
          -0.7369179431032568,
          0.2983037638099702,
          -0.04641094623882594,
          0.41808586250665225,
          0.5859707965399916,
          0.08313276847176124,
          0.26739957281754384,
          0.5454589753428971,
          0.2882782629108641,
          -0.2507371330624421,
          -0.3871221048145276,
          -0.4295599420623001,
          0.1389427701960086,
          0.903430207848868,
          -0.5682007684978463,
          -1.1140806335530404,
          -0.4322346692626222,
          0.5358434325249302,
          0.21770742465978773,
          -0.4117468620834605,
          -0.4005226416239523,
          0.27565122228407946,
          0.254165517068351,
          0.22416505618304863,
          0.6494580937445906,
          0.7471255339940696,
          -0.46047998989408584,
          -0.24703317354944182,
          0.20600528166455823,
          -0.014329810266507422,
          -1.7966125229798076,
          -0.10485846877045443,
          -0.9058074739497017,
          1.0288329844893271,
          -0.249467027492044,
          0.3144083907656629,
          0.331917678510913,
          -0.26897803563287165,
          0.8890413907242508,
          0.2951784108822556,
          -0.8988708447597881,
          0.43114336941911796,
          0.3228116682821444,
          0.22573531453209186,
          -0.004760293719663946,
          -2.0148541333262133,
          -0.31194170723085474,
          -1.5906865159009362,
          0.2595264377240568,
          0.30646953129253096,
          -0.349496610471183,
          -2.213891631325135,
          -0.10359503869587174,
          0.609054187904462,
          0.583290614063724,
          -0.10396050996620461,
          0.22138819816192246,
          0.18362739877297884,
          0.23277222451547058,
          0.13684696554804174,
          -0.15956238210699092,
          0.28111166336624277,
          -0.13900705478442726,
          -0.6606153573310204,
          0.47753898779605336,
          0.20149089150898897,
          -1.311268288653339,
          -0.4515319408765268,
          -1.5420106675678396,
          0.5909303509123544,
          0.30792485183654417,
          0.24496655050758498,
          -0.6459868056334457,
          -1.0372969388000255,
          0.20723962376479257,
          0.2578491891469244,
          0.5917187720682318,
          -0.7857419755049454,
          0.2687692200274497,
          0.2617810883054303,
          -0.351910102249342,
          0.445890890112145,
          0.5469578043311564,
          0.3136286701115975,
          -0.0031158987625767897,
          -0.3235292489768028,
          0.16189126439691745,
          0.12449897397797094,
          -0.29420988734587855,
          -0.25996423173966476,
          -0.1147378351229374,
          0.21933126146724458,
          0.7438217421234228,
          0.4166783598250869,
          0.44251673927629265,
          1.2080465962346705,
          0.28462620349179724,
          0.25998165329076567,
          -0.2861705178554124,
          0.23352420906153878,
          0.10266213934550503,
          0.47531521646791985,
          0.2470566640155327,
          0.2455155148995012,
          0.6495364046949147,
          0.13310845770262114,
          0.28462620349179685,
          -0.28314717183183574,
          -0.41325902638828016,
          0.11718190874930709,
          -1.1270815434540074,
          0.06811384023818,
          -1.467909686471324,
          0.6407378507875939,
          0.2410858279738276,
          -0.23363342119797817,
          -1.1692862338055006,
          0.270943818315964,
          0.09780238565079914,
          -0.38647023205997477,
          -0.45594871365153744,
          -0.4159739226569132,
          0.39934595071731677,
          -0.8715183302304345,
          -0.3479503511288434,
          0.27454958971319265,
          -0.42670994725461986,
          0.1974656814416862,
          0.2902341168695725,
          -0.43165499974132143,
          -0.15038024768517355,
          -0.06221582833923987,
          -0.3334662850667476,
          -1.800041739178631,
          -0.10373611051434656,
          -0.4438101383559365,
          -0.2641339845734278,
          -0.6252881046477374,
          -0.7733718761241554,
          0.2525212472712314,
          -0.13773190331086044,
          -0.5319716603775818,
          -0.4027075904705807,
          -0.0780750623998697,
          0.30198176436780205,
          -0.37936784522065453,
          0.5064700361279778,
          -0.06948189060633947,
          0.1301031717934122,
          0.21507250036686448,
          -0.12297622046679864,
          0.7052784210968038,
          -0.3349388741141399,
          -0.11456436121437115,
          -1.2094622349609756,
          -0.004824314073719086,
          -0.29392985953809725,
          0.257330569067129,
          -0.6455619862750873,
          -0.5628774174375469,
          -0.3066159337357224,
          -0.19682342151695914,
          1.081836771864638,
          0.08322898257328824,
          -2.060713699496225,
          0.7160304654165504,
          -0.11454104207898372,
          -0.20344440646483866
         ]
        }
       ],
       "layout": {
        "legend": {
         "title": {
          "text": "color"
         },
         "tracegroupgap": 0
        },
        "margin": {
         "t": 60
        },
        "scene": {
         "domain": {
          "x": [
           0,
           1
          ],
          "y": [
           0,
           1
          ]
         },
         "xaxis": {
          "title": {
           "text": "X"
          }
         },
         "yaxis": {
          "title": {
           "text": "Y"
          }
         },
         "zaxis": {
          "title": {
           "text": "Z"
          }
         }
        },
        "template": {
         "data": {
          "bar": [
           {
            "error_x": {
             "color": "#2a3f5f"
            },
            "error_y": {
             "color": "#2a3f5f"
            },
            "marker": {
             "line": {
              "color": "#E5ECF6",
              "width": 0.5
             }
            },
            "type": "bar"
           }
          ],
          "barpolar": [
           {
            "marker": {
             "line": {
              "color": "#E5ECF6",
              "width": 0.5
             }
            },
            "type": "barpolar"
           }
          ],
          "carpet": [
           {
            "aaxis": {
             "endlinecolor": "#2a3f5f",
             "gridcolor": "white",
             "linecolor": "white",
             "minorgridcolor": "white",
             "startlinecolor": "#2a3f5f"
            },
            "baxis": {
             "endlinecolor": "#2a3f5f",
             "gridcolor": "white",
             "linecolor": "white",
             "minorgridcolor": "white",
             "startlinecolor": "#2a3f5f"
            },
            "type": "carpet"
           }
          ],
          "choropleth": [
           {
            "colorbar": {
             "outlinewidth": 0,
             "ticks": ""
            },
            "type": "choropleth"
           }
          ],
          "contour": [
           {
            "colorbar": {
             "outlinewidth": 0,
             "ticks": ""
            },
            "colorscale": [
             [
              0,
              "#0d0887"
             ],
             [
              0.1111111111111111,
              "#46039f"
             ],
             [
              0.2222222222222222,
              "#7201a8"
             ],
             [
              0.3333333333333333,
              "#9c179e"
             ],
             [
              0.4444444444444444,
              "#bd3786"
             ],
             [
              0.5555555555555556,
              "#d8576b"
             ],
             [
              0.6666666666666666,
              "#ed7953"
             ],
             [
              0.7777777777777778,
              "#fb9f3a"
             ],
             [
              0.8888888888888888,
              "#fdca26"
             ],
             [
              1,
              "#f0f921"
             ]
            ],
            "type": "contour"
           }
          ],
          "contourcarpet": [
           {
            "colorbar": {
             "outlinewidth": 0,
             "ticks": ""
            },
            "type": "contourcarpet"
           }
          ],
          "heatmap": [
           {
            "colorbar": {
             "outlinewidth": 0,
             "ticks": ""
            },
            "colorscale": [
             [
              0,
              "#0d0887"
             ],
             [
              0.1111111111111111,
              "#46039f"
             ],
             [
              0.2222222222222222,
              "#7201a8"
             ],
             [
              0.3333333333333333,
              "#9c179e"
             ],
             [
              0.4444444444444444,
              "#bd3786"
             ],
             [
              0.5555555555555556,
              "#d8576b"
             ],
             [
              0.6666666666666666,
              "#ed7953"
             ],
             [
              0.7777777777777778,
              "#fb9f3a"
             ],
             [
              0.8888888888888888,
              "#fdca26"
             ],
             [
              1,
              "#f0f921"
             ]
            ],
            "type": "heatmap"
           }
          ],
          "heatmapgl": [
           {
            "colorbar": {
             "outlinewidth": 0,
             "ticks": ""
            },
            "colorscale": [
             [
              0,
              "#0d0887"
             ],
             [
              0.1111111111111111,
              "#46039f"
             ],
             [
              0.2222222222222222,
              "#7201a8"
             ],
             [
              0.3333333333333333,
              "#9c179e"
             ],
             [
              0.4444444444444444,
              "#bd3786"
             ],
             [
              0.5555555555555556,
              "#d8576b"
             ],
             [
              0.6666666666666666,
              "#ed7953"
             ],
             [
              0.7777777777777778,
              "#fb9f3a"
             ],
             [
              0.8888888888888888,
              "#fdca26"
             ],
             [
              1,
              "#f0f921"
             ]
            ],
            "type": "heatmapgl"
           }
          ],
          "histogram": [
           {
            "marker": {
             "colorbar": {
              "outlinewidth": 0,
              "ticks": ""
             }
            },
            "type": "histogram"
           }
          ],
          "histogram2d": [
           {
            "colorbar": {
             "outlinewidth": 0,
             "ticks": ""
            },
            "colorscale": [
             [
              0,
              "#0d0887"
             ],
             [
              0.1111111111111111,
              "#46039f"
             ],
             [
              0.2222222222222222,
              "#7201a8"
             ],
             [
              0.3333333333333333,
              "#9c179e"
             ],
             [
              0.4444444444444444,
              "#bd3786"
             ],
             [
              0.5555555555555556,
              "#d8576b"
             ],
             [
              0.6666666666666666,
              "#ed7953"
             ],
             [
              0.7777777777777778,
              "#fb9f3a"
             ],
             [
              0.8888888888888888,
              "#fdca26"
             ],
             [
              1,
              "#f0f921"
             ]
            ],
            "type": "histogram2d"
           }
          ],
          "histogram2dcontour": [
           {
            "colorbar": {
             "outlinewidth": 0,
             "ticks": ""
            },
            "colorscale": [
             [
              0,
              "#0d0887"
             ],
             [
              0.1111111111111111,
              "#46039f"
             ],
             [
              0.2222222222222222,
              "#7201a8"
             ],
             [
              0.3333333333333333,
              "#9c179e"
             ],
             [
              0.4444444444444444,
              "#bd3786"
             ],
             [
              0.5555555555555556,
              "#d8576b"
             ],
             [
              0.6666666666666666,
              "#ed7953"
             ],
             [
              0.7777777777777778,
              "#fb9f3a"
             ],
             [
              0.8888888888888888,
              "#fdca26"
             ],
             [
              1,
              "#f0f921"
             ]
            ],
            "type": "histogram2dcontour"
           }
          ],
          "mesh3d": [
           {
            "colorbar": {
             "outlinewidth": 0,
             "ticks": ""
            },
            "type": "mesh3d"
           }
          ],
          "parcoords": [
           {
            "line": {
             "colorbar": {
              "outlinewidth": 0,
              "ticks": ""
             }
            },
            "type": "parcoords"
           }
          ],
          "pie": [
           {
            "automargin": true,
            "type": "pie"
           }
          ],
          "scatter": [
           {
            "marker": {
             "colorbar": {
              "outlinewidth": 0,
              "ticks": ""
             }
            },
            "type": "scatter"
           }
          ],
          "scatter3d": [
           {
            "line": {
             "colorbar": {
              "outlinewidth": 0,
              "ticks": ""
             }
            },
            "marker": {
             "colorbar": {
              "outlinewidth": 0,
              "ticks": ""
             }
            },
            "type": "scatter3d"
           }
          ],
          "scattercarpet": [
           {
            "marker": {
             "colorbar": {
              "outlinewidth": 0,
              "ticks": ""
             }
            },
            "type": "scattercarpet"
           }
          ],
          "scattergeo": [
           {
            "marker": {
             "colorbar": {
              "outlinewidth": 0,
              "ticks": ""
             }
            },
            "type": "scattergeo"
           }
          ],
          "scattergl": [
           {
            "marker": {
             "colorbar": {
              "outlinewidth": 0,
              "ticks": ""
             }
            },
            "type": "scattergl"
           }
          ],
          "scattermapbox": [
           {
            "marker": {
             "colorbar": {
              "outlinewidth": 0,
              "ticks": ""
             }
            },
            "type": "scattermapbox"
           }
          ],
          "scatterpolar": [
           {
            "marker": {
             "colorbar": {
              "outlinewidth": 0,
              "ticks": ""
             }
            },
            "type": "scatterpolar"
           }
          ],
          "scatterpolargl": [
           {
            "marker": {
             "colorbar": {
              "outlinewidth": 0,
              "ticks": ""
             }
            },
            "type": "scatterpolargl"
           }
          ],
          "scatterternary": [
           {
            "marker": {
             "colorbar": {
              "outlinewidth": 0,
              "ticks": ""
             }
            },
            "type": "scatterternary"
           }
          ],
          "surface": [
           {
            "colorbar": {
             "outlinewidth": 0,
             "ticks": ""
            },
            "colorscale": [
             [
              0,
              "#0d0887"
             ],
             [
              0.1111111111111111,
              "#46039f"
             ],
             [
              0.2222222222222222,
              "#7201a8"
             ],
             [
              0.3333333333333333,
              "#9c179e"
             ],
             [
              0.4444444444444444,
              "#bd3786"
             ],
             [
              0.5555555555555556,
              "#d8576b"
             ],
             [
              0.6666666666666666,
              "#ed7953"
             ],
             [
              0.7777777777777778,
              "#fb9f3a"
             ],
             [
              0.8888888888888888,
              "#fdca26"
             ],
             [
              1,
              "#f0f921"
             ]
            ],
            "type": "surface"
           }
          ],
          "table": [
           {
            "cells": {
             "fill": {
              "color": "#EBF0F8"
             },
             "line": {
              "color": "white"
             }
            },
            "header": {
             "fill": {
              "color": "#C8D4E3"
             },
             "line": {
              "color": "white"
             }
            },
            "type": "table"
           }
          ]
         },
         "layout": {
          "annotationdefaults": {
           "arrowcolor": "#2a3f5f",
           "arrowhead": 0,
           "arrowwidth": 1
          },
          "coloraxis": {
           "colorbar": {
            "outlinewidth": 0,
            "ticks": ""
           }
          },
          "colorscale": {
           "diverging": [
            [
             0,
             "#8e0152"
            ],
            [
             0.1,
             "#c51b7d"
            ],
            [
             0.2,
             "#de77ae"
            ],
            [
             0.3,
             "#f1b6da"
            ],
            [
             0.4,
             "#fde0ef"
            ],
            [
             0.5,
             "#f7f7f7"
            ],
            [
             0.6,
             "#e6f5d0"
            ],
            [
             0.7,
             "#b8e186"
            ],
            [
             0.8,
             "#7fbc41"
            ],
            [
             0.9,
             "#4d9221"
            ],
            [
             1,
             "#276419"
            ]
           ],
           "sequential": [
            [
             0,
             "#0d0887"
            ],
            [
             0.1111111111111111,
             "#46039f"
            ],
            [
             0.2222222222222222,
             "#7201a8"
            ],
            [
             0.3333333333333333,
             "#9c179e"
            ],
            [
             0.4444444444444444,
             "#bd3786"
            ],
            [
             0.5555555555555556,
             "#d8576b"
            ],
            [
             0.6666666666666666,
             "#ed7953"
            ],
            [
             0.7777777777777778,
             "#fb9f3a"
            ],
            [
             0.8888888888888888,
             "#fdca26"
            ],
            [
             1,
             "#f0f921"
            ]
           ],
           "sequentialminus": [
            [
             0,
             "#0d0887"
            ],
            [
             0.1111111111111111,
             "#46039f"
            ],
            [
             0.2222222222222222,
             "#7201a8"
            ],
            [
             0.3333333333333333,
             "#9c179e"
            ],
            [
             0.4444444444444444,
             "#bd3786"
            ],
            [
             0.5555555555555556,
             "#d8576b"
            ],
            [
             0.6666666666666666,
             "#ed7953"
            ],
            [
             0.7777777777777778,
             "#fb9f3a"
            ],
            [
             0.8888888888888888,
             "#fdca26"
            ],
            [
             1,
             "#f0f921"
            ]
           ]
          },
          "colorway": [
           "#636efa",
           "#EF553B",
           "#00cc96",
           "#ab63fa",
           "#FFA15A",
           "#19d3f3",
           "#FF6692",
           "#B6E880",
           "#FF97FF",
           "#FECB52"
          ],
          "font": {
           "color": "#2a3f5f"
          },
          "geo": {
           "bgcolor": "white",
           "lakecolor": "white",
           "landcolor": "#E5ECF6",
           "showlakes": true,
           "showland": true,
           "subunitcolor": "white"
          },
          "hoverlabel": {
           "align": "left"
          },
          "hovermode": "closest",
          "mapbox": {
           "style": "light"
          },
          "paper_bgcolor": "white",
          "plot_bgcolor": "#E5ECF6",
          "polar": {
           "angularaxis": {
            "gridcolor": "white",
            "linecolor": "white",
            "ticks": ""
           },
           "bgcolor": "#E5ECF6",
           "radialaxis": {
            "gridcolor": "white",
            "linecolor": "white",
            "ticks": ""
           }
          },
          "scene": {
           "xaxis": {
            "backgroundcolor": "#E5ECF6",
            "gridcolor": "white",
            "gridwidth": 2,
            "linecolor": "white",
            "showbackground": true,
            "ticks": "",
            "zerolinecolor": "white"
           },
           "yaxis": {
            "backgroundcolor": "#E5ECF6",
            "gridcolor": "white",
            "gridwidth": 2,
            "linecolor": "white",
            "showbackground": true,
            "ticks": "",
            "zerolinecolor": "white"
           },
           "zaxis": {
            "backgroundcolor": "#E5ECF6",
            "gridcolor": "white",
            "gridwidth": 2,
            "linecolor": "white",
            "showbackground": true,
            "ticks": "",
            "zerolinecolor": "white"
           }
          },
          "shapedefaults": {
           "line": {
            "color": "#2a3f5f"
           }
          },
          "ternary": {
           "aaxis": {
            "gridcolor": "white",
            "linecolor": "white",
            "ticks": ""
           },
           "baxis": {
            "gridcolor": "white",
            "linecolor": "white",
            "ticks": ""
           },
           "bgcolor": "#E5ECF6",
           "caxis": {
            "gridcolor": "white",
            "linecolor": "white",
            "ticks": ""
           }
          },
          "title": {
           "x": 0.05
          },
          "xaxis": {
           "automargin": true,
           "gridcolor": "white",
           "linecolor": "white",
           "ticks": "",
           "title": {
            "standoff": 15
           },
           "zerolinecolor": "white",
           "zerolinewidth": 2
          },
          "yaxis": {
           "automargin": true,
           "gridcolor": "white",
           "linecolor": "white",
           "ticks": "",
           "title": {
            "standoff": 15
           },
           "zerolinecolor": "white",
           "zerolinewidth": 2
          }
         }
        }
       }
      },
      "text/html": [
       "<div>                            <div id=\"86107998-fbe5-42e5-a5e7-1dcb45cd1336\" class=\"plotly-graph-div\" style=\"height:525px; width:100%;\"></div>            <script type=\"text/javascript\">                require([\"plotly\"], function(Plotly) {                    window.PLOTLYENV=window.PLOTLYENV || {};                                    if (document.getElementById(\"86107998-fbe5-42e5-a5e7-1dcb45cd1336\")) {                    Plotly.newPlot(                        \"86107998-fbe5-42e5-a5e7-1dcb45cd1336\",                        [{\"hovertemplate\": \"color=Negative<br>X=%{x}<br>Y=%{y}<br>Z=%{z}<extra></extra>\", \"legendgroup\": \"Negative\", \"marker\": {\"color\": \"#636efa\", \"symbol\": \"circle\"}, \"mode\": \"markers\", \"name\": \"Negative\", \"scene\": \"scene\", \"showlegend\": true, \"type\": \"scatter3d\", \"x\": [-0.6184948997152195, -0.840929031875243, -0.755964534005015, 0.1782841259615241, 1.6652748308026957, 2.287336029371487, 0.5641076580098736, -0.8590952238158328, 0.32875969451087916, 1.5843631290700506, 0.5996310799468076, 0.7836012947046114, 1.3618682742408212, 0.4031266905478352, 1.7297969345178787, 0.41646309631983197, -0.8672455813412842, 0.32207625642365945, -0.8638907650016099, -0.8675435212588978, 0.7071825251960839, -0.6436411939831603, -0.7875981613009803, 0.7792276362792363, -0.3210751433480386, 0.2832190084649867, -0.7297271388733, -0.8507726947731594, 0.1134658657400333, -0.7448211244279638, -0.60848648246213, -0.744753115020466, 1.218041429815867, 0.16544311278795684, -0.8269127771353614, -0.6184975549629919, -0.8975679021831399, 2.2097796731830908, 1.46530786431346, -0.3560443742341274, -0.8604273295492847, -0.851164820999188, -0.33840152844262994, -0.7921826323196357, -0.5432268412978152, -0.5501664072199324, 0.47711907390456537, -0.8817157653856251, 0.9947731916645911, -0.8562977154085832, -0.8407671561675686, -0.5473689183659035, 0.01762439950718161, 0.2373084831909091, -0.878484070201067, -0.7034908609931797, -0.7829806243066776, -0.6356414788388361, -0.5684899264779097, 0.9737564342393755, 0.12157669784882046, -0.8601963809643631, 0.3913962617976224, -0.5686876706435939, -0.7532405103501658, 0.275663081894044, -0.5195741026570836, 0.42503566772861456, 0.6761250116898636, 0.2506954468472807, 0.7456009777355064, 1.7922060319013486, 1.6853795946624137, 0.2164932362904882, 0.111064193174863, -0.8839218299185027, -0.8619571284146998, -0.8827680421223718, -0.8731236936539951, -0.536556537162484, -0.8572338116914062, 0.06716713808401988, 2.051401216753244, -0.6040631454785257, 0.3578403388972085, 0.14406875107539943, -0.8629749142915687, -0.5519739556916311, -0.5995917791820724, -0.3878277804057727, -0.7084923574328922, -0.6848106942542298, 4.827977484519734, -0.8620359017207486, -0.4944508527214705, -0.46764383913737706, -0.8823137551009603, 1.3078516323648048, -0.7609355901430864, -0.7127395678635821, -0.8309438031781168, 0.5871985810423945, -0.09360195563516127, -0.8070484188175976, -0.8555745431501923, -0.4536146835242204, -0.6337530461456152, -0.8702382839442759, -0.9138166438132626, 0.01094500215627126, 0.7203200054303238, -0.8012812052435432, -0.6171412136615012, -0.8930024568928591, -0.41988334292851653, -0.649729242505055, -0.7594580330057791, 1.1131299325416064, 0.11295036633206763, 1.4408372102517273, 1.0956434776075188, -0.4367071078417099, 3.7297677783347836, -0.8732111197590143, -0.8348167286541636, -0.8772824314987965, 0.3992138883807808, 1.1770296958773958, 0.294728238068643, 0.3609463362491345, -0.6023542487488526, 1.2281238237110124, -0.8670649536134775, -0.5420600758108248, -0.9080667380171479, -0.6833145898195967, -0.6556099790680767, -0.917790206197981, -0.696759574773903, -0.8682460124869983, -0.7842235415449843, -0.7332183695487858, 1.4366748957156856, -0.01246284705594589, 0.5747211852062768, -0.5318986783219213, -0.8859732716435094, -0.7172923500703174, -0.12471326518346351, -0.3228146421478044, 0.21808463934558292, 1.6367947491088914, 0.15133691051434162, -0.7487300688857041, 0.028208380384847683, -0.8183078276724303, -0.8883135972585585, 0.5071132097685372, 0.25046512237257573, -0.49594133662576, -0.8621714792250355, -0.8003782772058693, -0.31373683772655653, -0.8311588368122246, -0.808583074597394, 1.0737943843028548, 0.23789224590192637, -0.7447787267337175, -0.77858290129384, 0.31791969123035957, 0.11398831962028756, -0.6100752787869586, 1.141936379804888, -0.8450704477733129, 1.6333646019213017, -0.4237095131615527, -0.8836195519671802, -0.8483983919604494, -0.8836195519671802, 2.035986084142228, 0.14245225572380887, 0.1539013709452081, -0.7764951368083941, 0.14594634546544283, 0.7151491987557022, -0.9209863493675902, -0.7081278797114477, 0.13264344369166053, -0.761662027584825, 3.7805559244438407, -0.7004577186986464, -0.7552909778891834, -0.844017031660617, -0.6231119837719655, -0.8067904059409166, -0.2602729034555504, 0.5989962337689343, -0.6617996484936023, -0.348652680604891, -0.6398297494595234, -0.6137269032567391, 0.18808164092028934, 0.5254785315153467, -0.8936696750191948, 0.39067787720566893, 1.5863098585459816, -0.86756906307943, -0.6931935250377174, 0.16025602327078373, -0.6204942917380871, -0.7995733882261327, -0.706428970764162, 0.5761913172296319, 2.3911376017270576, -0.5807369463088282, 0.36182553139379475, -0.8497581514577532, -0.8253831552391129, 0.8923537203860195, -0.8118863466504703, -0.41052576632703625, 0.5434044049803155, 0.1695791518060332, -0.7011104627729533, 0.13388361822905376, 1.0430754645503495, 0.36271237415763957, 0.5038962192609866, -0.3263978375986578, 1.495448713022327, -0.7706457013195255, -0.6483419218809545, 0.36416229827303204, -0.03825811556211208, 0.322803107238336, -0.8944691268725343, -0.626485016442356, -0.5578858215444686, 0.9593443634248342, -0.8113133415390015, 1.5282900598659277, 0.430165793143003, 0.8042265517896974, -0.5638080371731559, 0.5579959520359976, -0.5246408117467772, -0.6125625422253405, -0.4710445904125269], \"y\": [-0.5453933846811406, -0.32273170686073327, 0.5005064265091344, 0.32671170669248334, -0.7402771798961479, -0.43114399669289316, 0.9663029327495066, 0.09365782985345263, 0.42234901393005103, 0.07544813246401323, 0.8772221079280941, -0.5432177405214892, -0.9653763584532663, -0.3866447312754583, 1.0825065995060505, -0.9447916980593333, -0.018910723784778313, -0.2802097434274363, -0.07528435030348139, -0.04097360364515441, -1.5125370149560446, 0.3002274434049733, -0.22104941939009348, 0.18299908235799886, -0.03952334763701002, -0.6119469057901513, -0.11984733754518978, -0.08600608148823415, 0.4019589213787462, 0.475864165250553, 0.5642350855457826, -0.13908995977127436, 0.323768586326455, -0.29569346177642564, -0.03179226075193551, -0.3687922807538493, -0.08024336681815572, -0.6992041390565455, 0.47804506959662363, -0.9215456306200435, -0.09332799486783806, -0.08259991814786666, -1.6060682322718036, -0.15059347268019854, -0.8129715417180303, 0.6179744972670349, -0.732260059390626, -0.007938648671619765, -0.34783619652500075, -0.16577595376877585, -0.24449618482066632, 0.48349916658486025, -0.18804162438197972, -0.27608749642513614, -0.15711087939785376, -0.16061509239677665, 0.013298788820074988, -0.8282880571209486, 0.6515367136601617, 0.6084872552651502, -0.5639621310157512, -0.0021043176764076635, 0.9379235954111661, 0.6330135506400538, -0.12947339176745734, -0.5777190494342035, 0.5664791100280332, 0.44750158484223024, 0.9968198736249867, -0.17323246314627916, -0.35849718795780167, -0.3000793265407183, 0.5017077133201433, -0.6479007795638602, 0.38709900733963426, -0.018025005494718308, 0.009522702969404087, 0.006285455435361527, 0.0017596539014760213, -0.09942883489231974, -0.010636521137524798, -0.13395423615486726, 0.36889981789909526, -0.5883422489454204, -0.8491994076358684, -0.1409105589201451, -0.0747841989339545, -0.23572331753153603, 0.6057852009707049, 0.6194305311168825, -0.22244320103178078, -0.17062203386956692, 1.0336109707147072, -0.0843589035194931, -0.7942891384490258, 0.5578986497897022, -0.014883295699477238, 0.7836896537447231, 0.3776484620132344, -0.11408301829128992, -0.08845965652957517, -0.15579623116242175, 0.8958457717667768, -0.3704754325333859, -0.08896923266773095, 0.48093148990204615, -0.6896244545988556, -0.007532536061685394, -0.05456084180918847, -0.09370347042860906, 1.0281686532683465, 0.14238434079858206, -0.41514066740010286, -0.23828088152956625, 0.617433101136503, -0.5087682520663586, -0.030301001748004486, -0.7429147625824776, -0.09954228471640197, 0.7399493207277203, 0.8406362800403668, 1.0564874861643212, -0.6801073324178833, -0.021697168445859047, -0.07471180820950435, -0.37260405887898745, -0.2307769527956739, -1.0263955690179942, -0.2595476536034296, -0.6959701328807042, 0.626004825231591, 0.5528442494552284, 0.08851580496800483, -1.0684175538417635, -0.25700751600057914, -0.06615269257647743, -0.7637137887880775, -0.019596660686004186, 0.5175959553066626, 0.06416010782621505, -0.08617219640900266, 0.3346054358245717, 0.7417692364012551, -0.11862797933436378, 0.918577312791781, 0.6560304576764907, -0.246872770137479, -0.14919291122411707, 1.2727016852283275, 0.6929979009002619, -0.6478818861497577, -0.6160189684385925, -0.14046981099944697, 0.3809424497159365, -0.08734925910903435, -0.056827222080691554, -0.23464005343151936, -0.9177217673130945, -0.8957091454976508, -0.634553543422862, -0.030704461532025686, -0.026231625498095056, 0.14968308910829725, -0.02703182194227546, -0.013323300111323131, -0.5328959526213017, -0.31956721366204216, -0.1296052373782716, -0.23188211389454383, -0.6191764539331337, -0.4977984223978665, -0.8511928500125984, -0.6997307599173119, -0.02284205171503921, -0.6548940797870499, 0.588738226204132, -0.007982051604517728, 0.10181042768305372, -0.007982051604481231, -0.5212247205547709, 1.0113584881887898, -0.11132588611337912, -0.1021455422789827, 0.5340649147777853, -0.0718482722835761, -0.05102907484459238, -0.3630748031724662, -0.1767423105715366, -0.0654824003425874, -0.46475566188653716, 0.2890334186698594, -0.054944397254167554, 0.024139500060634866, -0.606122031378729, -0.002418360435958806, 0.6364070167360958, -1.373035769657944, -0.1266996090828961, -0.7644096614885486, 0.4239506279934358, -0.5702605516022152, -0.36570899845644117, 0.5294313699313042, -0.008632949762540558, 0.6076453687957937, -0.13608476081161233, -0.28155665777493183, -0.3904563222610925, -0.21599269242104457, -0.5377624423096837, -0.016835613811784386, -0.1987199315481424, -1.0304023917535265, -1.1036409715197641, 0.6147564651656712, -0.5024474479690079, 0.11329561640093277, -0.05634555576776556, -0.22360728382689493, 0.054026107155972114, -0.7106842338592898, 1.2452676829039506, -0.4206600774911834, 0.5956345724227, 0.40765786294069173, 2.1248139150705407, 0.20079425573666493, -1.2709465821830161, -0.4904159252691743, 0.43751364118955355, -0.2745867679564458, 0.3125196326008278, -0.625096416300853, -0.8604923363672745, -0.6777484748937042, -0.016661954137237135, -0.5914915426155762, 0.534545469449225, -0.1883086477326903, -0.08714867534803582, -1.1064115001755253, -0.6827111166953634, 1.7499633661174925, -0.9504883797653737, -1.1718265499438736, -0.6362452326379616, 0.6245551413413256, 0.857571221505766], \"z\": [-0.2427122248433104, -0.12775193589694359, 0.4382802779257946, 0.7850840305204543, -0.7597805977174902, 1.335228360606706, 0.1306563288740305, 0.2232144486640376, -0.022505820896051285, 0.274995503526024, 0.19195121628882508, -0.9778706225744503, 0.4218900705510345, 0.6269865348607071, -0.2573689354329855, -0.3017285057652763, 0.3055937139182543, 0.4599923878527587, 0.2399613350605294, 0.24201874551759178, -1.0940689859371395, 0.44229444689760145, -0.00047906871282077287, 0.11053601740508769, -1.2408614325241134, 0.0748808824856945, 0.34240733276075086, 0.28690638008756564, 0.7703338915394083, 0.4025438074928587, -0.3553368651329688, 0.3826492191929549, 1.1809021003575488, 0.670259447711145, 0.26948012809820715, -0.14494452204503447, 0.3605215513496715, 1.3603942284482198, 1.2423786835605979, -0.7335419078011534, 0.29362430846497006, 0.2814425142801677, -1.3482442011390563, 0.4218493243510563, -0.3146584829984133, -0.34750344637577324, -0.013099122607075075, 0.2846262034917964, 0.9682317656261172, 0.3066513907653858, -0.1764881373294039, -0.414920693242081, 0.6798256565121502, 0.5699001560090713, 0.3219364216548651, 0.25013923345132005, 0.19717657281792822, -0.6651633246709161, -0.38036299362426856, -1.277248972143018, -1.5202902585680098, 0.2824370992733801, 0.17489315199040395, -0.33623080442327924, 0.18504904676554113, 0.017332454656254128, -0.4084380074990783, -0.060725774791095755, 0.08150793754549297, 0.49723649858400604, -1.1314204182845893, -0.4939533961447274, -0.8459700054599288, 0.07947374180655961, 0.7607091650711973, 0.2810665550082473, 0.2522636737324727, 0.28432394224317453, 0.22394818057793883, 0.35722406186208994, 0.28874224771417945, 0.6663899190577781, 1.2632649306250752, -0.3097267032648536, 0.17662014016977387, 0.6326753411516043, 0.251174507327492, 0.19514333314447474, -0.33148746378779614, -0.37986666554459053, 0.2696696369118042, -0.05722393457672625, 0.9249855960186173, 0.24125926647484075, -0.5605098968648787, -0.296949795411913, 0.28264145713541394, 0.38936256220637117, 0.44360480997869445, 0.16415170154969946, 0.2887694304540328, -0.5548521534923297, -0.08485371984690841, -0.25477937551091595, 0.2712705317544859, -0.30183624410584586, -0.7157273466140173, 0.2966543692568187, 0.39883257191830296, 0.6284053514450281, -0.03894410685724541, 0.18689946484979375, 0.04350255709855954, -0.05609085967749856, 0.05677426856024804, -0.23501209860629466, 0.1807363544771173, 0.45549713781239914, 0.6745834567762171, 1.2721133328368324, -0.5437599732067603, -0.19453452660454437, 0.38744029471634056, 0.29657812419855994, 0.2991618407918679, -0.1695642788194952, 0.614774284408199, 0.05738807454784875, 0.5285687042188942, 0.13219429007269054, -0.3400628571715094, 1.2888249263421874, 0.2762173993545348, -0.9069942856754643, -0.09825491741602241, 0.38984958093158695, -0.6135535026688815, 0.302598421539123, 0.42880369609284297, 0.2405737538941023, 0.17365026976343806, 0.43169885984497897, 0.26332176626205234, 0.5932409053839157, -0.5042229444183618, -0.45697865555560263, -0.06711782351574502, 0.30721284275260985, -0.12524528646287864, -0.533126653686357, 0.04940345179075401, -0.7256755847793327, 0.6790477536814397, 0.4584101850450088, 0.6610339048655939, 0.17869143844999047, -0.06664340481070188, -0.41625280874029247, -0.30826707738675446, -0.24043580377517385, 0.27137313231941235, 0.2505333209837903, -0.966726391452653, 0.14079829675844832, 0.3117412829473745, 0.7693365625540588, 0.6321891103326998, 0.28429999690834523, 0.2366955792143891, 0.00177527576354778, 0.20201597046990327, -0.689384753137343, 0.434791965891263, 0.31048014694460585, -0.7527679440788634, -0.36196853816039687, 0.28627675210812503, 0.22416421110697599, 0.2862767521081431, 1.3560620262587644, -1.6286326566507394, 0.5446660434340523, 0.1630650720648109, 0.6585176457892407, -1.2801512247575577, 0.3902818026615545, -0.11908388305816268, 0.6843041771561763, 0.3159350100580307, 2.339802538152576, 0.3812366975666577, 0.23744523392991723, 0.20086041057084428, -0.2148885599847711, 0.20687015939454678, -0.5107807591439317, -0.8774188931044437, 0.29915603131029583, -0.29167299272572755, 0.45159447938294317, -0.3098410089249816, 0.43269618379583047, 1.0750491360897825, 0.26783705611212977, 1.013183447415223, -0.1426897978329735, -0.1142601904016732, -0.12743351337081998, 0.6405662445767063, -0.22138945766541393, 0.2176355925091737, 0.24680112724078365, -0.07017217203669705, 0.6284808168189236, -0.38153699331275026, -0.06311087617670637, 0.21987252371425411, 0.22444885195507927, -0.8923629837770586, 0.17226435908835144, -0.37126730181067347, 0.2833068063457913, 0.22751890205171998, 0.33158195152659564, 0.817305864104461, -1.3931431955355438, 0.7664140142180008, -0.4180969051862243, -1.6929255924748163, 0.40762629026959807, -0.11915041351969038, 0.04744408891270218, 0.3900989695775478, -1.9167349204323219, 0.09268944768339042, 0.30023479835136196, -0.25844275131402644, -0.3398036568106032, 1.027117304827236, 0.22144422265111857, 0.35119476756451734, 0.04526955858326523, -1.1234309262935926, -0.6578694687851202, -0.3873736971782232, -0.2675276036091344, -0.35812371726238185, -0.4130385825318619]}, {\"hovertemplate\": \"color=Positive<br>X=%{x}<br>Y=%{y}<br>Z=%{z}<extra></extra>\", \"legendgroup\": \"Positive\", \"marker\": {\"color\": \"#EF553B\", \"symbol\": \"circle\"}, \"mode\": \"markers\", \"name\": \"Positive\", \"scene\": \"scene\", \"showlegend\": true, \"type\": \"scatter3d\", \"x\": [-0.9117978111966235, 0.27073055170943117, -0.5493750697214892, 1.2265882293748964, 1.6593947225237882, -0.8599111934965726, -0.7542617446619102, 1.2877388361289188, 0.0459083758545113, 1.684649196135572, 0.5294695723814022, 0.3677027765054114, 0.40846999248527344, -0.4544987242063466, -0.8007763177930578, -0.8798201646990972, -0.5231153343187812, -0.3770625628429959, -0.5918128143147854, -0.5689500399170364, -0.8206488794736576, -0.8730571285640119, -0.5418048329076985, -0.3652731610144416, 1.0684534115979505, 0.31641476472993996, 0.32517576294470757, 1.7009573050877567, 0.16468064593856385, 0.7374775926030537, 1.8101294874478684, 0.5509648104722034, 0.23205499709757185, 0.14116209287681053, 0.7605601260781523, 1.9541267778090563, 0.44263116159406746, 0.5496503063114898, -0.8588791166581689, 0.5201807016581653, 0.4107569069353419, -0.010832662969181953, 1.2114353093648005, 0.9696399122021319, 2.2900896013443006, 0.9996471087972709, 2.751524812540347, 0.01770143949625934, -0.8482906480957016, -0.8809479489034917, -0.8993395968688724, -0.5705324160926887, -0.2384890105517462, 0.2301995810597884, -0.002990720367861569, 0.09765933440726132, -0.8459350836687222, -0.04915945846127564, 1.118597154240025, -0.8427831291137586, -0.8727640090258865, 1.07768505893078, 0.19061228885778286, -0.8583488083090569, 0.1387396235369689, -0.7182686126369828, -0.8586093221318203, -0.6590732444209165, -0.44669666937413044, -0.8588922183713694, 1.0846449928868835, -0.30777778661831107, 1.3893773571253676, 0.22404186534674053, -0.5255488463443518, -0.6596166873935184, 0.4202302337469879, 0.4070009173550668, 0.6120224224740066, 0.9659238757257701, -0.8729303546768133, -0.8434796617003119, 0.5248625682638972, 0.7441815436094301, 0.5789337134185369, -0.8661258674846549, 0.3822944495485137, -0.6270136050631112, 1.4591429159665361, 0.2278762994404399, -0.8615561623349578, 0.14892637061628844, -0.8824506719920717, -0.6007804586069834, 0.8471612396939523, -0.5182142812344006, 0.4634414759421124, 2.431996495934723, 0.5499384102175051, 0.888363280729633, -0.5185173092940584, 0.024238639457802497, -0.7971265050744908, -0.3802861577025017, -0.575955933851887, -0.8822340927162639, -0.8818491066973907, 2.67612218620379, 0.3687053993523592, 0.22744007179653947, 0.43339542646304047, -0.6478137770169897, -0.00739161587892768, 0.4027341864988996, 0.27555520721976273, -0.8581156925508944, -0.20486165578728083, 1.2001195633366417, -0.6090384052143174, -0.7410447566984093, -0.741832830895095, 0.6468902360732067, 0.9619599936265258, -0.8658494656967686, 0.7720866204547281, -0.7831436704358901, 1.8618195895405074, -0.8599111934965726, 0.5410180734803648, 4.828082168333355, -0.5980981601567219, 1.9653659092283358, -0.8837773124490814, 0.5090857424082058, -0.5582989486166137, 0.4239392919339157, -0.6976454894802179, 0.022241671976852985, 0.10865723665751179, -0.9067827421400483, -0.8687423729919789, 1.3708261870110117, -0.6460376025213592, -0.8260764042914277, -0.4851421305645562, -0.8810467520216458, -0.6773046022205358, -0.6474856686618236, -0.6143186728403693, 1.3337568337119001, -0.30778543555957255, -0.7526089154470398, -0.13176057968085583, 0.04137002360918503, -0.8821484811117173, -0.8105048616720655, -0.6623786088433763, 0.884739891152207, -0.8854337926905574, -0.8533041718168091, 0.08810468841480647, 0.6900716610773568, -0.8713115485454883, -0.6647612380250578, -0.42493212648097395, -0.7299012930914338, 0.1179242061732052, -0.8608458221777568, 2.5271171242479005, 1.480985367634049, 1.053294223674319, 0.4862512807861274, -0.5700063034692889, 4.090603784764357, -0.9156051393953307, -0.8473041672600711, 2.1108094329398033, 1.39427594931066, 1.3727866084310458, 1.8458503846547996, -0.8817157653856251, -0.8775143230481401, 0.34075308900486057, -0.8889052859710037, 0.43072260979557725, 0.5018858343800355, -0.884743939362255, -0.88124484314118, 1.6651192878503789, -0.8027834789901934, -0.8817157653856251, -0.5405315102232542, -0.5395249716580927, 0.24201237165747255, 0.8220281192734356, 2.555431491020032, 0.4415736210925052, 0.017551298622413978, -0.836251142934028, -0.7552032445525034, -0.04085709633886854, -0.825031709172066, 0.21222571126192766, -0.5642699422328781, -0.5976932669895614, -0.4793828209047243, -0.6776166496252533, -0.09901532306031183, -0.5488762261265636, -0.8654183400440844, -0.43784885233862025, -0.913175019868467, -0.841730267348402, -0.4138257631032225, 0.6210962295818261, 1.8196086841418186, -0.5889717734605806, 0.9875166033866587, -0.895232147150864, -0.521772275467938, -0.25557638638304264, -0.6285984240120613, 1.6191075107126103, -0.8959882922629826, -0.8795486085160765, -0.37568235216685403, -0.5865251662477463, -0.8776304962659889, -0.8528780023936918, 0.3220618479083853, 0.04115808413942688, -0.8417758074900382, 2.7878202548591653, -0.8657498124418243, -0.4009339236391517, 0.5350612952685853, -0.6304654490936361, -0.2844952588972942, 3.1945262393227667, 0.2944983550377707, -0.4437306545061903, -0.8751569262262783, 0.5737109083232511, 0.4992906844409677, -0.5860555285169938, 0.4348802317258064, 1.09735309010334, -0.8216248626686807, 1.0308249013513913, 0.11954216281108151, -0.7999997672195329, 1.3965634850245843], \"y\": [-0.0916149337794956, 0.4514236215888034, 0.7850481222929984, -0.7982882983954652, -0.5207530134155111, 0.05863564997633761, -0.05682725102562464, -0.7691636664391021, -0.030693883459405265, 0.508925652201042, -0.7890108672053935, 0.4669499990410072, -0.5246819844667399, 0.6021557131192643, -0.033759792752926406, -0.007895719024815574, -0.8226711593966087, 1.1914076905510171, 0.6063183293728746, 0.6304276446159129, -0.583166787156732, 0.08097101011145261, 0.8370213956581195, -1.0844128770232386, 2.2648991820003346, 0.06881721332664198, 0.21330305074281952, -1.964838368780394, -0.41423208693665947, -1.506663887057574, -0.5097743457436661, 0.6463690924867015, -0.5528383682298315, 0.44187937947458494, 1.197463496176088, -0.2610273428268055, 0.7793382301645324, -0.018494154896812432, 0.06262720580378105, 0.19684523021823006, 0.14064597757569253, -0.10126410318939721, -0.8388868880749967, 0.9624400755879766, -0.9921875082995848, -0.5054603294548228, -0.40743080602372733, -0.3389193046603527, -0.011541928365691687, -0.22903825537305106, -0.033317217396884105, -0.5219668274261118, -0.25767979712138644, -0.6628013374021373, -0.04936179378295733, 0.3075101664850691, -0.08572622921413556, 0.10215315377337646, -0.7553796479131656, -0.08080584579890168, -0.003935320172225219, -0.2849778296302128, -0.32396767533981086, -0.026727868744017096, -0.2222212674398051, -0.12510845416557992, 0.16528685309944177, -0.36733888910656637, 0.2120585546363989, -0.04880871026384529, -0.27209010178822063, 0.021508388242987956, 0.40686099300416817, -0.6588645151741374, -0.6940666054020306, -0.7819560028779374, -1.0121872100862086, 0.6259031249420882, 1.5981088392017784, -0.19860450732001192, -0.037926918352448054, -0.3714267088038033, 0.12425510576730109, -0.3498351751476216, 0.11437696530991331, -0.10557903634207803, 0.4830271538180022, 0.28948699494430846, 1.5868299604668339, -0.6248326805992012, -0.07597539389361416, -0.25583923373098594, -0.0022601998008998517, -0.5121207455405015, 2.2598707369313566, 0.5763427809134066, -0.6341201522677907, -0.6912039690906309, -0.07847420750376212, -0.45957031969210727, 0.5426054533607119, 0.08996452534672215, -0.06517591612169678, 0.47492339397428746, 0.6528058171496954, -0.005659025803822672, -0.02209181309669632, 1.4702079511601627, -0.21768282963580352, 0.3357869434350894, -0.7858159797115034, -0.5407882548669245, -0.3700136204868922, 0.5123422647807169, 0.7663361863147876, -0.25637083712707937, 0.08667619991928101, 0.3236735041366393, -0.6094220717329574, -0.022605624517481087, -0.08855606489406685, -1.1288182007225032, -0.21879048776703697, -0.010639345861442004, 1.1739405582149802, 0.510127833026989, 0.24952714200081189, 0.058635649976337675, 0.43345271001993, -1.5116236810840238, -0.6134185253156235, -0.8064968078827544, -0.002099903087799193, 1.4600678449417919, 0.5274771991645442, 1.6416384398341113, -0.43725153327873134, -0.14019830040752987, -0.16572246450873201, -0.24695093171320637, 0.07530951434111062, 0.3238494776119904, 0.1176740379826385, 0.17206784478084972, 1.038528424618212, -0.01070863080978012, -0.3605266394521261, -0.858986896512035, 0.4009655471190158, 0.334032606650316, -0.10656617131613974, -0.5088859205712685, -0.32284935589723773, -0.07101862148528552, -0.023267088339832223, -0.22513932065977935, -0.793737431446185, -0.4252115993178149, 0.0418665272506319, 0.05107643693304295, -0.11654439948350959, 1.22707024832412, 0.008073238209454959, 0.010297842324371394, 0.48255956302632713, 0.3314726055414455, 0.007763841836814657, 0.006318592888136529, 0.9045021725686037, -0.07304305625805128, 0.6347985890323207, 1.2169493878486348, -0.5561115205086297, 0.3709752579499503, -0.2685964070794249, 0.10144573426711917, 0.35345349099959095, 1.0974640629796648, -0.9253831282896228, -0.3280564638922628, -0.007938648671620125, -0.016438499573699066, -0.8965583851810811, 0.07409622857809745, 1.0765999697940758, -0.5181390894837277, 0.07783745964241887, 0.10037431625938656, -0.5966434722376582, 0.05643185955579584, -0.007938648671617613, 0.6421687293651575, 0.7683002884559338, -0.6690416777745376, 0.7998500086064968, -0.32632696631310676, 0.3341166978624005, -0.1222337234473903, -0.14008724404161535, -0.46411039447572433, 1.3887286426448415, -0.10971687508967952, -0.6259857930035848, 0.7764392263363301, 0.8738859450826394, 0.5790466156503911, 0.2996082448375168, 2.1296686175178623, 0.5385349862255955, -0.05265881111672896, 0.815468870543976, 0.15999983888808708, -0.03045966330752578, 0.5218060061257983, 0.6842578977864278, 2.160050585297024, 0.6476451100126658, 0.39725672262893424, -0.24217468426975444, 0.7960174523711198, 1.0835595587514952, -0.8013489497282309, -0.6108203035241913, 0.07851300253087244, -0.30393197740230654, 0.6600478243128503, 0.7022915103631322, -0.2547994320371968, -0.011433818479487767, -0.8498296198223986, -0.1444818042150418, -0.26360028316016787, 1.6046292430278317, 0.07339503473057189, -0.002523491856461188, -0.13283452127846437, -0.3001786805037339, 0.9545558731362901, -0.13124726127900024, 0.53964332388723, 0.7036400541183873, 0.1004769504111755, 0.12293303581610576, -0.034821929696164086, 0.6041461450616793, -1.038680977848461, 0.29423052714249, 0.33979638894153386, -0.15713712422183657, 0.37344034274840093, -0.22918277947405793, -0.09021975912878008], \"z\": [0.3313084973425782, 0.6494124428319616, -0.42029805962395755, 0.4740244768471292, -0.8999303176005111, 0.22573531453209186, 0.31506988422398263, 0.6402087619815816, 0.5268332314378119, -0.8383529135004175, -0.37222069871579866, -0.25733545830523774, -0.054530021657503695, 0.17430668662672244, 0.21711233705068816, 0.2829945817680663, -0.647770319874725, -0.15459671581556678, -0.3350016226242812, -0.35571280537746613, -0.6730701817545095, 0.28964353976974433, -0.4435710656406042, -0.8036882648405502, -0.5575757082821624, 0.34179127460229963, 0.7875131119391023, -0.6346947190775611, 0.2533932372380577, -0.4650921203368627, -0.24556542138666734, -0.03505010818708888, 0.021558458384055897, 0.7340574593303522, -0.823353344396435, -0.18510487678937518, -0.21929710087972018, -0.5545812741919539, 0.23209207256649328, -0.12994633924439986, 0.7778873316356884, 0.5967382618238013, 0.31436423030050176, -1.4078426444536771, 0.65112895865643, -1.1137578293855126, -0.8239445721331782, -1.4737308478422633, 0.33672245243100646, -0.08780995505309995, 0.30301834074371903, -0.3285688200333916, -1.3245482224393264, 0.06523691741590362, 0.6010548882671284, 0.7677600743261882, 0.27817987227899554, -0.9185607188080868, 0.4452738486926541, 0.28287692057688146, 0.3127336058469373, 1.0114732961205855, 0.5576465265069801, 0.25229154891513755, 0.7056076166939773, 0.16180006926759108, 0.2923231203163586, -0.040202451642305494, -0.7085281129887184, 0.23338883231062182, 0.8887544560297789, -0.8796950300314511, 0.23279827256206906, -0.14664317089505846, -0.43746812292448556, -0.6379124376584766, -0.21489339360448345, 0.02914901639671485, 0.2087482567045244, 0.9017868548436546, 0.23877427083142344, -0.12978832011821181, -0.611663446929582, -1.2131064843217272, -0.7369179431032568, 0.2983037638099702, -0.04641094623882594, 0.41808586250665225, 0.5859707965399916, 0.08313276847176124, 0.26739957281754384, 0.5454589753428971, 0.2882782629108641, -0.2507371330624421, -0.3871221048145276, -0.4295599420623001, 0.1389427701960086, 0.903430207848868, -0.5682007684978463, -1.1140806335530404, -0.4322346692626222, 0.5358434325249302, 0.21770742465978773, -0.4117468620834605, -0.4005226416239523, 0.27565122228407946, 0.254165517068351, 0.22416505618304863, 0.6494580937445906, 0.7471255339940696, -0.46047998989408584, -0.24703317354944182, 0.20600528166455823, -0.014329810266507422, -1.7966125229798076, -0.10485846877045443, -0.9058074739497017, 1.0288329844893271, -0.249467027492044, 0.3144083907656629, 0.331917678510913, -0.26897803563287165, 0.8890413907242508, 0.2951784108822556, -0.8988708447597881, 0.43114336941911796, 0.3228116682821444, 0.22573531453209186, -0.004760293719663946, -2.0148541333262133, -0.31194170723085474, -1.5906865159009362, 0.2595264377240568, 0.30646953129253096, -0.349496610471183, -2.213891631325135, -0.10359503869587174, 0.609054187904462, 0.583290614063724, -0.10396050996620461, 0.22138819816192246, 0.18362739877297884, 0.23277222451547058, 0.13684696554804174, -0.15956238210699092, 0.28111166336624277, -0.13900705478442726, -0.6606153573310204, 0.47753898779605336, 0.20149089150898897, -1.311268288653339, -0.4515319408765268, -1.5420106675678396, 0.5909303509123544, 0.30792485183654417, 0.24496655050758498, -0.6459868056334457, -1.0372969388000255, 0.20723962376479257, 0.2578491891469244, 0.5917187720682318, -0.7857419755049454, 0.2687692200274497, 0.2617810883054303, -0.351910102249342, 0.445890890112145, 0.5469578043311564, 0.3136286701115975, -0.0031158987625767897, -0.3235292489768028, 0.16189126439691745, 0.12449897397797094, -0.29420988734587855, -0.25996423173966476, -0.1147378351229374, 0.21933126146724458, 0.7438217421234228, 0.4166783598250869, 0.44251673927629265, 1.2080465962346705, 0.28462620349179724, 0.25998165329076567, -0.2861705178554124, 0.23352420906153878, 0.10266213934550503, 0.47531521646791985, 0.2470566640155327, 0.2455155148995012, 0.6495364046949147, 0.13310845770262114, 0.28462620349179685, -0.28314717183183574, -0.41325902638828016, 0.11718190874930709, -1.1270815434540074, 0.06811384023818, -1.467909686471324, 0.6407378507875939, 0.2410858279738276, -0.23363342119797817, -1.1692862338055006, 0.270943818315964, 0.09780238565079914, -0.38647023205997477, -0.45594871365153744, -0.4159739226569132, 0.39934595071731677, -0.8715183302304345, -0.3479503511288434, 0.27454958971319265, -0.42670994725461986, 0.1974656814416862, 0.2902341168695725, -0.43165499974132143, -0.15038024768517355, -0.06221582833923987, -0.3334662850667476, -1.800041739178631, -0.10373611051434656, -0.4438101383559365, -0.2641339845734278, -0.6252881046477374, -0.7733718761241554, 0.2525212472712314, -0.13773190331086044, -0.5319716603775818, -0.4027075904705807, -0.0780750623998697, 0.30198176436780205, -0.37936784522065453, 0.5064700361279778, -0.06948189060633947, 0.1301031717934122, 0.21507250036686448, -0.12297622046679864, 0.7052784210968038, -0.3349388741141399, -0.11456436121437115, -1.2094622349609756, -0.004824314073719086, -0.29392985953809725, 0.257330569067129, -0.6455619862750873, -0.5628774174375469, -0.3066159337357224, -0.19682342151695914, 1.081836771864638, 0.08322898257328824, -2.060713699496225, 0.7160304654165504, -0.11454104207898372, -0.20344440646483866]}],                        {\"legend\": {\"title\": {\"text\": \"color\"}, \"tracegroupgap\": 0}, \"margin\": {\"t\": 60}, \"scene\": {\"domain\": {\"x\": [0.0, 1.0], \"y\": [0.0, 1.0]}, \"xaxis\": {\"title\": {\"text\": \"X\"}}, \"yaxis\": {\"title\": {\"text\": \"Y\"}}, \"zaxis\": {\"title\": {\"text\": \"Z\"}}}, \"template\": {\"data\": {\"bar\": [{\"error_x\": {\"color\": \"#2a3f5f\"}, \"error_y\": {\"color\": \"#2a3f5f\"}, \"marker\": {\"line\": {\"color\": \"#E5ECF6\", \"width\": 0.5}}, \"type\": \"bar\"}], \"barpolar\": [{\"marker\": {\"line\": {\"color\": \"#E5ECF6\", \"width\": 0.5}}, \"type\": \"barpolar\"}], \"carpet\": [{\"aaxis\": {\"endlinecolor\": \"#2a3f5f\", \"gridcolor\": \"white\", \"linecolor\": \"white\", \"minorgridcolor\": \"white\", \"startlinecolor\": \"#2a3f5f\"}, \"baxis\": {\"endlinecolor\": \"#2a3f5f\", \"gridcolor\": \"white\", \"linecolor\": \"white\", \"minorgridcolor\": \"white\", \"startlinecolor\": \"#2a3f5f\"}, \"type\": \"carpet\"}], \"choropleth\": [{\"colorbar\": {\"outlinewidth\": 0, \"ticks\": \"\"}, \"type\": \"choropleth\"}], \"contour\": [{\"colorbar\": {\"outlinewidth\": 0, \"ticks\": \"\"}, \"colorscale\": [[0.0, \"#0d0887\"], [0.1111111111111111, \"#46039f\"], [0.2222222222222222, \"#7201a8\"], [0.3333333333333333, \"#9c179e\"], [0.4444444444444444, \"#bd3786\"], [0.5555555555555556, \"#d8576b\"], [0.6666666666666666, \"#ed7953\"], [0.7777777777777778, \"#fb9f3a\"], [0.8888888888888888, \"#fdca26\"], [1.0, \"#f0f921\"]], \"type\": \"contour\"}], \"contourcarpet\": [{\"colorbar\": {\"outlinewidth\": 0, \"ticks\": \"\"}, \"type\": \"contourcarpet\"}], \"heatmap\": [{\"colorbar\": {\"outlinewidth\": 0, \"ticks\": \"\"}, \"colorscale\": [[0.0, \"#0d0887\"], [0.1111111111111111, \"#46039f\"], [0.2222222222222222, \"#7201a8\"], [0.3333333333333333, \"#9c179e\"], [0.4444444444444444, \"#bd3786\"], [0.5555555555555556, \"#d8576b\"], [0.6666666666666666, \"#ed7953\"], [0.7777777777777778, \"#fb9f3a\"], [0.8888888888888888, \"#fdca26\"], [1.0, \"#f0f921\"]], \"type\": \"heatmap\"}], \"heatmapgl\": [{\"colorbar\": {\"outlinewidth\": 0, \"ticks\": \"\"}, \"colorscale\": [[0.0, \"#0d0887\"], [0.1111111111111111, \"#46039f\"], [0.2222222222222222, \"#7201a8\"], [0.3333333333333333, \"#9c179e\"], [0.4444444444444444, \"#bd3786\"], [0.5555555555555556, \"#d8576b\"], [0.6666666666666666, \"#ed7953\"], [0.7777777777777778, \"#fb9f3a\"], [0.8888888888888888, \"#fdca26\"], [1.0, \"#f0f921\"]], \"type\": \"heatmapgl\"}], \"histogram\": [{\"marker\": {\"colorbar\": {\"outlinewidth\": 0, \"ticks\": \"\"}}, \"type\": \"histogram\"}], \"histogram2d\": [{\"colorbar\": {\"outlinewidth\": 0, \"ticks\": \"\"}, \"colorscale\": [[0.0, \"#0d0887\"], [0.1111111111111111, \"#46039f\"], [0.2222222222222222, \"#7201a8\"], [0.3333333333333333, \"#9c179e\"], [0.4444444444444444, \"#bd3786\"], [0.5555555555555556, \"#d8576b\"], [0.6666666666666666, \"#ed7953\"], [0.7777777777777778, \"#fb9f3a\"], [0.8888888888888888, \"#fdca26\"], [1.0, \"#f0f921\"]], \"type\": \"histogram2d\"}], \"histogram2dcontour\": [{\"colorbar\": {\"outlinewidth\": 0, \"ticks\": \"\"}, \"colorscale\": [[0.0, \"#0d0887\"], [0.1111111111111111, \"#46039f\"], [0.2222222222222222, \"#7201a8\"], [0.3333333333333333, \"#9c179e\"], [0.4444444444444444, \"#bd3786\"], [0.5555555555555556, \"#d8576b\"], [0.6666666666666666, \"#ed7953\"], [0.7777777777777778, \"#fb9f3a\"], [0.8888888888888888, \"#fdca26\"], [1.0, \"#f0f921\"]], \"type\": \"histogram2dcontour\"}], \"mesh3d\": [{\"colorbar\": {\"outlinewidth\": 0, \"ticks\": \"\"}, \"type\": \"mesh3d\"}], \"parcoords\": [{\"line\": {\"colorbar\": {\"outlinewidth\": 0, \"ticks\": \"\"}}, \"type\": \"parcoords\"}], \"pie\": [{\"automargin\": true, \"type\": \"pie\"}], \"scatter\": [{\"marker\": {\"colorbar\": {\"outlinewidth\": 0, \"ticks\": \"\"}}, \"type\": \"scatter\"}], \"scatter3d\": [{\"line\": {\"colorbar\": {\"outlinewidth\": 0, \"ticks\": \"\"}}, \"marker\": {\"colorbar\": {\"outlinewidth\": 0, \"ticks\": \"\"}}, \"type\": \"scatter3d\"}], \"scattercarpet\": [{\"marker\": {\"colorbar\": {\"outlinewidth\": 0, \"ticks\": \"\"}}, \"type\": \"scattercarpet\"}], \"scattergeo\": [{\"marker\": {\"colorbar\": {\"outlinewidth\": 0, \"ticks\": \"\"}}, \"type\": \"scattergeo\"}], \"scattergl\": [{\"marker\": {\"colorbar\": {\"outlinewidth\": 0, \"ticks\": \"\"}}, \"type\": \"scattergl\"}], \"scattermapbox\": [{\"marker\": {\"colorbar\": {\"outlinewidth\": 0, \"ticks\": \"\"}}, \"type\": \"scattermapbox\"}], \"scatterpolar\": [{\"marker\": {\"colorbar\": {\"outlinewidth\": 0, \"ticks\": \"\"}}, \"type\": \"scatterpolar\"}], \"scatterpolargl\": [{\"marker\": {\"colorbar\": {\"outlinewidth\": 0, \"ticks\": \"\"}}, \"type\": \"scatterpolargl\"}], \"scatterternary\": [{\"marker\": {\"colorbar\": {\"outlinewidth\": 0, \"ticks\": \"\"}}, \"type\": \"scatterternary\"}], \"surface\": [{\"colorbar\": {\"outlinewidth\": 0, \"ticks\": \"\"}, \"colorscale\": [[0.0, \"#0d0887\"], [0.1111111111111111, \"#46039f\"], [0.2222222222222222, \"#7201a8\"], [0.3333333333333333, \"#9c179e\"], [0.4444444444444444, \"#bd3786\"], [0.5555555555555556, \"#d8576b\"], [0.6666666666666666, \"#ed7953\"], [0.7777777777777778, \"#fb9f3a\"], [0.8888888888888888, \"#fdca26\"], [1.0, \"#f0f921\"]], \"type\": \"surface\"}], \"table\": [{\"cells\": {\"fill\": {\"color\": \"#EBF0F8\"}, \"line\": {\"color\": \"white\"}}, \"header\": {\"fill\": {\"color\": \"#C8D4E3\"}, \"line\": {\"color\": \"white\"}}, \"type\": \"table\"}]}, \"layout\": {\"annotationdefaults\": {\"arrowcolor\": \"#2a3f5f\", \"arrowhead\": 0, \"arrowwidth\": 1}, \"coloraxis\": {\"colorbar\": {\"outlinewidth\": 0, \"ticks\": \"\"}}, \"colorscale\": {\"diverging\": [[0, \"#8e0152\"], [0.1, \"#c51b7d\"], [0.2, \"#de77ae\"], [0.3, \"#f1b6da\"], [0.4, \"#fde0ef\"], [0.5, \"#f7f7f7\"], [0.6, \"#e6f5d0\"], [0.7, \"#b8e186\"], [0.8, \"#7fbc41\"], [0.9, \"#4d9221\"], [1, \"#276419\"]], \"sequential\": [[0.0, \"#0d0887\"], [0.1111111111111111, \"#46039f\"], [0.2222222222222222, \"#7201a8\"], [0.3333333333333333, \"#9c179e\"], [0.4444444444444444, \"#bd3786\"], [0.5555555555555556, \"#d8576b\"], [0.6666666666666666, \"#ed7953\"], [0.7777777777777778, \"#fb9f3a\"], [0.8888888888888888, \"#fdca26\"], [1.0, \"#f0f921\"]], \"sequentialminus\": [[0.0, \"#0d0887\"], [0.1111111111111111, \"#46039f\"], [0.2222222222222222, \"#7201a8\"], [0.3333333333333333, \"#9c179e\"], [0.4444444444444444, \"#bd3786\"], [0.5555555555555556, \"#d8576b\"], [0.6666666666666666, \"#ed7953\"], [0.7777777777777778, \"#fb9f3a\"], [0.8888888888888888, \"#fdca26\"], [1.0, \"#f0f921\"]]}, \"colorway\": [\"#636efa\", \"#EF553B\", \"#00cc96\", \"#ab63fa\", \"#FFA15A\", \"#19d3f3\", \"#FF6692\", \"#B6E880\", \"#FF97FF\", \"#FECB52\"], \"font\": {\"color\": \"#2a3f5f\"}, \"geo\": {\"bgcolor\": \"white\", \"lakecolor\": \"white\", \"landcolor\": \"#E5ECF6\", \"showlakes\": true, \"showland\": true, \"subunitcolor\": \"white\"}, \"hoverlabel\": {\"align\": \"left\"}, \"hovermode\": \"closest\", \"mapbox\": {\"style\": \"light\"}, \"paper_bgcolor\": \"white\", \"plot_bgcolor\": \"#E5ECF6\", \"polar\": {\"angularaxis\": {\"gridcolor\": \"white\", \"linecolor\": \"white\", \"ticks\": \"\"}, \"bgcolor\": \"#E5ECF6\", \"radialaxis\": {\"gridcolor\": \"white\", \"linecolor\": \"white\", \"ticks\": \"\"}}, \"scene\": {\"xaxis\": {\"backgroundcolor\": \"#E5ECF6\", \"gridcolor\": \"white\", \"gridwidth\": 2, \"linecolor\": \"white\", \"showbackground\": true, \"ticks\": \"\", \"zerolinecolor\": \"white\"}, \"yaxis\": {\"backgroundcolor\": \"#E5ECF6\", \"gridcolor\": \"white\", \"gridwidth\": 2, \"linecolor\": \"white\", \"showbackground\": true, \"ticks\": \"\", \"zerolinecolor\": \"white\"}, \"zaxis\": {\"backgroundcolor\": \"#E5ECF6\", \"gridcolor\": \"white\", \"gridwidth\": 2, \"linecolor\": \"white\", \"showbackground\": true, \"ticks\": \"\", \"zerolinecolor\": \"white\"}}, \"shapedefaults\": {\"line\": {\"color\": \"#2a3f5f\"}}, \"ternary\": {\"aaxis\": {\"gridcolor\": \"white\", \"linecolor\": \"white\", \"ticks\": \"\"}, \"baxis\": {\"gridcolor\": \"white\", \"linecolor\": \"white\", \"ticks\": \"\"}, \"bgcolor\": \"#E5ECF6\", \"caxis\": {\"gridcolor\": \"white\", \"linecolor\": \"white\", \"ticks\": \"\"}}, \"title\": {\"x\": 0.05}, \"xaxis\": {\"automargin\": true, \"gridcolor\": \"white\", \"linecolor\": \"white\", \"ticks\": \"\", \"title\": {\"standoff\": 15}, \"zerolinecolor\": \"white\", \"zerolinewidth\": 2}, \"yaxis\": {\"automargin\": true, \"gridcolor\": \"white\", \"linecolor\": \"white\", \"ticks\": \"\", \"title\": {\"standoff\": 15}, \"zerolinecolor\": \"white\", \"zerolinewidth\": 2}}}},                        {\"responsive\": true}                    ).then(function(){\n",
       "                            \n",
       "var gd = document.getElementById('86107998-fbe5-42e5-a5e7-1dcb45cd1336');\n",
       "var x = new MutationObserver(function (mutations, observer) {{\n",
       "        var display = window.getComputedStyle(gd).display;\n",
       "        if (!display || display === 'none') {{\n",
       "            console.log([gd, 'removed!']);\n",
       "            Plotly.purge(gd);\n",
       "            observer.disconnect();\n",
       "        }}\n",
       "}});\n",
       "\n",
       "// Listen for the removal of the full notebook cells\n",
       "var notebookContainer = gd.closest('#notebook-container');\n",
       "if (notebookContainer) {{\n",
       "    x.observe(notebookContainer, {childList: true});\n",
       "}}\n",
       "\n",
       "// Listen for the clearing of the current output cell\n",
       "var outputEl = gd.closest('.output');\n",
       "if (outputEl) {{\n",
       "    x.observe(outputEl, {childList: true});\n",
       "}}\n",
       "\n",
       "                        })                };                });            </script>        </div>"
      ]
     },
     "metadata": {},
     "output_type": "display_data"
    }
   ],
   "source": [
    "#Check PCA=3, then make 3D scatter plot\n",
    "df_sample_reduced = PCA(n_components = 3).fit_transform(df_sample_counts.toarray())\n",
    "Reduced3 = pd.DataFrame(data=df_sample_reduced ,columns=[\"X\",\"Y\", \"Z\"])\n",
    "fig = px.scatter_3d(Reduced3, x='X', y='Y',z='Z', color=df_sample['sentiment_name'])\n",
    "fig.show()"
   ]
  },
  {
   "cell_type": "code",
   "execution_count": 137,
   "metadata": {},
   "outputs": [
    {
     "data": {
      "application/vnd.plotly.v1+json": {
       "config": {
        "plotlyServerURL": "https://plot.ly"
       },
       "data": [
        {
         "alignmentgroup": "True",
         "hovertemplate": "term=%{x}<br>term_frequencies=%{y}<extra></extra>",
         "legendgroup": "",
         "marker": {
          "color": "#636efa"
         },
         "name": "",
         "offsetgroup": "",
         "orientation": "v",
         "showlegend": false,
         "textposition": "auto",
         "type": "bar",
         "x": [
          "term_the",
          "term_and",
          "term_is",
          "term_it",
          "term_this",
          "term_to",
          "term_was",
          "term_of",
          "term_in",
          "term_not",
          "term_that",
          "term_with",
          "term_for",
          "term_good",
          "term_my",
          "term_very",
          "term_you",
          "term_on",
          "term_but",
          "term_great",
          "term_food",
          "term_be",
          "term_service",
          "term_there",
          "term_movie",
          "term_so",
          "term_have",
          "term_phone",
          "term_are",
          "term_all",
          "term_like",
          "term_as",
          "term_would",
          "term_one",
          "term_at",
          "term_place",
          "term_had",
          "term_will",
          "term_film",
          "term_bad",
          "term_an",
          "term_just",
          "term_here",
          "term_well",
          "term_we",
          "term_quality",
          "term_really",
          "term_up",
          "term_time",
          "term_when",
          "term_ever",
          "term_best",
          "term_from",
          "term_or",
          "term_has",
          "term_nice",
          "term_what",
          "term_love",
          "term_no",
          "term_they",
          "term_about",
          "term_by",
          "term_works",
          "term_do",
          "term_back",
          "term_recommend",
          "term_again",
          "term_don",
          "term_first",
          "term_who",
          "term_which",
          "term_if",
          "term_than",
          "term_me",
          "term_more",
          "term_their",
          "term_product",
          "term_he",
          "term_too",
          "term_your",
          "term_only",
          "term_go",
          "term_definitely",
          "term_sound",
          "term_out",
          "term_even",
          "term_going",
          "term_our",
          "term_after",
          "term_were",
          "term_two",
          "term_ve",
          "term_been",
          "term_work",
          "term_get",
          "term_most",
          "term_headset",
          "term_did",
          "term_many",
          "term_other",
          "term_also",
          "term_does",
          "term_real",
          "term_how",
          "term_some",
          "term_am",
          "term_people",
          "term_worst",
          "term_wonderful",
          "term_slow",
          "term_terrible",
          "term_see",
          "term_make",
          "term_use",
          "term_won",
          "term_friendly",
          "term_still",
          "term_beautiful",
          "term_excellent",
          "term_pretty",
          "term_battery",
          "term_price",
          "term_now",
          "term_them",
          "term_then",
          "term_his",
          "term_any",
          "term_ear",
          "term_quite",
          "term_acting",
          "term_can",
          "term_got",
          "term_restaurant",
          "term_camera",
          "term_came",
          "term_much",
          "term_sushi",
          "term_being",
          "term_character",
          "term_because",
          "term_way",
          "term_used",
          "term_lot",
          "term_disappointed",
          "term_her",
          "term_made",
          "term_its",
          "term_these",
          "term_few",
          "term_into",
          "term_us",
          "term_say",
          "term_beer",
          "term_money",
          "term_vegas",
          "term_seen",
          "term_selection",
          "term_makes",
          "term_several",
          "term_samsung",
          "term_looking",
          "term_eat",
          "term_atmosphere",
          "term_feel",
          "term_waste",
          "term_cell",
          "term_happy",
          "term_watch",
          "term_watching",
          "term_line",
          "term_characters",
          "term_poor",
          "term_plot",
          "term_perfect",
          "term_enough",
          "term_scene",
          "term_minutes",
          "term_though",
          "term_down",
          "term_better",
          "term_talk",
          "term_customer",
          "term_story",
          "term_those",
          "term_never",
          "term_thing",
          "term_overall",
          "term_soon",
          "term_rather",
          "term_wanted",
          "term_waitress",
          "term_always",
          "term_long",
          "term_cannot",
          "term_barely",
          "term_every",
          "term_big",
          "term_quickly",
          "term_piece",
          "term_pizza",
          "term_yet",
          "term_performance",
          "term_play",
          "term_worth",
          "term_highly",
          "term_inside",
          "term_working",
          "term_bargain",
          "term_predictable",
          "term_comfortable",
          "term_put",
          "term_light",
          "term_absolutely",
          "term_look",
          "term_connection",
          "term_different",
          "term_anytime",
          "term_short",
          "term_should",
          "term_enjoyed",
          "term_show",
          "term_couldn",
          "term_salad",
          "term_none",
          "term_item",
          "term_doesn",
          "term_steak",
          "term_gets",
          "term_off",
          "term_new",
          "term_tried",
          "term_however",
          "term_both",
          "term_anyone",
          "term_such",
          "term_black",
          "term_could",
          "term_night",
          "term_another",
          "term_avoid",
          "term_stupid",
          "term_months",
          "term_less",
          "term_dead",
          "term_didn",
          "term_man",
          "term_keep",
          "term_day",
          "term_kind",
          "term_cool",
          "term_damn",
          "term_let",
          "term_loud",
          "term_despite",
          "term_over",
          "term_impressed",
          "term_considering",
          "term_interesting",
          "term_next",
          "term_ordered",
          "term_jabra",
          "term_music",
          "term_joke",
          "term_life",
          "term_little",
          "term_menu",
          "term_horrible",
          "term_drago",
          "term_deal",
          "term_nothing",
          "term_coming",
          "term_own",
          "term_experience",
          "term_helpful",
          "term_table",
          "term_amazing",
          "term_beep",
          "term_before",
          "term_wasn",
          "term_believe",
          "term_clean",
          "term_tell",
          "term_tasty",
          "term_support",
          "term_small",
          "term_super",
          "term_fast",
          "term_far",
          "term_actually",
          "term_friend",
          "term_staff",
          "term_while",
          "term_songs",
          "term_ambiance",
          "term_think",
          "term_awful",
          "term_awesome",
          "term_find",
          "term_unfortunately",
          "term_understand"
         ],
         "xaxis": "x",
         "y": [
          314,
          190,
          150,
          122,
          113,
          101,
          96,
          87,
          63,
          62,
          53,
          49,
          49,
          45,
          43,
          42,
          39,
          38,
          37,
          36,
          35,
          32,
          32,
          31,
          31,
          31,
          29,
          29,
          28,
          28,
          22,
          22,
          22,
          21,
          21,
          21,
          21,
          20,
          19,
          19,
          18,
          18,
          17,
          17,
          17,
          17,
          16,
          16,
          16,
          15,
          15,
          15,
          14,
          14,
          14,
          13,
          13,
          12,
          12,
          12,
          12,
          12,
          12,
          12,
          12,
          12,
          11,
          11,
          11,
          11,
          11,
          11,
          10,
          10,
          10,
          10,
          10,
          10,
          10,
          10,
          10,
          10,
          10,
          10,
          10,
          10,
          10,
          10,
          10,
          10,
          9,
          9,
          9,
          9,
          9,
          9,
          9,
          9,
          9,
          9,
          9,
          9,
          9,
          8,
          8,
          8,
          8,
          8,
          8,
          8,
          8,
          8,
          8,
          7,
          7,
          7,
          7,
          7,
          7,
          7,
          7,
          7,
          7,
          7,
          7,
          7,
          7,
          7,
          7,
          7,
          7,
          7,
          6,
          6,
          6,
          6,
          6,
          6,
          6,
          6,
          6,
          6,
          6,
          6,
          6,
          6,
          6,
          6,
          6,
          6,
          6,
          5,
          5,
          5,
          5,
          5,
          5,
          5,
          5,
          5,
          5,
          5,
          5,
          5,
          5,
          5,
          5,
          5,
          5,
          5,
          5,
          5,
          5,
          5,
          5,
          5,
          5,
          5,
          5,
          5,
          5,
          5,
          5,
          5,
          5,
          4,
          4,
          4,
          4,
          4,
          4,
          4,
          4,
          4,
          4,
          4,
          4,
          4,
          4,
          4,
          4,
          4,
          4,
          4,
          4,
          4,
          4,
          4,
          4,
          4,
          4,
          4,
          4,
          4,
          4,
          4,
          4,
          4,
          4,
          4,
          4,
          4,
          4,
          4,
          4,
          4,
          4,
          4,
          4,
          4,
          4,
          4,
          4,
          4,
          4,
          4,
          4,
          4,
          4,
          4,
          4,
          3,
          3,
          3,
          3,
          3,
          3,
          3,
          3,
          3,
          3,
          3,
          3,
          3,
          3,
          3,
          3,
          3,
          3,
          3,
          3,
          3,
          3,
          3,
          3,
          3,
          3,
          3,
          3,
          3,
          3,
          3,
          3,
          3,
          3,
          3,
          3,
          3,
          3,
          3,
          3,
          3,
          3,
          3,
          3,
          3,
          3,
          3,
          3,
          3,
          3,
          3,
          3,
          3,
          3,
          3,
          3,
          3,
          3,
          3
         ],
         "yaxis": "y"
        }
       ],
       "layout": {
        "barmode": "relative",
        "legend": {
         "tracegroupgap": 0
        },
        "margin": {
         "t": 60
        },
        "template": {
         "data": {
          "bar": [
           {
            "error_x": {
             "color": "#2a3f5f"
            },
            "error_y": {
             "color": "#2a3f5f"
            },
            "marker": {
             "line": {
              "color": "#E5ECF6",
              "width": 0.5
             }
            },
            "type": "bar"
           }
          ],
          "barpolar": [
           {
            "marker": {
             "line": {
              "color": "#E5ECF6",
              "width": 0.5
             }
            },
            "type": "barpolar"
           }
          ],
          "carpet": [
           {
            "aaxis": {
             "endlinecolor": "#2a3f5f",
             "gridcolor": "white",
             "linecolor": "white",
             "minorgridcolor": "white",
             "startlinecolor": "#2a3f5f"
            },
            "baxis": {
             "endlinecolor": "#2a3f5f",
             "gridcolor": "white",
             "linecolor": "white",
             "minorgridcolor": "white",
             "startlinecolor": "#2a3f5f"
            },
            "type": "carpet"
           }
          ],
          "choropleth": [
           {
            "colorbar": {
             "outlinewidth": 0,
             "ticks": ""
            },
            "type": "choropleth"
           }
          ],
          "contour": [
           {
            "colorbar": {
             "outlinewidth": 0,
             "ticks": ""
            },
            "colorscale": [
             [
              0,
              "#0d0887"
             ],
             [
              0.1111111111111111,
              "#46039f"
             ],
             [
              0.2222222222222222,
              "#7201a8"
             ],
             [
              0.3333333333333333,
              "#9c179e"
             ],
             [
              0.4444444444444444,
              "#bd3786"
             ],
             [
              0.5555555555555556,
              "#d8576b"
             ],
             [
              0.6666666666666666,
              "#ed7953"
             ],
             [
              0.7777777777777778,
              "#fb9f3a"
             ],
             [
              0.8888888888888888,
              "#fdca26"
             ],
             [
              1,
              "#f0f921"
             ]
            ],
            "type": "contour"
           }
          ],
          "contourcarpet": [
           {
            "colorbar": {
             "outlinewidth": 0,
             "ticks": ""
            },
            "type": "contourcarpet"
           }
          ],
          "heatmap": [
           {
            "colorbar": {
             "outlinewidth": 0,
             "ticks": ""
            },
            "colorscale": [
             [
              0,
              "#0d0887"
             ],
             [
              0.1111111111111111,
              "#46039f"
             ],
             [
              0.2222222222222222,
              "#7201a8"
             ],
             [
              0.3333333333333333,
              "#9c179e"
             ],
             [
              0.4444444444444444,
              "#bd3786"
             ],
             [
              0.5555555555555556,
              "#d8576b"
             ],
             [
              0.6666666666666666,
              "#ed7953"
             ],
             [
              0.7777777777777778,
              "#fb9f3a"
             ],
             [
              0.8888888888888888,
              "#fdca26"
             ],
             [
              1,
              "#f0f921"
             ]
            ],
            "type": "heatmap"
           }
          ],
          "heatmapgl": [
           {
            "colorbar": {
             "outlinewidth": 0,
             "ticks": ""
            },
            "colorscale": [
             [
              0,
              "#0d0887"
             ],
             [
              0.1111111111111111,
              "#46039f"
             ],
             [
              0.2222222222222222,
              "#7201a8"
             ],
             [
              0.3333333333333333,
              "#9c179e"
             ],
             [
              0.4444444444444444,
              "#bd3786"
             ],
             [
              0.5555555555555556,
              "#d8576b"
             ],
             [
              0.6666666666666666,
              "#ed7953"
             ],
             [
              0.7777777777777778,
              "#fb9f3a"
             ],
             [
              0.8888888888888888,
              "#fdca26"
             ],
             [
              1,
              "#f0f921"
             ]
            ],
            "type": "heatmapgl"
           }
          ],
          "histogram": [
           {
            "marker": {
             "colorbar": {
              "outlinewidth": 0,
              "ticks": ""
             }
            },
            "type": "histogram"
           }
          ],
          "histogram2d": [
           {
            "colorbar": {
             "outlinewidth": 0,
             "ticks": ""
            },
            "colorscale": [
             [
              0,
              "#0d0887"
             ],
             [
              0.1111111111111111,
              "#46039f"
             ],
             [
              0.2222222222222222,
              "#7201a8"
             ],
             [
              0.3333333333333333,
              "#9c179e"
             ],
             [
              0.4444444444444444,
              "#bd3786"
             ],
             [
              0.5555555555555556,
              "#d8576b"
             ],
             [
              0.6666666666666666,
              "#ed7953"
             ],
             [
              0.7777777777777778,
              "#fb9f3a"
             ],
             [
              0.8888888888888888,
              "#fdca26"
             ],
             [
              1,
              "#f0f921"
             ]
            ],
            "type": "histogram2d"
           }
          ],
          "histogram2dcontour": [
           {
            "colorbar": {
             "outlinewidth": 0,
             "ticks": ""
            },
            "colorscale": [
             [
              0,
              "#0d0887"
             ],
             [
              0.1111111111111111,
              "#46039f"
             ],
             [
              0.2222222222222222,
              "#7201a8"
             ],
             [
              0.3333333333333333,
              "#9c179e"
             ],
             [
              0.4444444444444444,
              "#bd3786"
             ],
             [
              0.5555555555555556,
              "#d8576b"
             ],
             [
              0.6666666666666666,
              "#ed7953"
             ],
             [
              0.7777777777777778,
              "#fb9f3a"
             ],
             [
              0.8888888888888888,
              "#fdca26"
             ],
             [
              1,
              "#f0f921"
             ]
            ],
            "type": "histogram2dcontour"
           }
          ],
          "mesh3d": [
           {
            "colorbar": {
             "outlinewidth": 0,
             "ticks": ""
            },
            "type": "mesh3d"
           }
          ],
          "parcoords": [
           {
            "line": {
             "colorbar": {
              "outlinewidth": 0,
              "ticks": ""
             }
            },
            "type": "parcoords"
           }
          ],
          "pie": [
           {
            "automargin": true,
            "type": "pie"
           }
          ],
          "scatter": [
           {
            "marker": {
             "colorbar": {
              "outlinewidth": 0,
              "ticks": ""
             }
            },
            "type": "scatter"
           }
          ],
          "scatter3d": [
           {
            "line": {
             "colorbar": {
              "outlinewidth": 0,
              "ticks": ""
             }
            },
            "marker": {
             "colorbar": {
              "outlinewidth": 0,
              "ticks": ""
             }
            },
            "type": "scatter3d"
           }
          ],
          "scattercarpet": [
           {
            "marker": {
             "colorbar": {
              "outlinewidth": 0,
              "ticks": ""
             }
            },
            "type": "scattercarpet"
           }
          ],
          "scattergeo": [
           {
            "marker": {
             "colorbar": {
              "outlinewidth": 0,
              "ticks": ""
             }
            },
            "type": "scattergeo"
           }
          ],
          "scattergl": [
           {
            "marker": {
             "colorbar": {
              "outlinewidth": 0,
              "ticks": ""
             }
            },
            "type": "scattergl"
           }
          ],
          "scattermapbox": [
           {
            "marker": {
             "colorbar": {
              "outlinewidth": 0,
              "ticks": ""
             }
            },
            "type": "scattermapbox"
           }
          ],
          "scatterpolar": [
           {
            "marker": {
             "colorbar": {
              "outlinewidth": 0,
              "ticks": ""
             }
            },
            "type": "scatterpolar"
           }
          ],
          "scatterpolargl": [
           {
            "marker": {
             "colorbar": {
              "outlinewidth": 0,
              "ticks": ""
             }
            },
            "type": "scatterpolargl"
           }
          ],
          "scatterternary": [
           {
            "marker": {
             "colorbar": {
              "outlinewidth": 0,
              "ticks": ""
             }
            },
            "type": "scatterternary"
           }
          ],
          "surface": [
           {
            "colorbar": {
             "outlinewidth": 0,
             "ticks": ""
            },
            "colorscale": [
             [
              0,
              "#0d0887"
             ],
             [
              0.1111111111111111,
              "#46039f"
             ],
             [
              0.2222222222222222,
              "#7201a8"
             ],
             [
              0.3333333333333333,
              "#9c179e"
             ],
             [
              0.4444444444444444,
              "#bd3786"
             ],
             [
              0.5555555555555556,
              "#d8576b"
             ],
             [
              0.6666666666666666,
              "#ed7953"
             ],
             [
              0.7777777777777778,
              "#fb9f3a"
             ],
             [
              0.8888888888888888,
              "#fdca26"
             ],
             [
              1,
              "#f0f921"
             ]
            ],
            "type": "surface"
           }
          ],
          "table": [
           {
            "cells": {
             "fill": {
              "color": "#EBF0F8"
             },
             "line": {
              "color": "white"
             }
            },
            "header": {
             "fill": {
              "color": "#C8D4E3"
             },
             "line": {
              "color": "white"
             }
            },
            "type": "table"
           }
          ]
         },
         "layout": {
          "annotationdefaults": {
           "arrowcolor": "#2a3f5f",
           "arrowhead": 0,
           "arrowwidth": 1
          },
          "coloraxis": {
           "colorbar": {
            "outlinewidth": 0,
            "ticks": ""
           }
          },
          "colorscale": {
           "diverging": [
            [
             0,
             "#8e0152"
            ],
            [
             0.1,
             "#c51b7d"
            ],
            [
             0.2,
             "#de77ae"
            ],
            [
             0.3,
             "#f1b6da"
            ],
            [
             0.4,
             "#fde0ef"
            ],
            [
             0.5,
             "#f7f7f7"
            ],
            [
             0.6,
             "#e6f5d0"
            ],
            [
             0.7,
             "#b8e186"
            ],
            [
             0.8,
             "#7fbc41"
            ],
            [
             0.9,
             "#4d9221"
            ],
            [
             1,
             "#276419"
            ]
           ],
           "sequential": [
            [
             0,
             "#0d0887"
            ],
            [
             0.1111111111111111,
             "#46039f"
            ],
            [
             0.2222222222222222,
             "#7201a8"
            ],
            [
             0.3333333333333333,
             "#9c179e"
            ],
            [
             0.4444444444444444,
             "#bd3786"
            ],
            [
             0.5555555555555556,
             "#d8576b"
            ],
            [
             0.6666666666666666,
             "#ed7953"
            ],
            [
             0.7777777777777778,
             "#fb9f3a"
            ],
            [
             0.8888888888888888,
             "#fdca26"
            ],
            [
             1,
             "#f0f921"
            ]
           ],
           "sequentialminus": [
            [
             0,
             "#0d0887"
            ],
            [
             0.1111111111111111,
             "#46039f"
            ],
            [
             0.2222222222222222,
             "#7201a8"
            ],
            [
             0.3333333333333333,
             "#9c179e"
            ],
            [
             0.4444444444444444,
             "#bd3786"
            ],
            [
             0.5555555555555556,
             "#d8576b"
            ],
            [
             0.6666666666666666,
             "#ed7953"
            ],
            [
             0.7777777777777778,
             "#fb9f3a"
            ],
            [
             0.8888888888888888,
             "#fdca26"
            ],
            [
             1,
             "#f0f921"
            ]
           ]
          },
          "colorway": [
           "#636efa",
           "#EF553B",
           "#00cc96",
           "#ab63fa",
           "#FFA15A",
           "#19d3f3",
           "#FF6692",
           "#B6E880",
           "#FF97FF",
           "#FECB52"
          ],
          "font": {
           "color": "#2a3f5f"
          },
          "geo": {
           "bgcolor": "white",
           "lakecolor": "white",
           "landcolor": "#E5ECF6",
           "showlakes": true,
           "showland": true,
           "subunitcolor": "white"
          },
          "hoverlabel": {
           "align": "left"
          },
          "hovermode": "closest",
          "mapbox": {
           "style": "light"
          },
          "paper_bgcolor": "white",
          "plot_bgcolor": "#E5ECF6",
          "polar": {
           "angularaxis": {
            "gridcolor": "white",
            "linecolor": "white",
            "ticks": ""
           },
           "bgcolor": "#E5ECF6",
           "radialaxis": {
            "gridcolor": "white",
            "linecolor": "white",
            "ticks": ""
           }
          },
          "scene": {
           "xaxis": {
            "backgroundcolor": "#E5ECF6",
            "gridcolor": "white",
            "gridwidth": 2,
            "linecolor": "white",
            "showbackground": true,
            "ticks": "",
            "zerolinecolor": "white"
           },
           "yaxis": {
            "backgroundcolor": "#E5ECF6",
            "gridcolor": "white",
            "gridwidth": 2,
            "linecolor": "white",
            "showbackground": true,
            "ticks": "",
            "zerolinecolor": "white"
           },
           "zaxis": {
            "backgroundcolor": "#E5ECF6",
            "gridcolor": "white",
            "gridwidth": 2,
            "linecolor": "white",
            "showbackground": true,
            "ticks": "",
            "zerolinecolor": "white"
           }
          },
          "shapedefaults": {
           "line": {
            "color": "#2a3f5f"
           }
          },
          "ternary": {
           "aaxis": {
            "gridcolor": "white",
            "linecolor": "white",
            "ticks": ""
           },
           "baxis": {
            "gridcolor": "white",
            "linecolor": "white",
            "ticks": ""
           },
           "bgcolor": "#E5ECF6",
           "caxis": {
            "gridcolor": "white",
            "linecolor": "white",
            "ticks": ""
           }
          },
          "title": {
           "x": 0.05
          },
          "xaxis": {
           "automargin": true,
           "gridcolor": "white",
           "linecolor": "white",
           "ticks": "",
           "title": {
            "standoff": 15
           },
           "zerolinecolor": "white",
           "zerolinewidth": 2
          },
          "yaxis": {
           "automargin": true,
           "gridcolor": "white",
           "linecolor": "white",
           "ticks": "",
           "title": {
            "standoff": 15
           },
           "zerolinecolor": "white",
           "zerolinewidth": 2
          }
         }
        },
        "xaxis": {
         "anchor": "y",
         "domain": [
          0,
          1
         ],
         "title": {
          "text": "term"
         }
        },
        "yaxis": {
         "anchor": "x",
         "domain": [
          0,
          1
         ],
         "title": {
          "text": "term_frequencies"
         }
        }
       }
      },
      "text/html": [
       "<div>                            <div id=\"86c195ab-64b2-45b7-8520-c654cb08f828\" class=\"plotly-graph-div\" style=\"height:525px; width:100%;\"></div>            <script type=\"text/javascript\">                require([\"plotly\"], function(Plotly) {                    window.PLOTLYENV=window.PLOTLYENV || {};                                    if (document.getElementById(\"86c195ab-64b2-45b7-8520-c654cb08f828\")) {                    Plotly.newPlot(                        \"86c195ab-64b2-45b7-8520-c654cb08f828\",                        [{\"alignmentgroup\": \"True\", \"hovertemplate\": \"term=%{x}<br>term_frequencies=%{y}<extra></extra>\", \"legendgroup\": \"\", \"marker\": {\"color\": \"#636efa\"}, \"name\": \"\", \"offsetgroup\": \"\", \"orientation\": \"v\", \"showlegend\": false, \"textposition\": \"auto\", \"type\": \"bar\", \"x\": [\"term_the\", \"term_and\", \"term_is\", \"term_it\", \"term_this\", \"term_to\", \"term_was\", \"term_of\", \"term_in\", \"term_not\", \"term_that\", \"term_with\", \"term_for\", \"term_good\", \"term_my\", \"term_very\", \"term_you\", \"term_on\", \"term_but\", \"term_great\", \"term_food\", \"term_be\", \"term_service\", \"term_there\", \"term_movie\", \"term_so\", \"term_have\", \"term_phone\", \"term_are\", \"term_all\", \"term_like\", \"term_as\", \"term_would\", \"term_one\", \"term_at\", \"term_place\", \"term_had\", \"term_will\", \"term_film\", \"term_bad\", \"term_an\", \"term_just\", \"term_here\", \"term_well\", \"term_we\", \"term_quality\", \"term_really\", \"term_up\", \"term_time\", \"term_when\", \"term_ever\", \"term_best\", \"term_from\", \"term_or\", \"term_has\", \"term_nice\", \"term_what\", \"term_love\", \"term_no\", \"term_they\", \"term_about\", \"term_by\", \"term_works\", \"term_do\", \"term_back\", \"term_recommend\", \"term_again\", \"term_don\", \"term_first\", \"term_who\", \"term_which\", \"term_if\", \"term_than\", \"term_me\", \"term_more\", \"term_their\", \"term_product\", \"term_he\", \"term_too\", \"term_your\", \"term_only\", \"term_go\", \"term_definitely\", \"term_sound\", \"term_out\", \"term_even\", \"term_going\", \"term_our\", \"term_after\", \"term_were\", \"term_two\", \"term_ve\", \"term_been\", \"term_work\", \"term_get\", \"term_most\", \"term_headset\", \"term_did\", \"term_many\", \"term_other\", \"term_also\", \"term_does\", \"term_real\", \"term_how\", \"term_some\", \"term_am\", \"term_people\", \"term_worst\", \"term_wonderful\", \"term_slow\", \"term_terrible\", \"term_see\", \"term_make\", \"term_use\", \"term_won\", \"term_friendly\", \"term_still\", \"term_beautiful\", \"term_excellent\", \"term_pretty\", \"term_battery\", \"term_price\", \"term_now\", \"term_them\", \"term_then\", \"term_his\", \"term_any\", \"term_ear\", \"term_quite\", \"term_acting\", \"term_can\", \"term_got\", \"term_restaurant\", \"term_camera\", \"term_came\", \"term_much\", \"term_sushi\", \"term_being\", \"term_character\", \"term_because\", \"term_way\", \"term_used\", \"term_lot\", \"term_disappointed\", \"term_her\", \"term_made\", \"term_its\", \"term_these\", \"term_few\", \"term_into\", \"term_us\", \"term_say\", \"term_beer\", \"term_money\", \"term_vegas\", \"term_seen\", \"term_selection\", \"term_makes\", \"term_several\", \"term_samsung\", \"term_looking\", \"term_eat\", \"term_atmosphere\", \"term_feel\", \"term_waste\", \"term_cell\", \"term_happy\", \"term_watch\", \"term_watching\", \"term_line\", \"term_characters\", \"term_poor\", \"term_plot\", \"term_perfect\", \"term_enough\", \"term_scene\", \"term_minutes\", \"term_though\", \"term_down\", \"term_better\", \"term_talk\", \"term_customer\", \"term_story\", \"term_those\", \"term_never\", \"term_thing\", \"term_overall\", \"term_soon\", \"term_rather\", \"term_wanted\", \"term_waitress\", \"term_always\", \"term_long\", \"term_cannot\", \"term_barely\", \"term_every\", \"term_big\", \"term_quickly\", \"term_piece\", \"term_pizza\", \"term_yet\", \"term_performance\", \"term_play\", \"term_worth\", \"term_highly\", \"term_inside\", \"term_working\", \"term_bargain\", \"term_predictable\", \"term_comfortable\", \"term_put\", \"term_light\", \"term_absolutely\", \"term_look\", \"term_connection\", \"term_different\", \"term_anytime\", \"term_short\", \"term_should\", \"term_enjoyed\", \"term_show\", \"term_couldn\", \"term_salad\", \"term_none\", \"term_item\", \"term_doesn\", \"term_steak\", \"term_gets\", \"term_off\", \"term_new\", \"term_tried\", \"term_however\", \"term_both\", \"term_anyone\", \"term_such\", \"term_black\", \"term_could\", \"term_night\", \"term_another\", \"term_avoid\", \"term_stupid\", \"term_months\", \"term_less\", \"term_dead\", \"term_didn\", \"term_man\", \"term_keep\", \"term_day\", \"term_kind\", \"term_cool\", \"term_damn\", \"term_let\", \"term_loud\", \"term_despite\", \"term_over\", \"term_impressed\", \"term_considering\", \"term_interesting\", \"term_next\", \"term_ordered\", \"term_jabra\", \"term_music\", \"term_joke\", \"term_life\", \"term_little\", \"term_menu\", \"term_horrible\", \"term_drago\", \"term_deal\", \"term_nothing\", \"term_coming\", \"term_own\", \"term_experience\", \"term_helpful\", \"term_table\", \"term_amazing\", \"term_beep\", \"term_before\", \"term_wasn\", \"term_believe\", \"term_clean\", \"term_tell\", \"term_tasty\", \"term_support\", \"term_small\", \"term_super\", \"term_fast\", \"term_far\", \"term_actually\", \"term_friend\", \"term_staff\", \"term_while\", \"term_songs\", \"term_ambiance\", \"term_think\", \"term_awful\", \"term_awesome\", \"term_find\", \"term_unfortunately\", \"term_understand\"], \"xaxis\": \"x\", \"y\": [314, 190, 150, 122, 113, 101, 96, 87, 63, 62, 53, 49, 49, 45, 43, 42, 39, 38, 37, 36, 35, 32, 32, 31, 31, 31, 29, 29, 28, 28, 22, 22, 22, 21, 21, 21, 21, 20, 19, 19, 18, 18, 17, 17, 17, 17, 16, 16, 16, 15, 15, 15, 14, 14, 14, 13, 13, 12, 12, 12, 12, 12, 12, 12, 12, 12, 11, 11, 11, 11, 11, 11, 10, 10, 10, 10, 10, 10, 10, 10, 10, 10, 10, 10, 10, 10, 10, 10, 10, 10, 9, 9, 9, 9, 9, 9, 9, 9, 9, 9, 9, 9, 9, 8, 8, 8, 8, 8, 8, 8, 8, 8, 8, 7, 7, 7, 7, 7, 7, 7, 7, 7, 7, 7, 7, 7, 7, 7, 7, 7, 7, 7, 6, 6, 6, 6, 6, 6, 6, 6, 6, 6, 6, 6, 6, 6, 6, 6, 6, 6, 6, 5, 5, 5, 5, 5, 5, 5, 5, 5, 5, 5, 5, 5, 5, 5, 5, 5, 5, 5, 5, 5, 5, 5, 5, 5, 5, 5, 5, 5, 5, 5, 5, 5, 5, 4, 4, 4, 4, 4, 4, 4, 4, 4, 4, 4, 4, 4, 4, 4, 4, 4, 4, 4, 4, 4, 4, 4, 4, 4, 4, 4, 4, 4, 4, 4, 4, 4, 4, 4, 4, 4, 4, 4, 4, 4, 4, 4, 4, 4, 4, 4, 4, 4, 4, 4, 4, 4, 4, 4, 4, 3, 3, 3, 3, 3, 3, 3, 3, 3, 3, 3, 3, 3, 3, 3, 3, 3, 3, 3, 3, 3, 3, 3, 3, 3, 3, 3, 3, 3, 3, 3, 3, 3, 3, 3, 3, 3, 3, 3, 3, 3, 3, 3, 3, 3, 3, 3, 3, 3, 3, 3, 3, 3, 3, 3, 3, 3, 3, 3], \"yaxis\": \"y\"}],                        {\"barmode\": \"relative\", \"legend\": {\"tracegroupgap\": 0}, \"margin\": {\"t\": 60}, \"template\": {\"data\": {\"bar\": [{\"error_x\": {\"color\": \"#2a3f5f\"}, \"error_y\": {\"color\": \"#2a3f5f\"}, \"marker\": {\"line\": {\"color\": \"#E5ECF6\", \"width\": 0.5}}, \"type\": \"bar\"}], \"barpolar\": [{\"marker\": {\"line\": {\"color\": \"#E5ECF6\", \"width\": 0.5}}, \"type\": \"barpolar\"}], \"carpet\": [{\"aaxis\": {\"endlinecolor\": \"#2a3f5f\", \"gridcolor\": \"white\", \"linecolor\": \"white\", \"minorgridcolor\": \"white\", \"startlinecolor\": \"#2a3f5f\"}, \"baxis\": {\"endlinecolor\": \"#2a3f5f\", \"gridcolor\": \"white\", \"linecolor\": \"white\", \"minorgridcolor\": \"white\", \"startlinecolor\": \"#2a3f5f\"}, \"type\": \"carpet\"}], \"choropleth\": [{\"colorbar\": {\"outlinewidth\": 0, \"ticks\": \"\"}, \"type\": \"choropleth\"}], \"contour\": [{\"colorbar\": {\"outlinewidth\": 0, \"ticks\": \"\"}, \"colorscale\": [[0.0, \"#0d0887\"], [0.1111111111111111, \"#46039f\"], [0.2222222222222222, \"#7201a8\"], [0.3333333333333333, \"#9c179e\"], [0.4444444444444444, \"#bd3786\"], [0.5555555555555556, \"#d8576b\"], [0.6666666666666666, \"#ed7953\"], [0.7777777777777778, \"#fb9f3a\"], [0.8888888888888888, \"#fdca26\"], [1.0, \"#f0f921\"]], \"type\": \"contour\"}], \"contourcarpet\": [{\"colorbar\": {\"outlinewidth\": 0, \"ticks\": \"\"}, \"type\": \"contourcarpet\"}], \"heatmap\": [{\"colorbar\": {\"outlinewidth\": 0, \"ticks\": \"\"}, \"colorscale\": [[0.0, \"#0d0887\"], [0.1111111111111111, \"#46039f\"], [0.2222222222222222, \"#7201a8\"], [0.3333333333333333, \"#9c179e\"], [0.4444444444444444, \"#bd3786\"], [0.5555555555555556, \"#d8576b\"], [0.6666666666666666, \"#ed7953\"], [0.7777777777777778, \"#fb9f3a\"], [0.8888888888888888, \"#fdca26\"], [1.0, \"#f0f921\"]], \"type\": \"heatmap\"}], \"heatmapgl\": [{\"colorbar\": {\"outlinewidth\": 0, \"ticks\": \"\"}, \"colorscale\": [[0.0, \"#0d0887\"], [0.1111111111111111, \"#46039f\"], [0.2222222222222222, \"#7201a8\"], [0.3333333333333333, \"#9c179e\"], [0.4444444444444444, \"#bd3786\"], [0.5555555555555556, \"#d8576b\"], [0.6666666666666666, \"#ed7953\"], [0.7777777777777778, \"#fb9f3a\"], [0.8888888888888888, \"#fdca26\"], [1.0, \"#f0f921\"]], \"type\": \"heatmapgl\"}], \"histogram\": [{\"marker\": {\"colorbar\": {\"outlinewidth\": 0, \"ticks\": \"\"}}, \"type\": \"histogram\"}], \"histogram2d\": [{\"colorbar\": {\"outlinewidth\": 0, \"ticks\": \"\"}, \"colorscale\": [[0.0, \"#0d0887\"], [0.1111111111111111, \"#46039f\"], [0.2222222222222222, \"#7201a8\"], [0.3333333333333333, \"#9c179e\"], [0.4444444444444444, \"#bd3786\"], [0.5555555555555556, \"#d8576b\"], [0.6666666666666666, \"#ed7953\"], [0.7777777777777778, \"#fb9f3a\"], [0.8888888888888888, \"#fdca26\"], [1.0, \"#f0f921\"]], \"type\": \"histogram2d\"}], \"histogram2dcontour\": [{\"colorbar\": {\"outlinewidth\": 0, \"ticks\": \"\"}, \"colorscale\": [[0.0, \"#0d0887\"], [0.1111111111111111, \"#46039f\"], [0.2222222222222222, \"#7201a8\"], [0.3333333333333333, \"#9c179e\"], [0.4444444444444444, \"#bd3786\"], [0.5555555555555556, \"#d8576b\"], [0.6666666666666666, \"#ed7953\"], [0.7777777777777778, \"#fb9f3a\"], [0.8888888888888888, \"#fdca26\"], [1.0, \"#f0f921\"]], \"type\": \"histogram2dcontour\"}], \"mesh3d\": [{\"colorbar\": {\"outlinewidth\": 0, \"ticks\": \"\"}, \"type\": \"mesh3d\"}], \"parcoords\": [{\"line\": {\"colorbar\": {\"outlinewidth\": 0, \"ticks\": \"\"}}, \"type\": \"parcoords\"}], \"pie\": [{\"automargin\": true, \"type\": \"pie\"}], \"scatter\": [{\"marker\": {\"colorbar\": {\"outlinewidth\": 0, \"ticks\": \"\"}}, \"type\": \"scatter\"}], \"scatter3d\": [{\"line\": {\"colorbar\": {\"outlinewidth\": 0, \"ticks\": \"\"}}, \"marker\": {\"colorbar\": {\"outlinewidth\": 0, \"ticks\": \"\"}}, \"type\": \"scatter3d\"}], \"scattercarpet\": [{\"marker\": {\"colorbar\": {\"outlinewidth\": 0, \"ticks\": \"\"}}, \"type\": \"scattercarpet\"}], \"scattergeo\": [{\"marker\": {\"colorbar\": {\"outlinewidth\": 0, \"ticks\": \"\"}}, \"type\": \"scattergeo\"}], \"scattergl\": [{\"marker\": {\"colorbar\": {\"outlinewidth\": 0, \"ticks\": \"\"}}, \"type\": \"scattergl\"}], \"scattermapbox\": [{\"marker\": {\"colorbar\": {\"outlinewidth\": 0, \"ticks\": \"\"}}, \"type\": \"scattermapbox\"}], \"scatterpolar\": [{\"marker\": {\"colorbar\": {\"outlinewidth\": 0, \"ticks\": \"\"}}, \"type\": \"scatterpolar\"}], \"scatterpolargl\": [{\"marker\": {\"colorbar\": {\"outlinewidth\": 0, \"ticks\": \"\"}}, \"type\": \"scatterpolargl\"}], \"scatterternary\": [{\"marker\": {\"colorbar\": {\"outlinewidth\": 0, \"ticks\": \"\"}}, \"type\": \"scatterternary\"}], \"surface\": [{\"colorbar\": {\"outlinewidth\": 0, \"ticks\": \"\"}, \"colorscale\": [[0.0, \"#0d0887\"], [0.1111111111111111, \"#46039f\"], [0.2222222222222222, \"#7201a8\"], [0.3333333333333333, \"#9c179e\"], [0.4444444444444444, \"#bd3786\"], [0.5555555555555556, \"#d8576b\"], [0.6666666666666666, \"#ed7953\"], [0.7777777777777778, \"#fb9f3a\"], [0.8888888888888888, \"#fdca26\"], [1.0, \"#f0f921\"]], \"type\": \"surface\"}], \"table\": [{\"cells\": {\"fill\": {\"color\": \"#EBF0F8\"}, \"line\": {\"color\": \"white\"}}, \"header\": {\"fill\": {\"color\": \"#C8D4E3\"}, \"line\": {\"color\": \"white\"}}, \"type\": \"table\"}]}, \"layout\": {\"annotationdefaults\": {\"arrowcolor\": \"#2a3f5f\", \"arrowhead\": 0, \"arrowwidth\": 1}, \"coloraxis\": {\"colorbar\": {\"outlinewidth\": 0, \"ticks\": \"\"}}, \"colorscale\": {\"diverging\": [[0, \"#8e0152\"], [0.1, \"#c51b7d\"], [0.2, \"#de77ae\"], [0.3, \"#f1b6da\"], [0.4, \"#fde0ef\"], [0.5, \"#f7f7f7\"], [0.6, \"#e6f5d0\"], [0.7, \"#b8e186\"], [0.8, \"#7fbc41\"], [0.9, \"#4d9221\"], [1, \"#276419\"]], \"sequential\": [[0.0, \"#0d0887\"], [0.1111111111111111, \"#46039f\"], [0.2222222222222222, \"#7201a8\"], [0.3333333333333333, \"#9c179e\"], [0.4444444444444444, \"#bd3786\"], [0.5555555555555556, \"#d8576b\"], [0.6666666666666666, \"#ed7953\"], [0.7777777777777778, \"#fb9f3a\"], [0.8888888888888888, \"#fdca26\"], [1.0, \"#f0f921\"]], \"sequentialminus\": [[0.0, \"#0d0887\"], [0.1111111111111111, \"#46039f\"], [0.2222222222222222, \"#7201a8\"], [0.3333333333333333, \"#9c179e\"], [0.4444444444444444, \"#bd3786\"], [0.5555555555555556, \"#d8576b\"], [0.6666666666666666, \"#ed7953\"], [0.7777777777777778, \"#fb9f3a\"], [0.8888888888888888, \"#fdca26\"], [1.0, \"#f0f921\"]]}, \"colorway\": [\"#636efa\", \"#EF553B\", \"#00cc96\", \"#ab63fa\", \"#FFA15A\", \"#19d3f3\", \"#FF6692\", \"#B6E880\", \"#FF97FF\", \"#FECB52\"], \"font\": {\"color\": \"#2a3f5f\"}, \"geo\": {\"bgcolor\": \"white\", \"lakecolor\": \"white\", \"landcolor\": \"#E5ECF6\", \"showlakes\": true, \"showland\": true, \"subunitcolor\": \"white\"}, \"hoverlabel\": {\"align\": \"left\"}, \"hovermode\": \"closest\", \"mapbox\": {\"style\": \"light\"}, \"paper_bgcolor\": \"white\", \"plot_bgcolor\": \"#E5ECF6\", \"polar\": {\"angularaxis\": {\"gridcolor\": \"white\", \"linecolor\": \"white\", \"ticks\": \"\"}, \"bgcolor\": \"#E5ECF6\", \"radialaxis\": {\"gridcolor\": \"white\", \"linecolor\": \"white\", \"ticks\": \"\"}}, \"scene\": {\"xaxis\": {\"backgroundcolor\": \"#E5ECF6\", \"gridcolor\": \"white\", \"gridwidth\": 2, \"linecolor\": \"white\", \"showbackground\": true, \"ticks\": \"\", \"zerolinecolor\": \"white\"}, \"yaxis\": {\"backgroundcolor\": \"#E5ECF6\", \"gridcolor\": \"white\", \"gridwidth\": 2, \"linecolor\": \"white\", \"showbackground\": true, \"ticks\": \"\", \"zerolinecolor\": \"white\"}, \"zaxis\": {\"backgroundcolor\": \"#E5ECF6\", \"gridcolor\": \"white\", \"gridwidth\": 2, \"linecolor\": \"white\", \"showbackground\": true, \"ticks\": \"\", \"zerolinecolor\": \"white\"}}, \"shapedefaults\": {\"line\": {\"color\": \"#2a3f5f\"}}, \"ternary\": {\"aaxis\": {\"gridcolor\": \"white\", \"linecolor\": \"white\", \"ticks\": \"\"}, \"baxis\": {\"gridcolor\": \"white\", \"linecolor\": \"white\", \"ticks\": \"\"}, \"bgcolor\": \"#E5ECF6\", \"caxis\": {\"gridcolor\": \"white\", \"linecolor\": \"white\", \"ticks\": \"\"}}, \"title\": {\"x\": 0.05}, \"xaxis\": {\"automargin\": true, \"gridcolor\": \"white\", \"linecolor\": \"white\", \"ticks\": \"\", \"title\": {\"standoff\": 15}, \"zerolinecolor\": \"white\", \"zerolinewidth\": 2}, \"yaxis\": {\"automargin\": true, \"gridcolor\": \"white\", \"linecolor\": \"white\", \"ticks\": \"\", \"title\": {\"standoff\": 15}, \"zerolinecolor\": \"white\", \"zerolinewidth\": 2}}}, \"xaxis\": {\"anchor\": \"y\", \"domain\": [0.0, 1.0], \"title\": {\"text\": \"term\"}}, \"yaxis\": {\"anchor\": \"x\", \"domain\": [0.0, 1.0], \"title\": {\"text\": \"term_frequencies\"}}},                        {\"responsive\": true}                    ).then(function(){\n",
       "                            \n",
       "var gd = document.getElementById('86c195ab-64b2-45b7-8520-c654cb08f828');\n",
       "var x = new MutationObserver(function (mutations, observer) {{\n",
       "        var display = window.getComputedStyle(gd).display;\n",
       "        if (!display || display === 'none') {{\n",
       "            console.log([gd, 'removed!']);\n",
       "            Plotly.purge(gd);\n",
       "            observer.disconnect();\n",
       "        }}\n",
       "}});\n",
       "\n",
       "// Listen for the removal of the full notebook cells\n",
       "var notebookContainer = gd.closest('#notebook-container');\n",
       "if (notebookContainer) {{\n",
       "    x.observe(notebookContainer, {childList: true});\n",
       "}}\n",
       "\n",
       "// Listen for the clearing of the current output cell\n",
       "var outputEl = gd.closest('.output');\n",
       "if (outputEl) {{\n",
       "    x.observe(outputEl, {childList: true});\n",
       "}}\n",
       "\n",
       "                        })                };                });            </script>        </div>"
      ]
     },
     "metadata": {},
     "output_type": "display_data"
    }
   ],
   "source": [
    "#Atrribute Transformation / Aggregation\n",
    "\n",
    "#Generate word frequency features\n",
    "count_vect = CountVectorizer()    \n",
    "X_counts = count_vect.fit_transform(df_sample.sentence)\n",
    "\n",
    "#fine array of term frequency\n",
    "term_frequencies = []\n",
    "for j in range(0,X_counts.shape[1]):\n",
    "    term_frequencies.append(sum(X_counts[:,j].toarray()))\n",
    "term_frequencies = np.asarray(X_counts.sum(axis=0))[0]\n",
    "\n",
    "#fine array of word term\n",
    "term = np.asarray([\"term_\"+str(i) for i in count_vect.get_feature_names()])\n",
    "\n",
    "#make DataFrame to plot bar chart, and sort the word frequency by descending order\n",
    "to_dict ={'term_frequencies' :term_frequencies,'term': term}\n",
    "to_df=pd.DataFrame(to_dict).sort_values(by=['term_frequencies'], ascending=False)\n",
    "\n",
    "#plot bar chart of top 300 word frequency\n",
    "fig = px.bar(to_df[0:300], x=\"term\", y=\"term_frequencies\")\n",
    "fig.show()"
   ]
  },
  {
   "cell_type": "code",
   "execution_count": 138,
   "metadata": {},
   "outputs": [],
   "source": [
    "#Generate TF-IDF features\n",
    "from sklearn.feature_extraction.text import TfidfVectorizer\n",
    "vectorizer = TfidfVectorizer()\n",
    "TF_IDF = vectorizer.fit_transform(df_sample['sentence'])"
   ]
  },
  {
   "cell_type": "code",
   "execution_count": 139,
   "metadata": {},
   "outputs": [
    {
     "data": {
      "text/plain": [
       "['10', '11', '12', '13', '15', '15g', '17', '1980', '20', '23']"
      ]
     },
     "execution_count": 139,
     "metadata": {},
     "output_type": "execute_result"
    }
   ],
   "source": [
    "vectorizer.get_feature_names()[:10]"
   ]
  },
  {
   "cell_type": "code",
   "execution_count": 140,
   "metadata": {},
   "outputs": [
    {
     "data": {
      "text/plain": [
       "(500, 1621)"
      ]
     },
     "execution_count": 140,
     "metadata": {},
     "output_type": "execute_result"
    }
   ],
   "source": [
    "TF_IDF.shape"
   ]
  },
  {
   "cell_type": "code",
   "execution_count": 142,
   "metadata": {},
   "outputs": [
    {
     "data": {
      "text/plain": [
       "LabelBinarizer()"
      ]
     },
     "execution_count": 142,
     "metadata": {},
     "output_type": "execute_result"
    }
   ],
   "source": [
    "#Discretization and Binarization\n",
    "from sklearn import preprocessing, metrics, decomposition, pipeline, dummy\n",
    "mlb = preprocessing.LabelBinarizer()\n",
    "mlb.fit(df_sample.sentiment)"
   ]
  },
  {
   "cell_type": "code",
   "execution_count": 143,
   "metadata": {},
   "outputs": [
    {
     "data": {
      "text/plain": [
       "array([0, 1], dtype=int64)"
      ]
     },
     "execution_count": 143,
     "metadata": {},
     "output_type": "execute_result"
    }
   ],
   "source": [
    "mlb.classes_"
   ]
  },
  {
   "cell_type": "code",
   "execution_count": 144,
   "metadata": {},
   "outputs": [],
   "source": [
    "#binary vector form for the input of ML\n",
    "df_sample['bin_sentiment'] = mlb.transform(df_sample['sentiment']).tolist()"
   ]
  },
  {
   "cell_type": "code",
   "execution_count": 145,
   "metadata": {},
   "outputs": [
    {
     "data": {
      "text/html": [
       "<div>\n",
       "<style scoped>\n",
       "    .dataframe tbody tr th:only-of-type {\n",
       "        vertical-align: middle;\n",
       "    }\n",
       "\n",
       "    .dataframe tbody tr th {\n",
       "        vertical-align: top;\n",
       "    }\n",
       "\n",
       "    .dataframe thead th {\n",
       "        text-align: right;\n",
       "    }\n",
       "</style>\n",
       "<table border=\"1\" class=\"dataframe\">\n",
       "  <thead>\n",
       "    <tr style=\"text-align: right;\">\n",
       "      <th></th>\n",
       "      <th>sentence</th>\n",
       "      <th>sentiment</th>\n",
       "      <th>company</th>\n",
       "      <th>sentiment_name</th>\n",
       "      <th>unigrams</th>\n",
       "      <th>bin_sentiment</th>\n",
       "    </tr>\n",
       "  </thead>\n",
       "  <tbody>\n",
       "    <tr>\n",
       "      <th>99</th>\n",
       "      <td>THERE IS NO PLOT OR STORYLINE!!</td>\n",
       "      <td>0</td>\n",
       "      <td>imdb</td>\n",
       "      <td>Negative</td>\n",
       "      <td>[THERE, IS, NO, PLOT, OR, STORYLINE, !, !]</td>\n",
       "      <td>[0]</td>\n",
       "    </tr>\n",
       "    <tr>\n",
       "      <th>293</th>\n",
       "      <td>DO NOT PURCHASE THIS PHONE.</td>\n",
       "      <td>0</td>\n",
       "      <td>amazon</td>\n",
       "      <td>Negative</td>\n",
       "      <td>[DO, NOT, PURCHASE, THIS, PHONE, .]</td>\n",
       "      <td>[0]</td>\n",
       "    </tr>\n",
       "    <tr>\n",
       "      <th>298</th>\n",
       "      <td>Customer service was terrible.</td>\n",
       "      <td>0</td>\n",
       "      <td>amazon</td>\n",
       "      <td>Negative</td>\n",
       "      <td>[Customer, service, was, terrible, .]</td>\n",
       "      <td>[0]</td>\n",
       "    </tr>\n",
       "    <tr>\n",
       "      <th>655</th>\n",
       "      <td>The fried rice was dry as well.</td>\n",
       "      <td>0</td>\n",
       "      <td>yelp</td>\n",
       "      <td>Negative</td>\n",
       "      <td>[The, fried, rice, was, dry, as, well, .]</td>\n",
       "      <td>[0]</td>\n",
       "    </tr>\n",
       "    <tr>\n",
       "      <th>885</th>\n",
       "      <td>When it opens, the battery connection is broke...</td>\n",
       "      <td>0</td>\n",
       "      <td>amazon</td>\n",
       "      <td>Negative</td>\n",
       "      <td>[When, it, opens, ,, the, battery, connection,...</td>\n",
       "      <td>[0]</td>\n",
       "    </tr>\n",
       "    <tr>\n",
       "      <th>96</th>\n",
       "      <td>Will be back again!</td>\n",
       "      <td>1</td>\n",
       "      <td>yelp</td>\n",
       "      <td>Positive</td>\n",
       "      <td>[Will, be, back, again, !]</td>\n",
       "      <td>[1]</td>\n",
       "    </tr>\n",
       "    <tr>\n",
       "      <th>999</th>\n",
       "      <td>Then, as if I hadn't wasted enough of my life ...</td>\n",
       "      <td>0</td>\n",
       "      <td>yelp</td>\n",
       "      <td>Negative</td>\n",
       "      <td>[Then, ,, as, if, I, had, n't, wasted, enough,...</td>\n",
       "      <td>[0]</td>\n",
       "    </tr>\n",
       "    <tr>\n",
       "      <th>799</th>\n",
       "      <td>I tried talking real loud but shouting on the ...</td>\n",
       "      <td>0</td>\n",
       "      <td>amazon</td>\n",
       "      <td>Negative</td>\n",
       "      <td>[I, tried, talking, real, loud, but, shouting,...</td>\n",
       "      <td>[0]</td>\n",
       "    </tr>\n",
       "    <tr>\n",
       "      <th>659</th>\n",
       "      <td>The atmosphere was great with a lovely duo of ...</td>\n",
       "      <td>1</td>\n",
       "      <td>yelp</td>\n",
       "      <td>Positive</td>\n",
       "      <td>[The, atmosphere, was, great, with, a, lovely,...</td>\n",
       "      <td>[1]</td>\n",
       "    </tr>\n",
       "  </tbody>\n",
       "</table>\n",
       "</div>"
      ],
      "text/plain": [
       "                                              sentence  sentiment company  \\\n",
       "99                   THERE IS NO PLOT OR STORYLINE!!            0    imdb   \n",
       "293                        DO NOT PURCHASE THIS PHONE.          0  amazon   \n",
       "298                     Customer service was terrible.          0  amazon   \n",
       "655                    The fried rice was dry as well.          0    yelp   \n",
       "885  When it opens, the battery connection is broke...          0  amazon   \n",
       "96                                 Will be back again!          1    yelp   \n",
       "999  Then, as if I hadn't wasted enough of my life ...          0    yelp   \n",
       "799  I tried talking real loud but shouting on the ...          0  amazon   \n",
       "659  The atmosphere was great with a lovely duo of ...          1    yelp   \n",
       "\n",
       "    sentiment_name                                           unigrams  \\\n",
       "99        Negative         [THERE, IS, NO, PLOT, OR, STORYLINE, !, !]   \n",
       "293       Negative                [DO, NOT, PURCHASE, THIS, PHONE, .]   \n",
       "298       Negative              [Customer, service, was, terrible, .]   \n",
       "655       Negative          [The, fried, rice, was, dry, as, well, .]   \n",
       "885       Negative  [When, it, opens, ,, the, battery, connection,...   \n",
       "96        Positive                         [Will, be, back, again, !]   \n",
       "999       Negative  [Then, ,, as, if, I, had, n't, wasted, enough,...   \n",
       "799       Negative  [I, tried, talking, real, loud, but, shouting,...   \n",
       "659       Positive  [The, atmosphere, was, great, with, a, lovely,...   \n",
       "\n",
       "    bin_sentiment  \n",
       "99            [0]  \n",
       "293           [0]  \n",
       "298           [0]  \n",
       "655           [0]  \n",
       "885           [0]  \n",
       "96            [1]  \n",
       "999           [0]  \n",
       "799           [0]  \n",
       "659           [1]  "
      ]
     },
     "execution_count": 145,
     "metadata": {},
     "output_type": "execute_result"
    }
   ],
   "source": [
    "df_sample[0:9]"
   ]
  },
  {
   "cell_type": "code",
   "execution_count": 146,
   "metadata": {},
   "outputs": [],
   "source": [
    "#Data Exploration\n",
    "\n",
    "# Retrieve 3 sentences for a random record, here, indexed at 50, 100 and 150\n",
    "document_to_transform_1 = []\n",
    "random_record_1 = df_sample.iloc[50]\n",
    "random_record_1 = random_record_1['sentence']\n",
    "document_to_transform_1.append(random_record_1)\n",
    "\n",
    "document_to_transform_2 = []\n",
    "random_record_2 = df_sample.iloc[100]\n",
    "random_record_2 = random_record_2['sentence']\n",
    "document_to_transform_2.append(random_record_2)\n",
    "\n",
    "document_to_transform_3 = []\n",
    "random_record_3 = df_sample.iloc[150]\n",
    "random_record_3 = random_record_3['sentence']\n",
    "document_to_transform_3.append(random_record_3)"
   ]
  },
  {
   "cell_type": "code",
   "execution_count": 147,
   "metadata": {},
   "outputs": [
    {
     "name": "stdout",
     "output_type": "stream",
     "text": [
      "['Great food and awesome service!']\n",
      "[\"Save your money.... I've had this item for 11 months now.\"]\n",
      "['Highly unrecommended.  ']\n"
     ]
    }
   ],
   "source": [
    "print(document_to_transform_1)\n",
    "print(document_to_transform_2)\n",
    "print(document_to_transform_3)"
   ]
  },
  {
   "cell_type": "code",
   "execution_count": 148,
   "metadata": {},
   "outputs": [
    {
     "name": "stdout",
     "output_type": "stream",
     "text": [
      "Let's take a look at the count vectors:\n",
      "[[0 0 0 ... 0 0 0]]\n",
      "[[0 1 0 ... 0 1 0]]\n",
      "[[0 0 0 ... 0 0 0]]\n"
     ]
    }
   ],
   "source": [
    "from sklearn.preprocessing import binarize\n",
    "\n",
    "# Transform sentence with Vectorizers\n",
    "document_vector_count_1 = count_vect.transform(document_to_transform_1)\n",
    "document_vector_count_2 = count_vect.transform(document_to_transform_2)\n",
    "document_vector_count_3 = count_vect.transform(document_to_transform_3)\n",
    "\n",
    "# Binarize vecors to simplify: 0 for abscence, 1 for prescence\n",
    "document_vector_count_1_bin = binarize(document_vector_count_1)\n",
    "document_vector_count_2_bin = binarize(document_vector_count_2)\n",
    "document_vector_count_3_bin = binarize(document_vector_count_3)\n",
    "\n",
    "# print\n",
    "print(\"Let's take a look at the count vectors:\")\n",
    "print(document_vector_count_1.todense())\n",
    "print(document_vector_count_2.todense())\n",
    "print(document_vector_count_3.todense())"
   ]
  },
  {
   "cell_type": "code",
   "execution_count": 149,
   "metadata": {},
   "outputs": [
    {
     "name": "stdout",
     "output_type": "stream",
     "text": [
      "Cosine Similarity using count bw 1 and 2: 0.000000\n",
      "Cosine Similarity using count bw 1 and 3: 0.000000\n",
      "Cosine Similarity using count bw 1 and 1: 1.000000\n",
      "Cosine Similarity using count bw 2 and 2: 1.000000\n"
     ]
    }
   ],
   "source": [
    "from sklearn.metrics.pairwise import cosine_similarity\n",
    "\n",
    "# Calculate Cosine Similarity\n",
    "cos_sim_count_1_2 = cosine_similarity(document_vector_count_1, document_vector_count_2, dense_output=True)\n",
    "cos_sim_count_1_3 = cosine_similarity(document_vector_count_1, document_vector_count_3, dense_output=True)\n",
    "cos_sim_count_1_1 = cosine_similarity(document_vector_count_1, document_vector_count_1, dense_output=True)\n",
    "cos_sim_count_2_2 = cosine_similarity(document_vector_count_2, document_vector_count_2, dense_output=True)\n",
    "\n",
    "# Print \n",
    "print(\"Cosine Similarity using count bw 1 and 2: %(x)f\" %{\"x\":cos_sim_count_1_2})\n",
    "print(\"Cosine Similarity using count bw 1 and 3: %(x)f\" %{\"x\":cos_sim_count_1_3})\n",
    "print(\"Cosine Similarity using count bw 1 and 1: %(x)f\" %{\"x\":cos_sim_count_1_1})\n",
    "print(\"Cosine Similarity using count bw 2 and 2: %(x)f\" %{\"x\":cos_sim_count_2_2})"
   ]
  },
  {
   "cell_type": "code",
   "execution_count": 150,
   "metadata": {},
   "outputs": [],
   "source": [
    "#As the result, cosine similarity of itself is 1. \n",
    "#But cosine similarity between different sentences is 0."
   ]
  },
  {
   "cell_type": "code",
   "execution_count": 151,
   "metadata": {
    "scrolled": true
   },
   "outputs": [],
   "source": [
    "# Split sampling data for train and test set  -- TF-IDF\n",
    "from sklearn.model_selection import train_test_split\n",
    "X_train1, X_test1, y_train1, y_test1 = train_test_split(TF_IDF, df_sample.sentiment, test_size=0.33, random_state=42)"
   ]
  },
  {
   "cell_type": "code",
   "execution_count": 152,
   "metadata": {},
   "outputs": [
    {
     "data": {
      "text/plain": [
       "MultinomialNB()"
      ]
     },
     "execution_count": 152,
     "metadata": {},
     "output_type": "execute_result"
    }
   ],
   "source": [
    "# Multinomial Naive Bayes classifier (since the term frequency is matter)  -- TF-IDF\n",
    "from sklearn.naive_bayes import MultinomialNB\n",
    "mnb = MultinomialNB()\n",
    "mnb.fit(X_train1, y_train1)\n",
    "MultinomialNB(alpha=1.0, class_prior=None, fit_prior=True)"
   ]
  },
  {
   "cell_type": "code",
   "execution_count": 153,
   "metadata": {},
   "outputs": [
    {
     "data": {
      "text/plain": [
       "array([1, 0, 0, 1, 0, 1, 1, 1, 0, 0, 0, 0, 0, 0, 0, 0, 1, 1, 0, 1, 1, 1,\n",
       "       0, 1, 1, 1, 1, 1, 0, 0, 0, 0, 1, 1, 0, 0, 1, 0, 1, 0, 0, 1, 0, 0,\n",
       "       0, 1, 0, 1, 0, 1, 1, 0, 0, 1, 1, 1, 1, 0, 0, 0, 0, 0, 1, 1, 1, 1,\n",
       "       1, 0, 0, 1, 1, 0, 0, 1, 0, 1, 1, 1, 1, 0, 1, 0, 1, 1, 0, 1, 1, 0,\n",
       "       1, 0, 0, 0, 1, 0, 1, 0, 0, 1, 0, 0, 0, 1, 1, 0, 0, 0, 1, 0, 1, 1,\n",
       "       1, 0, 0, 1, 1, 1, 1, 0, 1, 1, 1, 0, 0, 1, 1, 1, 0, 1, 1, 0, 1, 0,\n",
       "       0, 1, 1, 0, 1, 1, 0, 0, 1, 1, 1, 0, 0, 1, 0, 0, 1, 1, 0, 1, 1, 1,\n",
       "       1, 0, 1, 1, 0, 0, 1, 1, 1, 1, 1], dtype=int64)"
      ]
     },
     "execution_count": 153,
     "metadata": {},
     "output_type": "execute_result"
    }
   ],
   "source": [
    "#Let's see predicted result from the model -- TF-IDF\n",
    "y_pred1=mnb.predict(X_test1)\n",
    "y_pred1"
   ]
  },
  {
   "cell_type": "code",
   "execution_count": 154,
   "metadata": {},
   "outputs": [
    {
     "name": "stdout",
     "output_type": "stream",
     "text": [
      "accuracy:   0.752\n"
     ]
    }
   ],
   "source": [
    "# Find the accuracy of model -- TF-IDF\n",
    "score_TF_IDF = metrics.accuracy_score(y_test1, y_pred1)\n",
    "print(\"accuracy:   %0.3f\" % score_TF_IDF)"
   ]
  },
  {
   "cell_type": "code",
   "execution_count": 155,
   "metadata": {},
   "outputs": [],
   "source": [
    "# Split sampling data for train and test set  -- count vectorizer\n",
    "count_vect = CountVectorizer()\n",
    "df_sample_counts = count_vect.fit_transform(df_sample.sentence) \n",
    "from sklearn.model_selection import train_test_split\n",
    "X_train2, X_test2, y_train2, y_test2 = train_test_split(df_sample_counts, df_sample.sentiment, test_size=0.33, random_state=42)"
   ]
  },
  {
   "cell_type": "code",
   "execution_count": 156,
   "metadata": {},
   "outputs": [
    {
     "data": {
      "text/plain": [
       "MultinomialNB()"
      ]
     },
     "execution_count": 156,
     "metadata": {},
     "output_type": "execute_result"
    }
   ],
   "source": [
    "# Multinomial Naive Bayes classifier (since the term frequency is matter) -- count vectorizer\n",
    "from sklearn.naive_bayes import MultinomialNB\n",
    "mnb = MultinomialNB()\n",
    "mnb.fit(X_train2, y_train2)\n",
    "MultinomialNB(alpha=1.0, class_prior=None, fit_prior=True)"
   ]
  },
  {
   "cell_type": "code",
   "execution_count": 157,
   "metadata": {},
   "outputs": [
    {
     "data": {
      "text/plain": [
       "array([1, 0, 0, 1, 0, 1, 0, 0, 0, 0, 0, 0, 0, 0, 0, 0, 1, 1, 0, 1, 1, 1,\n",
       "       0, 0, 1, 1, 1, 1, 0, 0, 0, 0, 1, 1, 0, 0, 1, 0, 1, 0, 0, 1, 0, 0,\n",
       "       0, 1, 0, 1, 0, 1, 1, 0, 0, 1, 1, 1, 1, 0, 0, 0, 0, 0, 1, 1, 1, 1,\n",
       "       1, 0, 0, 1, 1, 0, 0, 1, 0, 1, 1, 1, 1, 0, 1, 0, 1, 1, 0, 1, 1, 0,\n",
       "       1, 0, 0, 0, 1, 0, 1, 0, 0, 1, 0, 0, 0, 1, 1, 0, 0, 0, 1, 0, 0, 1,\n",
       "       1, 0, 0, 1, 1, 1, 1, 0, 1, 1, 1, 0, 0, 1, 1, 1, 0, 1, 1, 0, 1, 0,\n",
       "       0, 1, 1, 0, 1, 1, 0, 0, 1, 1, 1, 0, 0, 1, 0, 0, 1, 1, 0, 1, 1, 1,\n",
       "       1, 0, 1, 1, 0, 0, 1, 1, 1, 1, 1], dtype=int64)"
      ]
     },
     "execution_count": 157,
     "metadata": {},
     "output_type": "execute_result"
    }
   ],
   "source": [
    "#Let's see predicted result from the model -- count vectorizer\n",
    "y_pred2=mnb.predict(X_test2)\n",
    "y_pred2"
   ]
  },
  {
   "cell_type": "code",
   "execution_count": 158,
   "metadata": {},
   "outputs": [
    {
     "name": "stdout",
     "output_type": "stream",
     "text": [
      "accuracy:   0.764\n"
     ]
    }
   ],
   "source": [
    "# Find the accuracy of model -- count vectorizer\n",
    "score_count_vectorizer = metrics.accuracy_score(y_test2, y_pred2)\n",
    "print(\"accuracy:   %0.3f\" % score_count_vectorizer)"
   ]
  },
  {
   "cell_type": "code",
   "execution_count": null,
   "metadata": {},
   "outputs": [],
   "source": [
    "#Summarize : In this case the accuracy of model from count vectorizer (accuracy: 0.764) is slightly better than the model from TF-IDF (accuracy:0.752)\n"
   ]
  },
  {
   "cell_type": "code",
   "execution_count": null,
   "metadata": {},
   "outputs": [],
   "source": [
    "#part 4\n",
    "In the lab1, what i think we should improve are:\n",
    "\n",
    "1.) we sampling data for 1000 samples.\n",
    "However, we didn't use these 1000 samples to process in the next step.\n",
    "we use the data from original X instead. in this point, it will cause overfitting model.\n",
    "\n",
    "2.)In the sampling data, we code X_sample = X.sample(n=1000)\n",
    "in this case, i think we should set the random_state, since it will create the same result of sampling. \n",
    "(sampling randomly but the same result everytime we run code.)\n",
    "So, the code should add \"random_state\" like this  --> df_sample=df.sample(n=500, random_state=1)  \n",
    "\n",
    "\n",
    "3.)In feature subset selection, the PCA step (both 2 and 3 dimensions)\n",
    "we can see that the majority of data group togather and also having some noises which we can see it obviously.\n",
    "in this case, I think we should eliminate noises before process to next step.\n",
    "\n",
    "4.)In the step of dealing with duplicated data,\n",
    "We create the dummy record and drop it all by below code.\n",
    "--> X.drop_duplicates(keep=False, inplace=True)\n",
    "In the real case, I think we should keep the original data, and drop only the duplicated.\n",
    "so, the code should be as below  \n",
    "--> df.drop_duplicates(keep='first', inplace=True)  \n",
    "(keep='first' is to keep the original data)\n"
   ]
  }
 ],
 "metadata": {
  "kernelspec": {
   "display_name": "Python 3",
   "language": "python",
   "name": "python3"
  },
  "language_info": {
   "codemirror_mode": {
    "name": "ipython",
    "version": 3
   },
   "file_extension": ".py",
   "mimetype": "text/x-python",
   "name": "python",
   "nbconvert_exporter": "python",
   "pygments_lexer": "ipython3",
   "version": "3.8.6"
  }
 },
 "nbformat": 4,
 "nbformat_minor": 2
}
